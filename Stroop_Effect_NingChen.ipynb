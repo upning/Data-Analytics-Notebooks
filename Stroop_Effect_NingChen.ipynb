{
 "cells": [
  {
   "cell_type": "markdown",
   "metadata": {},
   "source": [
    "# Stroop Effect\n",
    "\n",
    "[Project Instructions](https://docs.google.com/document/d/1-OkpZLjG_kX9J6LIQ5IltsqMzVWjh36QpnP2RYpVdPU/pub?embedded=True), [Project Rubics](https://review.udacity.com/#!/rubrics/71/view)\n",
    "\n",
    "## Question 1. Identify variables in the experiment\n",
    "\n",
    "- **Independent variable**: Word color congruency conditions (congruent and incongruent)\n",
    "- **Dependent variable**: Time taken for each individual to name the ink color\n",
    "\n",
    "\n",
    "## Quesiton 2a. Establish hypothesis\n",
    "\n",
    "* **μ<sub>c</sub>** = congruent population mean\n",
    "* **μ<sub>i</sub>** = incongruent population mean\n",
    "\n",
    "H<sub>0</sub>: μ<sub>c</sub> - μ<sub>i</sub> = 0\n",
    "* Null hypothesis: there’s NO difference in time taken between congruent and incongruent means in the population.\n",
    "\n",
    "H<sub>a</sub>: μ<sub>c</sub> - μ<sub>i</sub> ≠ 0\n",
    "* Alternative hypothesis: there IS a difference in time taken between congruent and incongruent means in the population.\n",
    "\n",
    "\n",
    "## Question 2b: Establish a statistical test\n",
    "\n",
    "||Assumptions|\n",
    "|:---|:---|\n",
    "|1|Interval or ratio scale of measurement, approximately interval (Scales of measurement)|\n",
    "|2|Random sampling from a defined population (Experimental design, or Research design)|\n",
    "|3|Samples or sets of data used to produce the difference scores are linked in the population through repeated measurement, natural association, or matching (Research design)|\n",
    "|4|Scores are normally distributed in the population; difference scores are normally distributed (Based on Central Limit Theorem)|\n",
    "\n",
    "Since I have no idea about population (unknown population parameters), I will perform **one-sample t-test**, to see if the alternative hypothesis reject or fail to reject the null hypothesis.\n",
    "\n",
    "The test is a **dependent test**, since it's tha same subject that being assigned two conditions in random order (within-subject design):\n",
    "* But the carry-over effects among dependent variables are neglect-able. Because each visual cognitive task your mind performs is independent, and it won’t train your mind everytime you do the task, based on [this article](http://scienceblogs.com/developingintelligence/2008/07/07/failures-in-cognitive-training/)."
   ]
  },
  {
   "cell_type": "markdown",
   "metadata": {},
   "source": [
    "And based on the alternative hypothesis, we should conduct `two-tailed test` for this hypothesis testing. The `α level` to prove `statistical significance` is 0.05, which means `P-value` of critical regions in both -/+ directions is 0.025."
   ]
  },
  {
   "cell_type": "code",
   "execution_count": 1,
   "metadata": {
    "collapsed": true
   },
   "outputs": [],
   "source": [
    "import pandas as pd\n",
    "import numpy as np\n",
    "import matplotlib as mpl\n",
    "import matplotlib.pyplot as plt"
   ]
  },
  {
   "cell_type": "code",
   "execution_count": 2,
   "metadata": {},
   "outputs": [
    {
     "data": {
      "text/html": [
       "<div>\n",
       "<table border=\"1\" class=\"dataframe\">\n",
       "  <thead>\n",
       "    <tr style=\"text-align: right;\">\n",
       "      <th></th>\n",
       "      <th>Congruent</th>\n",
       "      <th>Incongruent</th>\n",
       "    </tr>\n",
       "  </thead>\n",
       "  <tbody>\n",
       "    <tr>\n",
       "      <th>0</th>\n",
       "      <td>12.079</td>\n",
       "      <td>19.278</td>\n",
       "    </tr>\n",
       "    <tr>\n",
       "      <th>1</th>\n",
       "      <td>16.791</td>\n",
       "      <td>18.741</td>\n",
       "    </tr>\n",
       "    <tr>\n",
       "      <th>2</th>\n",
       "      <td>9.564</td>\n",
       "      <td>21.214</td>\n",
       "    </tr>\n",
       "    <tr>\n",
       "      <th>3</th>\n",
       "      <td>8.630</td>\n",
       "      <td>15.687</td>\n",
       "    </tr>\n",
       "    <tr>\n",
       "      <th>4</th>\n",
       "      <td>14.669</td>\n",
       "      <td>22.803</td>\n",
       "    </tr>\n",
       "    <tr>\n",
       "      <th>5</th>\n",
       "      <td>12.238</td>\n",
       "      <td>20.878</td>\n",
       "    </tr>\n",
       "    <tr>\n",
       "      <th>6</th>\n",
       "      <td>14.692</td>\n",
       "      <td>24.572</td>\n",
       "    </tr>\n",
       "    <tr>\n",
       "      <th>7</th>\n",
       "      <td>8.987</td>\n",
       "      <td>17.394</td>\n",
       "    </tr>\n",
       "    <tr>\n",
       "      <th>8</th>\n",
       "      <td>9.401</td>\n",
       "      <td>20.762</td>\n",
       "    </tr>\n",
       "    <tr>\n",
       "      <th>9</th>\n",
       "      <td>14.480</td>\n",
       "      <td>26.282</td>\n",
       "    </tr>\n",
       "    <tr>\n",
       "      <th>10</th>\n",
       "      <td>22.328</td>\n",
       "      <td>24.524</td>\n",
       "    </tr>\n",
       "    <tr>\n",
       "      <th>11</th>\n",
       "      <td>15.298</td>\n",
       "      <td>18.644</td>\n",
       "    </tr>\n",
       "    <tr>\n",
       "      <th>12</th>\n",
       "      <td>15.073</td>\n",
       "      <td>17.510</td>\n",
       "    </tr>\n",
       "    <tr>\n",
       "      <th>13</th>\n",
       "      <td>16.929</td>\n",
       "      <td>20.330</td>\n",
       "    </tr>\n",
       "    <tr>\n",
       "      <th>14</th>\n",
       "      <td>18.200</td>\n",
       "      <td>35.255</td>\n",
       "    </tr>\n",
       "    <tr>\n",
       "      <th>15</th>\n",
       "      <td>12.130</td>\n",
       "      <td>22.158</td>\n",
       "    </tr>\n",
       "    <tr>\n",
       "      <th>16</th>\n",
       "      <td>18.495</td>\n",
       "      <td>25.139</td>\n",
       "    </tr>\n",
       "    <tr>\n",
       "      <th>17</th>\n",
       "      <td>10.639</td>\n",
       "      <td>20.429</td>\n",
       "    </tr>\n",
       "    <tr>\n",
       "      <th>18</th>\n",
       "      <td>11.344</td>\n",
       "      <td>17.425</td>\n",
       "    </tr>\n",
       "    <tr>\n",
       "      <th>19</th>\n",
       "      <td>12.369</td>\n",
       "      <td>34.288</td>\n",
       "    </tr>\n",
       "    <tr>\n",
       "      <th>20</th>\n",
       "      <td>12.944</td>\n",
       "      <td>23.894</td>\n",
       "    </tr>\n",
       "    <tr>\n",
       "      <th>21</th>\n",
       "      <td>14.233</td>\n",
       "      <td>17.960</td>\n",
       "    </tr>\n",
       "    <tr>\n",
       "      <th>22</th>\n",
       "      <td>19.710</td>\n",
       "      <td>22.058</td>\n",
       "    </tr>\n",
       "    <tr>\n",
       "      <th>23</th>\n",
       "      <td>16.004</td>\n",
       "      <td>21.157</td>\n",
       "    </tr>\n",
       "  </tbody>\n",
       "</table>\n",
       "</div>"
      ],
      "text/plain": [
       "    Congruent  Incongruent\n",
       "0      12.079       19.278\n",
       "1      16.791       18.741\n",
       "2       9.564       21.214\n",
       "3       8.630       15.687\n",
       "4      14.669       22.803\n",
       "5      12.238       20.878\n",
       "6      14.692       24.572\n",
       "7       8.987       17.394\n",
       "8       9.401       20.762\n",
       "9      14.480       26.282\n",
       "10     22.328       24.524\n",
       "11     15.298       18.644\n",
       "12     15.073       17.510\n",
       "13     16.929       20.330\n",
       "14     18.200       35.255\n",
       "15     12.130       22.158\n",
       "16     18.495       25.139\n",
       "17     10.639       20.429\n",
       "18     11.344       17.425\n",
       "19     12.369       34.288\n",
       "20     12.944       23.894\n",
       "21     14.233       17.960\n",
       "22     19.710       22.058\n",
       "23     16.004       21.157"
      ]
     },
     "execution_count": 2,
     "metadata": {},
     "output_type": "execute_result"
    }
   ],
   "source": [
    "data_file = 'stroopdata.csv'\n",
    "\n",
    "dataFrame = pd.read_csv(data_file)\n",
    "dataFrame"
   ]
  },
  {
   "cell_type": "code",
   "execution_count": 3,
   "metadata": {
    "collapsed": true
   },
   "outputs": [],
   "source": [
    "# Get the sample size from data:\n",
    "congruent_n = len(dataFrame['Congruent'])\n",
    "incongruent_n = len(dataFrame['Incongruent'])"
   ]
  },
  {
   "cell_type": "markdown",
   "metadata": {},
   "source": [
    "## Question 3: Report descriptive statistics\n"
   ]
  },
  {
   "cell_type": "code",
   "execution_count": 4,
   "metadata": {},
   "outputs": [
    {
     "data": {
      "text/plain": [
       "count    24.000000\n",
       "mean     14.051125\n",
       "std       3.559358\n",
       "min       8.630000\n",
       "25%      11.895250\n",
       "50%      14.356500\n",
       "75%      16.200750\n",
       "max      22.328000\n",
       "Name: Congruent, dtype: float64"
      ]
     },
     "execution_count": 4,
     "metadata": {},
     "output_type": "execute_result"
    }
   ],
   "source": [
    "# Descriptive statistics of congruent participants sample\n",
    "dataFrame['Congruent'].describe()"
   ]
  },
  {
   "cell_type": "code",
   "execution_count": 5,
   "metadata": {},
   "outputs": [
    {
     "name": "stdout",
     "output_type": "stream",
     "text": [
      "Congruent Sample: MEAN = 14.05, SD = 3.56\n",
      "There's no outlier in this sample.\n"
     ]
    }
   ],
   "source": [
    "congruent_sample_mean = dataFrame['Congruent'].mean()\n",
    "congruent_sample_sd = dataFrame['Congruent'].std()\n",
    "\n",
    "print(\"Congruent Sample: MEAN = \"+\n",
    "str(round(congruent_sample_mean,2))+\", SD = \"+str(round(congruent_sample_sd,2))\n",
    ")\n",
    "\n",
    "# See if there's any outliers in this sample data\n",
    "congruent_sample_iqr = dataFrame['Congruent'].quantile(.75) - dataFrame['Congruent'].quantile(.25)\n",
    "congruent_sample_outlier_upper = dataFrame['Congruent'].quantile(.75) + 1.5*congruent_sample_iqr\n",
    "congruent_sample_outlier_lower = dataFrame['Congruent'].quantile(.25) - 1.5*congruent_sample_iqr\n",
    "\n",
    "if dataFrame['Congruent'].max() < congruent_sample_outlier_upper:\n",
    "    if dataFrame['Congruent'].min() > congruent_sample_outlier_lower:\n",
    "        print(\"There's no outlier in this sample.\")\n",
    "    else:\n",
    "        print(\"There're outliers in this sample since the minimum in the sample is smaller than the lower bound of outlier.\")\n",
    "else:\n",
    "    if dataFrame['Congruent'].min() < congruent_sample_outlier_lower:\n",
    "        print(\"There're outliers in this sample since the minimum in the sample is smaller than the lower bound of outlier, and the maximum in the sample is larger than the upper bound of outlier.\")\n",
    "    else:\n",
    "        print(\"There're outliers in this sample since the maximum in the sample is larger than the upper bound of outlier.\")"
   ]
  },
  {
   "cell_type": "code",
   "execution_count": 6,
   "metadata": {},
   "outputs": [
    {
     "data": {
      "text/plain": [
       "count    24.000000\n",
       "mean     22.015917\n",
       "std       4.797057\n",
       "min      15.687000\n",
       "25%      18.716750\n",
       "50%      21.017500\n",
       "75%      24.051500\n",
       "max      35.255000\n",
       "Name: Incongruent, dtype: float64"
      ]
     },
     "execution_count": 6,
     "metadata": {},
     "output_type": "execute_result"
    }
   ],
   "source": [
    "# Descriptive statistics of incongruent participants sample\n",
    "dataFrame['Incongruent'].describe()"
   ]
  },
  {
   "cell_type": "code",
   "execution_count": 7,
   "metadata": {},
   "outputs": [
    {
     "name": "stdout",
     "output_type": "stream",
     "text": [
      "Incongruent Sample: MEAN = 22.02, SD = 4.8\n",
      "There're outliers in this sample since the maximum in the sample is larger than the upper bound of outlier.\n"
     ]
    }
   ],
   "source": [
    "incongruent_sample_mean = dataFrame['Incongruent'].mean()\n",
    "incongruent_sample_sd = dataFrame['Incongruent'].std()\n",
    "\n",
    "print(\"Incongruent Sample: MEAN = \"+\n",
    "str(round(incongruent_sample_mean,2))+\", SD = \"+str(round(incongruent_sample_sd,2))\n",
    ")\n",
    "\n",
    "# See if there's any outliers in this sample data\n",
    "incongruent_sample_iqr = dataFrame['Incongruent'].quantile(.75) - dataFrame['Incongruent'].quantile(.25)\n",
    "incongruent_sample_outlier_upper = dataFrame['Incongruent'].quantile(.75) + 1.5*incongruent_sample_iqr\n",
    "incongruent_sample_outlier_lower = dataFrame['Incongruent'].quantile(.25) - 1.5*incongruent_sample_iqr\n",
    "\n",
    "if dataFrame['Incongruent'].max() < incongruent_sample_outlier_upper:\n",
    "    if dataFrame['Incongruent'].min() > incongruent_sample_outlier_lower:\n",
    "        print(\"There's no outlier in this sample.\")\n",
    "    else:\n",
    "        print(\"There're outliers in this sample since the minimum in the sample is smaller than the lower bound of outlier.\")\n",
    "else:\n",
    "    if dataFrame['Incongruent'].min() < incongruent_sample_outlier_lower:\n",
    "        print(\"There're outliers in this sample since the minimum in the sample is smaller than the lower bound of outlier, and the maximum in the sample is larger than the upper bound of outlier.\")\n",
    "    else:\n",
    "        print(\"There're outliers in this sample since the maximum in the sample is larger than the upper bound of outlier.\")"
   ]
  },
  {
   "cell_type": "markdown",
   "metadata": {},
   "source": [
    "Based on results above:\n",
    "* The average time for participants sample take to name under congruent words condition was 14.05 (*SD* = 3.56).\n",
    "* The average time for participants sample take to name under incongruent words condition was 22.02 (*SD* = 4.80).\n",
    "\n",
    "(Though there're outliers in the 'Incongruent' sample data, I think it's acceptible to ignore it for now, and not being distracted by its existence. Because the maximum number of the sample is not ridiculous large.)"
   ]
  },
  {
   "cell_type": "markdown",
   "metadata": {},
   "source": [
    "### Compute mean and sd of sample difference\n",
    "\n",
    "Since in our hypothesis, we focus on the difference between congruent population mean and incongruent population mean. \n",
    "\n",
    "By subtracting congruent sample group from incongruent sample group, we get a new data set, which is the **distribution of differences** between congruent samples and incongruent samples. We can compute the mean and the standard deviation of this new data set.\n",
    "\n",
    "With this new data set about independent sample of differences, we will analyze it."
   ]
  },
  {
   "cell_type": "code",
   "execution_count": 8,
   "metadata": {},
   "outputs": [
    {
     "name": "stdout",
     "output_type": "stream",
     "text": [
      "Sample of Difference: MEAN = -7.96, SD = 4.86\n"
     ]
    }
   ],
   "source": [
    "# Work out the difference for each dependent sample under congruent and incongruent samples\n",
    "difference_sample = dataFrame['Congruent'] - dataFrame['Incongruent']\n",
    "\n",
    "print(\"Sample of Difference: MEAN = \"+\n",
    "str(round(difference_sample.mean(),2))+\", SD = \"+str(round(difference_sample.std(),2))\n",
    ")"
   ]
  },
  {
   "cell_type": "markdown",
   "metadata": {},
   "source": [
    "Based on this result clearly indicated (`point estimate` for the differences), I might expect that generally, people spend more time in reading incongruent words, compared to congruent words."
   ]
  },
  {
   "cell_type": "markdown",
   "metadata": {},
   "source": [
    "## Question 4: Plot the data"
   ]
  },
  {
   "cell_type": "code",
   "execution_count": 9,
   "metadata": {
    "scrolled": true
   },
   "outputs": [
    {
     "name": "stdout",
     "output_type": "stream",
     "text": [
      "Populating the interactive namespace from numpy and matplotlib\n"
     ]
    }
   ],
   "source": [
    "%pylab inline\n",
    "%matplotlib inline"
   ]
  },
  {
   "cell_type": "code",
   "execution_count": 10,
   "metadata": {},
   "outputs": [
    {
     "name": "stdout",
     "output_type": "stream",
     "text": [
      "[0     12.079\n",
      "1     16.791\n",
      "2      9.564\n",
      "3      8.630\n",
      "4     14.669\n",
      "5     12.238\n",
      "6     14.692\n",
      "7      8.987\n",
      "8      9.401\n",
      "9     14.480\n",
      "10    22.328\n",
      "11    15.298\n",
      "12    15.073\n",
      "13    16.929\n",
      "14    18.200\n",
      "15    12.130\n",
      "16    18.495\n",
      "17    10.639\n",
      "18    11.344\n",
      "19    12.369\n",
      "20    12.944\n",
      "21    14.233\n",
      "22    19.710\n",
      "23    16.004\n",
      "Name: Congruent, dtype: float64, 0     19.278\n",
      "1     18.741\n",
      "2     21.214\n",
      "3     15.687\n",
      "4     22.803\n",
      "5     20.878\n",
      "6     24.572\n",
      "7     17.394\n",
      "8     20.762\n",
      "9     26.282\n",
      "10    24.524\n",
      "11    18.644\n",
      "12    17.510\n",
      "13    20.330\n",
      "14    35.255\n",
      "15    22.158\n",
      "16    25.139\n",
      "17    20.429\n",
      "18    17.425\n",
      "19    34.288\n",
      "20    23.894\n",
      "21    17.960\n",
      "22    22.058\n",
      "23    21.157\n",
      "Name: Incongruent, dtype: float64]\n"
     ]
    },
    {
     "name": "stderr",
     "output_type": "stream",
     "text": [
      "/anaconda/lib/python2.7/site-packages/matplotlib/__init__.py:1401: UserWarning:  This call to matplotlib.use() has no effect\n",
      "because the backend has already been chosen;\n",
      "matplotlib.use() must be called *before* pylab, matplotlib.pyplot,\n",
      "or matplotlib.backends is imported for the first time.\n",
      "\n",
      "  warnings.warn(_use_error_msg)\n"
     ]
    }
   ],
   "source": [
    "## agg backend is used to create plot as a .png file\n",
    "mpl.use('agg')\n",
    "\n",
    "data_to_plot = [dataFrame['Congruent'], dataFrame['Incongruent']]\n",
    "print data_to_plot"
   ]
  },
  {
   "cell_type": "code",
   "execution_count": 11,
   "metadata": {
    "scrolled": true
   },
   "outputs": [
    {
     "data": {
      "image/png": "[encoded data removed]",
      "text/plain": [
       "<matplotlib.figure.Figure at 0x10c09c090>"
      ]
     },
     "metadata": {},
     "output_type": "display_data"
    }
   ],
   "source": [
    "# Create a figure instance\n",
    "fig = plt.figure(1, figsize=(12, 8))\n",
    "\n",
    "# Create an axes instance\n",
    "ax = fig.add_subplot(111)\n",
    "\n",
    "# Create the boxplot\n",
    "# bp = ax.boxplot(data_to_plot)\n",
    "\n",
    "## add patch_artist=True option to ax.boxplot() \n",
    "## to get fill color\n",
    "bp = ax.boxplot(data_to_plot, patch_artist=True)\n",
    "\n",
    "## change outline color, fill color and linewidth of the boxes\n",
    "for box in bp['boxes']:\n",
    "    # change outline color\n",
    "    box.set( color='#407E95', linewidth=2)\n",
    "    # change fill color\n",
    "    box.set( facecolor = '#64B4EB' )\n",
    "\n",
    "## change color and linewidth of the whiskers\n",
    "for whisker in bp['whiskers']:\n",
    "    whisker.set(color='#0B5B91', linewidth=2)\n",
    "\n",
    "## change color and linewidth of the caps\n",
    "for cap in bp['caps']:\n",
    "    cap.set(color='#DF602E', linewidth=2)\n",
    "\n",
    "## change color and linewidth of the medians\n",
    "for median in bp['medians']:\n",
    "    median.set(color='#ffffff', linewidth=2)\n",
    "\n",
    "## change the style of fliers and their fill\n",
    "for flier in bp['fliers']:\n",
    "    flier.set(marker='o', color='#e7298a', alpha=0.5)\n",
    "\n",
    "#plt.yticks(np.arange(0, 42, 2.0))\n",
    "\n",
    "## Custom x-axis labels\n",
    "ax.set_xticklabels(['Congruent', 'Incongruent'])\n",
    "\n",
    "## Remove top axes and right axes ticks\n",
    "ax.get_xaxis().tick_bottom()\n",
    "ax.get_yaxis().tick_left()\n",
    "\n",
    "# Save the figure\n",
    "fig.savefig('fig1.png', bbox_inches='tight')"
   ]
  },
  {
   "cell_type": "markdown",
   "metadata": {},
   "source": [
    "We obviously can see incongruent box are right above those congruent box generally. That means, it's likely that stroop effect DOES make a difference in human visual cognition."
   ]
  },
  {
   "cell_type": "markdown",
   "metadata": {},
   "source": [
    "## Question 5: Perform the statistical test and interpret your results\n",
    "\n",
    "### Compute critical statistic value:\n",
    "1. First, compute `Degree of freedom` ↓\n",
    "2. Then, find out what `t-critical value` is under this hypothesis test ↓\n",
    "3. Compute `sample standard deviation` with the difference for each dependent sample under congruent and incongruent samples ↓\n",
    "4. Then, compute `Standard error of mean` with `sample standard deviation` ↓\n",
    "5. Finally, we get our `t-statistic` with difference between two sample means, which divided by `standard error of mean`."
   ]
  },
  {
   "cell_type": "code",
   "execution_count": 12,
   "metadata": {},
   "outputs": [
    {
     "name": "stdout",
     "output_type": "stream",
     "text": [
      "Degree of freedome of sample is 23\n"
     ]
    }
   ],
   "source": [
    "# Compute degree of freedom by n-1\n",
    "difference_sample_df = len(difference_sample)-1\n",
    "\n",
    "print(\"Degree of freedome of sample is \" + str(difference_sample_df))"
   ]
  },
  {
   "cell_type": "code",
   "execution_count": 13,
   "metadata": {},
   "outputs": [
    {
     "name": "stdout",
     "output_type": "stream",
     "text": [
      "t-critical value for a two-tailed test with α=0.05 is ±2.0687\n"
     ]
    }
   ],
   "source": [
    "# Based on degree of freedom and α level\n",
    "# Get t-critical value from http://www.graphpad.com/quickcalcs/statRatio2/\n",
    "t_critical_positive = 2.0687\n",
    "t_critical_negative = -2.0687\n",
    "\n",
    "print(\"t-critical value for a two-tailed test with α=0.05 is \" + \"±\" + str(t_critical_positive))"
   ]
  },
  {
   "cell_type": "code",
   "execution_count": 14,
   "metadata": {},
   "outputs": [
    {
     "name": "stdout",
     "output_type": "stream",
     "text": [
      "The standard error of samples is 0.99\n"
     ]
    }
   ],
   "source": [
    "# Since we have the difference sample, we can work out the new sample standard deviation\n",
    "# and compute standard error\n",
    "sample_se = difference_sample.std() / sqrt(len(difference_sample))\n",
    "\n",
    "print(\"The standard error of samples is \" + str(round(sample_se,2)))"
   ]
  },
  {
   "cell_type": "code",
   "execution_count": 15,
   "metadata": {},
   "outputs": [
    {
     "name": "stdout",
     "output_type": "stream",
     "text": [
      "The t-statistic is -8.021\n"
     ]
    }
   ],
   "source": [
    "# Get t-statistic with difference mean, which divided by standard error\n",
    "t_statistic = difference_sample.mean()/sample_se\n",
    "\n",
    "print(\"The t-statistic is \" + str(round(t_statistic,3)))"
   ]
  },
  {
   "cell_type": "markdown",
   "metadata": {},
   "source": [
    "### Compute confidence interval:\n",
    "1. First of all, based on `α level` and test we conduct, we can get `t-critical value` ↓\n",
    "2. Secondly, compute `Margin of error` with `t-critical value` and `standard error` ↓\n",
    "3. Finally, get `Confidence Interval` with `sample mean difference ± Margin of error`."
   ]
  },
  {
   "cell_type": "code",
   "execution_count": 16,
   "metadata": {},
   "outputs": [
    {
     "name": "stdout",
     "output_type": "stream",
     "text": [
      "95% Confidence interval is (-10.02, -5.91)\n"
     ]
    }
   ],
   "source": [
    "# Compute confidence interval\n",
    "margin_of_error = t_critical_positive * sample_se\n",
    "\n",
    "ci_lower = difference_sample.mean() - margin_of_error\n",
    "ci_upper = difference_sample.mean() + margin_of_error\n",
    "\n",
    "print(\"95% Confidence interval is (\"+str(round(ci_lower,2))+\", \"+str(round(ci_upper,2))+\")\")"
   ]
  },
  {
   "cell_type": "markdown",
   "metadata": {},
   "source": [
    "### Conclusions\n",
    "\n",
    "Now we have `t-statistic` (which is `-8.021`), and `t-critical values` (which is `±2.0687`). Since `-8.021` falls below `-2.0687` (take negative direction), therefore my statistical decision is:\n",
    "\n",
    "* **Reject the null hypothesis**\n",
    "\n",
    "It appears that average time for participants sample take to name under incongruent words condition are *significantly* different from samples under congruent words condition, at a significant level of .05. This result match my expectation as stated above, when computing sample mean difference."
   ]
  },
  {
   "cell_type": "markdown",
   "metadata": {},
   "source": [
    "## Question 6: Digging deeper and extending the investigation\n",
    "\n",
    "Before we extend the investigation, we need dig deeper into our current experiment, finding more perspectives to look at the result. We need to measure the size of a treatment effect that we observed.\n",
    "\n",
    "### Measure r-squared of above experiment\n",
    "\n",
    "**r<sup>2</sup>** tells you the proportion of the difference in time people take name words can be attributed to congruent or incongruent words."
   ]
  },
  {
   "cell_type": "code",
   "execution_count": 17,
   "metadata": {
    "scrolled": true
   },
   "outputs": [
    {
     "name": "stdout",
     "output_type": "stream",
     "text": [
      "74% of the difference in time people take name words can be explained by the character of whether the word is congruent or incongruent.\n"
     ]
    }
   ],
   "source": [
    "# Compute r-squared\n",
    "r_squared = (t_statistic**2) / (t_statistic**2 + (difference_sample_df))\n",
    "\n",
    "print(\"{0:.0f}%\".format(r_squared * 100) + \" of the difference in time people take name words can be explained by the character of whether the word is congruent or incongruent.\" )"
   ]
  },
  {
   "cell_type": "markdown",
   "metadata": {},
   "source": [
    "74% is actually quite a big number. So word color congruency condition does explain a lot about the difference."
   ]
  },
  {
   "cell_type": "markdown",
   "metadata": {},
   "source": [
    "### Extend the investigation\n",
    "\n",
    "Experiment Design\n",
    "* Dependent samples experiment → independent samples experiment, to minimize carry-over effect.\n",
    "* Add another controlled group for comparisons. The group will only name *pure black* words.\n",
    "\n",
    "Samples\n",
    "* Samples should be representative.\n",
    "* The sample size of each group should go bigger, to 31, in order to achieve more accurate and unbiased results.\n",
    "\n",
    "Controlled Group\n",
    "* Find out factors that might influence results: age, job, education...\n",
    "* Randomize how we divide into different groups."
   ]
  }
 ],
 "metadata": {
  "anaconda-cloud": {},
  "kernelspec": {
   "display_name": "Python 3",
   "language": "python",
   "name": "python3"
  },
  "language_info": {
   "codemirror_mode": {
    "name": "ipython",
    "version": 3
   },
   "file_extension": ".py",
   "mimetype": "text/x-python",
   "name": "python",
   "nbconvert_exporter": "python",
   "pygments_lexer": "ipython3",
   "version": "3.6.0"
  }
 },
 "nbformat": 4,
 "nbformat_minor": 2
}
