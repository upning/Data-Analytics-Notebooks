{
 "cells": [
  {
   "cell_type": "markdown",
   "metadata": {},
   "source": [
    "# Project: Investigate Titanic Dataset"
   ]
  },
  {
   "cell_type": "markdown",
   "metadata": {},
   "source": [
    "This notebook is a companion to the project [Investigate a Dataset](https://classroom.udacity.com/nanodegrees/nd002-cn-basic/parts/fc807c93-f9ac-4063-aece-a40826b57b16/modules/12f2744b-68c6-457a-9707-f3085633d701/lessons/3176718735239847/concepts/53862192490923). The notebook aims to walk through a typical data analysis workflow for solving problems.\n",
    "\n",
    "## Table of Contents\n",
    "<ul>\n",
    "<li><a href=\"#INTRODUCTION\">Introduction</a></li>\n",
    "<li><a href=\"#WRANGLING-PHASE\">Wrangling Phase</a></li>\n",
    "<li><a href=\"#EXPLORATORY-PHASE\">Exploratory Phase</a></li>\n",
    "<li><a href=\"#CONCLUSIONS\">Conclusion</a></li>\n",
    "</ul>\n",
    "\n",
    "---"
   ]
  },
  {
   "cell_type": "markdown",
   "metadata": {},
   "source": [
    "## INTRODUCTION\n",
    "We will go through \n",
    "\n",
    "1. <a href=\"#Familiarize-with-the-dataset\">Familiarize with the dataset</a>\n",
    "2. <a href=\"#Research-questions\">Research questions</a>\n",
    "\n",
    "Before thinking about any questions to ask, let's first make sure be familiarize with this dataset. From [the description page in Kaggle](https://www.kaggle.com/c/titanic), Titanic Dataset: \n",
    "\n",
    "> Contains demographics and passenger information from 891 of the 2224 passengers and crew on board the Titanic. You can view a description of this dataset on the Kaggle website, where the data was obtained.\n",
    "\n",
    "Here are the highlights to note:\n",
    "\n",
    "* On April 15, 1912, during her maiden voyage, the Titanic sank after colliding with an iceberg, killing 1502 out of 2224.\n",
    "* One of the reasons that the shipwreck led to such loss of life was that there were not enough lifeboats for the passengers and crew.\n",
    "* Although there was some element of luck involved in surviving the sinking, *some groups of people were more likely to survive than others*, such as women, children, and the upper-class.\n",
    "\n",
    "Now we have just developed some early understandings about *the domain of our problem*."
   ]
  },
  {
   "cell_type": "markdown",
   "metadata": {},
   "source": [
    "### Familiarize with the dataset\n"
   ]
  },
  {
   "cell_type": "code",
   "execution_count": 1,
   "metadata": {
    "collapsed": true
   },
   "outputs": [],
   "source": [
    "# Data analysis and wrangling\n",
    "import numpy as np\n",
    "import pandas as pd\n",
    "\n",
    "# Visualizations\n",
    "import matplotlib.pyplot as plt\n",
    "import seaborn as sns\n",
    "%matplotlib inline"
   ]
  },
  {
   "cell_type": "code",
   "execution_count": 2,
   "metadata": {
    "scrolled": true
   },
   "outputs": [
    {
     "name": "stdout",
     "output_type": "stream",
     "text": [
      "['PassengerId' 'Survived' 'Pclass' 'Name' 'Sex' 'Age' 'SibSp' 'Parch'\n",
      " 'Ticket' 'Fare' 'Cabin' 'Embarked']\n"
     ]
    }
   ],
   "source": [
    "# Acquire and load in the data\n",
    "filename = 'titanic-data.csv'\n",
    "titanic_df = pd.read_csv(filename)\n",
    "\n",
    "print(titanic_df.columns.values)"
   ]
  },
  {
   "cell_type": "markdown",
   "metadata": {},
   "source": [
    "#### Take a sneak peak into data"
   ]
  },
  {
   "cell_type": "code",
   "execution_count": 3,
   "metadata": {},
   "outputs": [
    {
     "data": {
      "text/html": [
       "<div>\n",
       "<style>\n",
       "    .dataframe thead tr:only-child th {\n",
       "        text-align: right;\n",
       "    }\n",
       "\n",
       "    .dataframe thead th {\n",
       "        text-align: left;\n",
       "    }\n",
       "\n",
       "    .dataframe tbody tr th {\n",
       "        vertical-align: top;\n",
       "    }\n",
       "</style>\n",
       "<table border=\"1\" class=\"dataframe\">\n",
       "  <thead>\n",
       "    <tr style=\"text-align: right;\">\n",
       "      <th></th>\n",
       "      <th>PassengerId</th>\n",
       "      <th>Survived</th>\n",
       "      <th>Pclass</th>\n",
       "      <th>Name</th>\n",
       "      <th>Sex</th>\n",
       "      <th>Age</th>\n",
       "      <th>SibSp</th>\n",
       "      <th>Parch</th>\n",
       "      <th>Ticket</th>\n",
       "      <th>Fare</th>\n",
       "      <th>Cabin</th>\n",
       "      <th>Embarked</th>\n",
       "    </tr>\n",
       "  </thead>\n",
       "  <tbody>\n",
       "    <tr>\n",
       "      <th>0</th>\n",
       "      <td>1</td>\n",
       "      <td>0</td>\n",
       "      <td>3</td>\n",
       "      <td>Braund, Mr. Owen Harris</td>\n",
       "      <td>male</td>\n",
       "      <td>22.0</td>\n",
       "      <td>1</td>\n",
       "      <td>0</td>\n",
       "      <td>A/5 21171</td>\n",
       "      <td>7.2500</td>\n",
       "      <td>NaN</td>\n",
       "      <td>S</td>\n",
       "    </tr>\n",
       "    <tr>\n",
       "      <th>1</th>\n",
       "      <td>2</td>\n",
       "      <td>1</td>\n",
       "      <td>1</td>\n",
       "      <td>Cumings, Mrs. John Bradley (Florence Briggs Th...</td>\n",
       "      <td>female</td>\n",
       "      <td>38.0</td>\n",
       "      <td>1</td>\n",
       "      <td>0</td>\n",
       "      <td>PC 17599</td>\n",
       "      <td>71.2833</td>\n",
       "      <td>C85</td>\n",
       "      <td>C</td>\n",
       "    </tr>\n",
       "    <tr>\n",
       "      <th>2</th>\n",
       "      <td>3</td>\n",
       "      <td>1</td>\n",
       "      <td>3</td>\n",
       "      <td>Heikkinen, Miss. Laina</td>\n",
       "      <td>female</td>\n",
       "      <td>26.0</td>\n",
       "      <td>0</td>\n",
       "      <td>0</td>\n",
       "      <td>STON/O2. 3101282</td>\n",
       "      <td>7.9250</td>\n",
       "      <td>NaN</td>\n",
       "      <td>S</td>\n",
       "    </tr>\n",
       "    <tr>\n",
       "      <th>3</th>\n",
       "      <td>4</td>\n",
       "      <td>1</td>\n",
       "      <td>1</td>\n",
       "      <td>Futrelle, Mrs. Jacques Heath (Lily May Peel)</td>\n",
       "      <td>female</td>\n",
       "      <td>35.0</td>\n",
       "      <td>1</td>\n",
       "      <td>0</td>\n",
       "      <td>113803</td>\n",
       "      <td>53.1000</td>\n",
       "      <td>C123</td>\n",
       "      <td>S</td>\n",
       "    </tr>\n",
       "    <tr>\n",
       "      <th>4</th>\n",
       "      <td>5</td>\n",
       "      <td>0</td>\n",
       "      <td>3</td>\n",
       "      <td>Allen, Mr. William Henry</td>\n",
       "      <td>male</td>\n",
       "      <td>35.0</td>\n",
       "      <td>0</td>\n",
       "      <td>0</td>\n",
       "      <td>373450</td>\n",
       "      <td>8.0500</td>\n",
       "      <td>NaN</td>\n",
       "      <td>S</td>\n",
       "    </tr>\n",
       "  </tbody>\n",
       "</table>\n",
       "</div>"
      ],
      "text/plain": [
       "   PassengerId  Survived  Pclass  \\\n",
       "0            1         0       3   \n",
       "1            2         1       1   \n",
       "2            3         1       3   \n",
       "3            4         1       1   \n",
       "4            5         0       3   \n",
       "\n",
       "                                                Name     Sex   Age  SibSp  \\\n",
       "0                            Braund, Mr. Owen Harris    male  22.0      1   \n",
       "1  Cumings, Mrs. John Bradley (Florence Briggs Th...  female  38.0      1   \n",
       "2                             Heikkinen, Miss. Laina  female  26.0      0   \n",
       "3       Futrelle, Mrs. Jacques Heath (Lily May Peel)  female  35.0      1   \n",
       "4                           Allen, Mr. William Henry    male  35.0      0   \n",
       "\n",
       "   Parch            Ticket     Fare Cabin Embarked  \n",
       "0      0         A/5 21171   7.2500   NaN        S  \n",
       "1      0          PC 17599  71.2833   C85        C  \n",
       "2      0  STON/O2. 3101282   7.9250   NaN        S  \n",
       "3      0            113803  53.1000  C123        S  \n",
       "4      0            373450   8.0500   NaN        S  "
      ]
     },
     "execution_count": 3,
     "metadata": {},
     "output_type": "execute_result"
    }
   ],
   "source": [
    "# Print out a few lines from head\n",
    "titanic_df.head()"
   ]
  },
  {
   "cell_type": "code",
   "execution_count": 4,
   "metadata": {
    "scrolled": true
   },
   "outputs": [
    {
     "data": {
      "text/html": [
       "<div>\n",
       "<style>\n",
       "    .dataframe thead tr:only-child th {\n",
       "        text-align: right;\n",
       "    }\n",
       "\n",
       "    .dataframe thead th {\n",
       "        text-align: left;\n",
       "    }\n",
       "\n",
       "    .dataframe tbody tr th {\n",
       "        vertical-align: top;\n",
       "    }\n",
       "</style>\n",
       "<table border=\"1\" class=\"dataframe\">\n",
       "  <thead>\n",
       "    <tr style=\"text-align: right;\">\n",
       "      <th></th>\n",
       "      <th>PassengerId</th>\n",
       "      <th>Survived</th>\n",
       "      <th>Pclass</th>\n",
       "      <th>Name</th>\n",
       "      <th>Sex</th>\n",
       "      <th>Age</th>\n",
       "      <th>SibSp</th>\n",
       "      <th>Parch</th>\n",
       "      <th>Ticket</th>\n",
       "      <th>Fare</th>\n",
       "      <th>Cabin</th>\n",
       "      <th>Embarked</th>\n",
       "    </tr>\n",
       "  </thead>\n",
       "  <tbody>\n",
       "    <tr>\n",
       "      <th>886</th>\n",
       "      <td>887</td>\n",
       "      <td>0</td>\n",
       "      <td>2</td>\n",
       "      <td>Montvila, Rev. Juozas</td>\n",
       "      <td>male</td>\n",
       "      <td>27.0</td>\n",
       "      <td>0</td>\n",
       "      <td>0</td>\n",
       "      <td>211536</td>\n",
       "      <td>13.00</td>\n",
       "      <td>NaN</td>\n",
       "      <td>S</td>\n",
       "    </tr>\n",
       "    <tr>\n",
       "      <th>887</th>\n",
       "      <td>888</td>\n",
       "      <td>1</td>\n",
       "      <td>1</td>\n",
       "      <td>Graham, Miss. Margaret Edith</td>\n",
       "      <td>female</td>\n",
       "      <td>19.0</td>\n",
       "      <td>0</td>\n",
       "      <td>0</td>\n",
       "      <td>112053</td>\n",
       "      <td>30.00</td>\n",
       "      <td>B42</td>\n",
       "      <td>S</td>\n",
       "    </tr>\n",
       "    <tr>\n",
       "      <th>888</th>\n",
       "      <td>889</td>\n",
       "      <td>0</td>\n",
       "      <td>3</td>\n",
       "      <td>Johnston, Miss. Catherine Helen \"Carrie\"</td>\n",
       "      <td>female</td>\n",
       "      <td>NaN</td>\n",
       "      <td>1</td>\n",
       "      <td>2</td>\n",
       "      <td>W./C. 6607</td>\n",
       "      <td>23.45</td>\n",
       "      <td>NaN</td>\n",
       "      <td>S</td>\n",
       "    </tr>\n",
       "    <tr>\n",
       "      <th>889</th>\n",
       "      <td>890</td>\n",
       "      <td>1</td>\n",
       "      <td>1</td>\n",
       "      <td>Behr, Mr. Karl Howell</td>\n",
       "      <td>male</td>\n",
       "      <td>26.0</td>\n",
       "      <td>0</td>\n",
       "      <td>0</td>\n",
       "      <td>111369</td>\n",
       "      <td>30.00</td>\n",
       "      <td>C148</td>\n",
       "      <td>C</td>\n",
       "    </tr>\n",
       "    <tr>\n",
       "      <th>890</th>\n",
       "      <td>891</td>\n",
       "      <td>0</td>\n",
       "      <td>3</td>\n",
       "      <td>Dooley, Mr. Patrick</td>\n",
       "      <td>male</td>\n",
       "      <td>32.0</td>\n",
       "      <td>0</td>\n",
       "      <td>0</td>\n",
       "      <td>370376</td>\n",
       "      <td>7.75</td>\n",
       "      <td>NaN</td>\n",
       "      <td>Q</td>\n",
       "    </tr>\n",
       "  </tbody>\n",
       "</table>\n",
       "</div>"
      ],
      "text/plain": [
       "     PassengerId  Survived  Pclass                                      Name  \\\n",
       "886          887         0       2                     Montvila, Rev. Juozas   \n",
       "887          888         1       1              Graham, Miss. Margaret Edith   \n",
       "888          889         0       3  Johnston, Miss. Catherine Helen \"Carrie\"   \n",
       "889          890         1       1                     Behr, Mr. Karl Howell   \n",
       "890          891         0       3                       Dooley, Mr. Patrick   \n",
       "\n",
       "        Sex   Age  SibSp  Parch      Ticket   Fare Cabin Embarked  \n",
       "886    male  27.0      0      0      211536  13.00   NaN        S  \n",
       "887  female  19.0      0      0      112053  30.00   B42        S  \n",
       "888  female   NaN      1      2  W./C. 6607  23.45   NaN        S  \n",
       "889    male  26.0      0      0      111369  30.00  C148        C  \n",
       "890    male  32.0      0      0      370376   7.75   NaN        Q  "
      ]
     },
     "execution_count": 4,
     "metadata": {},
     "output_type": "execute_result"
    }
   ],
   "source": [
    "# Print out a few lines from tail\n",
    "titanic_df.tail()"
   ]
  },
  {
   "cell_type": "code",
   "execution_count": 5,
   "metadata": {},
   "outputs": [
    {
     "data": {
      "text/html": [
       "<div>\n",
       "<style>\n",
       "    .dataframe thead tr:only-child th {\n",
       "        text-align: right;\n",
       "    }\n",
       "\n",
       "    .dataframe thead th {\n",
       "        text-align: left;\n",
       "    }\n",
       "\n",
       "    .dataframe tbody tr th {\n",
       "        vertical-align: top;\n",
       "    }\n",
       "</style>\n",
       "<table border=\"1\" class=\"dataframe\">\n",
       "  <thead>\n",
       "    <tr style=\"text-align: right;\">\n",
       "      <th></th>\n",
       "      <th>PassengerId</th>\n",
       "      <th>Survived</th>\n",
       "      <th>Pclass</th>\n",
       "      <th>Age</th>\n",
       "      <th>SibSp</th>\n",
       "      <th>Parch</th>\n",
       "      <th>Fare</th>\n",
       "    </tr>\n",
       "  </thead>\n",
       "  <tbody>\n",
       "    <tr>\n",
       "      <th>count</th>\n",
       "      <td>891.000000</td>\n",
       "      <td>891.000000</td>\n",
       "      <td>891.000000</td>\n",
       "      <td>714.000000</td>\n",
       "      <td>891.000000</td>\n",
       "      <td>891.000000</td>\n",
       "      <td>891.000000</td>\n",
       "    </tr>\n",
       "    <tr>\n",
       "      <th>mean</th>\n",
       "      <td>446.000000</td>\n",
       "      <td>0.383838</td>\n",
       "      <td>2.308642</td>\n",
       "      <td>29.699118</td>\n",
       "      <td>0.523008</td>\n",
       "      <td>0.381594</td>\n",
       "      <td>32.204208</td>\n",
       "    </tr>\n",
       "    <tr>\n",
       "      <th>std</th>\n",
       "      <td>257.353842</td>\n",
       "      <td>0.486592</td>\n",
       "      <td>0.836071</td>\n",
       "      <td>14.526497</td>\n",
       "      <td>1.102743</td>\n",
       "      <td>0.806057</td>\n",
       "      <td>49.693429</td>\n",
       "    </tr>\n",
       "    <tr>\n",
       "      <th>min</th>\n",
       "      <td>1.000000</td>\n",
       "      <td>0.000000</td>\n",
       "      <td>1.000000</td>\n",
       "      <td>0.420000</td>\n",
       "      <td>0.000000</td>\n",
       "      <td>0.000000</td>\n",
       "      <td>0.000000</td>\n",
       "    </tr>\n",
       "    <tr>\n",
       "      <th>25%</th>\n",
       "      <td>223.500000</td>\n",
       "      <td>0.000000</td>\n",
       "      <td>2.000000</td>\n",
       "      <td>20.125000</td>\n",
       "      <td>0.000000</td>\n",
       "      <td>0.000000</td>\n",
       "      <td>7.910400</td>\n",
       "    </tr>\n",
       "    <tr>\n",
       "      <th>50%</th>\n",
       "      <td>446.000000</td>\n",
       "      <td>0.000000</td>\n",
       "      <td>3.000000</td>\n",
       "      <td>28.000000</td>\n",
       "      <td>0.000000</td>\n",
       "      <td>0.000000</td>\n",
       "      <td>14.454200</td>\n",
       "    </tr>\n",
       "    <tr>\n",
       "      <th>75%</th>\n",
       "      <td>668.500000</td>\n",
       "      <td>1.000000</td>\n",
       "      <td>3.000000</td>\n",
       "      <td>38.000000</td>\n",
       "      <td>1.000000</td>\n",
       "      <td>0.000000</td>\n",
       "      <td>31.000000</td>\n",
       "    </tr>\n",
       "    <tr>\n",
       "      <th>max</th>\n",
       "      <td>891.000000</td>\n",
       "      <td>1.000000</td>\n",
       "      <td>3.000000</td>\n",
       "      <td>80.000000</td>\n",
       "      <td>8.000000</td>\n",
       "      <td>6.000000</td>\n",
       "      <td>512.329200</td>\n",
       "    </tr>\n",
       "  </tbody>\n",
       "</table>\n",
       "</div>"
      ],
      "text/plain": [
       "       PassengerId    Survived      Pclass         Age       SibSp  \\\n",
       "count   891.000000  891.000000  891.000000  714.000000  891.000000   \n",
       "mean    446.000000    0.383838    2.308642   29.699118    0.523008   \n",
       "std     257.353842    0.486592    0.836071   14.526497    1.102743   \n",
       "min       1.000000    0.000000    1.000000    0.420000    0.000000   \n",
       "25%     223.500000    0.000000    2.000000   20.125000    0.000000   \n",
       "50%     446.000000    0.000000    3.000000   28.000000    0.000000   \n",
       "75%     668.500000    1.000000    3.000000   38.000000    1.000000   \n",
       "max     891.000000    1.000000    3.000000   80.000000    8.000000   \n",
       "\n",
       "            Parch        Fare  \n",
       "count  891.000000  891.000000  \n",
       "mean     0.381594   32.204208  \n",
       "std      0.806057   49.693429  \n",
       "min      0.000000    0.000000  \n",
       "25%      0.000000    7.910400  \n",
       "50%      0.000000   14.454200  \n",
       "75%      0.000000   31.000000  \n",
       "max      6.000000  512.329200  "
      ]
     },
     "execution_count": 5,
     "metadata": {},
     "output_type": "execute_result"
    }
   ],
   "source": [
    "# Describe data of numerical data types\n",
    "titanic_df.describe(include=[np.number])"
   ]
  },
  {
   "cell_type": "markdown",
   "metadata": {},
   "source": [
    "Based on this description of numerical features in dataset:\n",
    "* Total samples are 891 or 40% of the actual number of passengers on board the Titanic (2,224).\n",
    "* `Survived` is a categorical feature with 0 or 1 values, and around 38% samples survived representative of the actual survival rate at 32%.\n",
    "* At least half of passengers (> 50%) did not travel with families.\n",
    "* Most passengers (> 75%) did not travel with parents or children.\n",
    "* At lease half of passengers (> 50%) are young (< 30), and they are not upper class (> 75% are 2nd or 3rd ticket class).\n",
    "* Fares varied significantly, the top 5% passengers pay fares way more than the rest 95%.\n",
    "* Few elderly passengers (< 1%) within age range 65-80."
   ]
  },
  {
   "cell_type": "code",
   "execution_count": 6,
   "metadata": {},
   "outputs": [
    {
     "data": {
      "text/html": [
       "<div>\n",
       "<style>\n",
       "    .dataframe thead tr:only-child th {\n",
       "        text-align: right;\n",
       "    }\n",
       "\n",
       "    .dataframe thead th {\n",
       "        text-align: left;\n",
       "    }\n",
       "\n",
       "    .dataframe tbody tr th {\n",
       "        vertical-align: top;\n",
       "    }\n",
       "</style>\n",
       "<table border=\"1\" class=\"dataframe\">\n",
       "  <thead>\n",
       "    <tr style=\"text-align: right;\">\n",
       "      <th></th>\n",
       "      <th>Name</th>\n",
       "      <th>Sex</th>\n",
       "      <th>Ticket</th>\n",
       "      <th>Cabin</th>\n",
       "      <th>Embarked</th>\n",
       "    </tr>\n",
       "  </thead>\n",
       "  <tbody>\n",
       "    <tr>\n",
       "      <th>count</th>\n",
       "      <td>891</td>\n",
       "      <td>891</td>\n",
       "      <td>891</td>\n",
       "      <td>204</td>\n",
       "      <td>889</td>\n",
       "    </tr>\n",
       "    <tr>\n",
       "      <th>unique</th>\n",
       "      <td>891</td>\n",
       "      <td>2</td>\n",
       "      <td>681</td>\n",
       "      <td>147</td>\n",
       "      <td>3</td>\n",
       "    </tr>\n",
       "    <tr>\n",
       "      <th>top</th>\n",
       "      <td>Sjostedt, Mr. Ernst Adolf</td>\n",
       "      <td>male</td>\n",
       "      <td>1601</td>\n",
       "      <td>B96 B98</td>\n",
       "      <td>S</td>\n",
       "    </tr>\n",
       "    <tr>\n",
       "      <th>freq</th>\n",
       "      <td>1</td>\n",
       "      <td>577</td>\n",
       "      <td>7</td>\n",
       "      <td>4</td>\n",
       "      <td>644</td>\n",
       "    </tr>\n",
       "  </tbody>\n",
       "</table>\n",
       "</div>"
      ],
      "text/plain": [
       "                             Name   Sex Ticket    Cabin Embarked\n",
       "count                         891   891    891      204      889\n",
       "unique                        891     2    681      147        3\n",
       "top     Sjostedt, Mr. Ernst Adolf  male   1601  B96 B98        S\n",
       "freq                            1   577      7        4      644"
      ]
     },
     "execution_count": 6,
     "metadata": {},
     "output_type": "execute_result"
    }
   ],
   "source": [
    "# Describe data of categorical data types\n",
    "titanic_df.describe(include=[np.object])"
   ]
  },
  {
   "cell_type": "markdown",
   "metadata": {},
   "source": [
    "Based on this description of categorical features in dataset:\n",
    "* `Names` are unique across the dataset (count=unique=891)\n",
    "* `Sex` variable as two possible values with 65% male (top=male, 577/891=0.65)\n",
    "* `Ticket` (22%) and `Cabin` values has several duplicates across samples.\n",
    "    * Alternatively, several passengers shared a cabin.\n",
    "* `Embarked` takes 3 possible values. S port used by most passengers."
   ]
  },
  {
   "cell_type": "markdown",
   "metadata": {},
   "source": [
    "#### Variables in dataset\n",
    "\n",
    "[The Kaggle website](https://www.kaggle.com/c/titanic/data) provides descriptions of all data variables. The dataset not only contains demographics and passenger information, but also survival status.\n",
    "\n",
    "|Variable|Definition|Key|\n",
    "|:---|:---|:---|\n",
    "|survival|Survival|0 = No, 1 = Yes|\n",
    "|pclass|Ticket class|1 = 1st, 2 = 2nd, 3 = 3rd|\n",
    "|sex|Sex||\n",
    "|Age|Age in years||\n",
    "|sibsp|# of siblings / spouses aboard the Titanic||\n",
    "|parch|# of parents / children aboard the Titanic||\n",
    "|ticket|Ticket number||\n",
    "|fare|Passenger fare||\n",
    "|cabin|Cabin number||\n",
    "|embarked|Port of Embarkation|C = Cherbourg, Q = Queenstown, S = Southampton|"
   ]
  },
  {
   "cell_type": "markdown",
   "metadata": {},
   "source": [
    "Inspired by some of Kaggles' data solutions ([here](https://www.kaggle.com/startupsci/titanic-data-science-solutions)'s one), it's helpful to discern the characteristics of data variables. Be noted that we won't analyze string variables that describing unique id, like `PassengerID`, `Ticket`, and `Cabin`.\n",
    "\n",
    "There're two data types here: categorical and numerical. Categorical variables is mostly qualitative, while numerical variables is mostly quantitative and continuous. Let's categorize variables by these two types:\n",
    "\n",
    "|scales of measurements|variables|\n",
    "|:---|:---|\n",
    "|Categorical - *Nominal*|`Pclass`, `Embarked`|\n",
    "|Categorical - *Dichotomous* (also part of nominal)|`Survived`, `Sex`|\n",
    "|Numerical - *Continuous* (linear, Interval)| `Age`, `Fare`|\n",
    "|Numerical - *Discrete*|`SibSp`, `Parch`|"
   ]
  },
  {
   "cell_type": "markdown",
   "metadata": {},
   "source": [
    "### Research questions\n",
    "\n",
    "#### *What factors made people more likely to survive?*\n",
    "* And justify your statement.\n",
    "\n",
    "Though it's a *Non-experimental research*, the primary purpose that we probe the titanic dataset is to find out what factors made people more likely to survive.\n",
    "\n",
    "|dtypes|Variables|\n",
    "|:---|:---|\n",
    "|Dependent variables|Survival status of each passenger|\n",
    "|Independent variables|features that affect passengers' survival status, like `Sex`, `Pclass`, `Age`, `Parch`, `SibSp`, `Embarked`|\n",
    "---"
   ]
  },
  {
   "cell_type": "markdown",
   "metadata": {},
   "source": [
    "## WRANGLING PHASE\n",
    "- Fixing Data Types\n",
    "- Problems in the Data and Investigate the Data\n",
    "- Dig Into Features\n",
    "- Working With Missing Data\n",
    "- Some minor issues"
   ]
  },
  {
   "cell_type": "markdown",
   "metadata": {},
   "source": [
    "### Fixing Data Types"
   ]
  },
  {
   "cell_type": "code",
   "execution_count": 7,
   "metadata": {},
   "outputs": [
    {
     "name": "stdout",
     "output_type": "stream",
     "text": [
      "PassengerId      int64\n",
      "Survived         int64\n",
      "Pclass           int64\n",
      "Name            object\n",
      "Gender          object\n",
      "Age            float64\n",
      "Sib_Sp           int64\n",
      "Par_Ch           int64\n",
      "Ticket          object\n",
      "Fare           float64\n",
      "Cabin           object\n",
      "Embarked        object\n",
      "dtype: object\n"
     ]
    }
   ],
   "source": [
    "# Change some features' names to make them easier to interpret.\n",
    "titanic_df.rename(columns={'Sex': 'Gender', 'SibSp': 'Sib_Sp','Parch': 'Par_Ch'}, inplace=True)\n",
    "\n",
    "# Print out every dtypes of the data set and see if they are all logically correct?\n",
    "print(titanic_df.dtypes)"
   ]
  },
  {
   "cell_type": "markdown",
   "metadata": {},
   "source": [
    "Based on dtypes print out above, 7 features are integer or floats, and 5 features are strings (object).\n",
    "\n",
    "* I was considering of taking `Survived` data and convert them into boolean at first. But it might not be necessary since the value in this column is either '0' or '1', which means the same thing to boolean types.\n",
    "\n",
    "* Also, it is more convenient to keep `PassengerId` and `Pclass` to be int64 but not string here. Because you can sort int64 type of data in order."
   ]
  },
  {
   "cell_type": "markdown",
   "metadata": {},
   "source": [
    "### Problems in the Data and Investigate the Data"
   ]
  },
  {
   "cell_type": "code",
   "execution_count": 8,
   "metadata": {
    "collapsed": true
   },
   "outputs": [],
   "source": [
    "def data_checkup_result(pd_data, check_unique=False):\n",
    "    \"\"\"Check empty data and uniqueness in specific 1D data of pandas data format\n",
    "    \n",
    "    This method does 2 things:\n",
    "    (1) whether a given dataset has empty data;\n",
    "    (2) whetherall data are unique in this dataset;\n",
    "    then print out the result.\n",
    "    \n",
    "    Args:\n",
    "        pd_data (Series/DataFrame - Column/Row): a pandas series or a column/row of pandas Dataframe.\n",
    "        check_unique (bool, optional): A boolean to specify to True if you want check \n",
    "            uniqueness of data in dataset. Defaults to False.\n",
    "    \n",
    "    Return:\n",
    "        A bool value. True for the operation successfully done, False otherwise.\n",
    "    \n",
    "    Raises:\n",
    "        Nothing\n",
    "        \n",
    "    Examples:\n",
    "        >>> data_checkup_result(titanic_df['PassengerId'], True)\n",
    "        For 'PassengerId' column, all data is unique. And there's no empty values in this column.\n",
    "        >>> data_checkup_result(titanic_df['Survived'])\n",
    "        For 'Survived' column, There's no empty values in this column.\n",
    "    \"\"\"\n",
    "    if check_unique:\n",
    "        s1 = \"For '%s' column, all data is unique. \"% (pd_data.name) if ((len(pd_data.unique()) - pd_data.count()) == 0) \\\n",
    "            else \"For '%s' column, there're some duplicate data. \"% (pd_data.name)\n",
    "        s2 = \"And there's no empty values in this column.\" if (pd_data.isnull().sum() == 0) \\\n",
    "            else \"And %i empty values in this column.\" % (pd_data.isnull().sum())\n",
    "        print(s1 + s2)\n",
    "    else:\n",
    "        print(\"For '%s' column, There's no empty values in this column.\"% (pd_data.name) if (pd_data.isnull().sum()==0) \\\n",
    "            else \"For '%s' column, there're %i empty values.\" % (pd_data.name, pd_data.isnull().sum()))    \n",
    "    return True"
   ]
  },
  {
   "cell_type": "code",
   "execution_count": 9,
   "metadata": {},
   "outputs": [
    {
     "name": "stdout",
     "output_type": "stream",
     "text": [
      "PassengerId      0\n",
      "Survived         0\n",
      "Pclass           0\n",
      "Name             0\n",
      "Gender           0\n",
      "Age            177\n",
      "Sib_Sp           0\n",
      "Par_Ch           0\n",
      "Ticket           0\n",
      "Fare             0\n",
      "Cabin          687\n",
      "Embarked         2\n",
      "dtype: int64\n"
     ]
    }
   ],
   "source": [
    "print(titanic_df.isnull().sum())"
   ]
  },
  {
   "cell_type": "markdown",
   "metadata": {},
   "source": [
    "`Cabin` and `Age` features are missing quite a lot of data."
   ]
  },
  {
   "cell_type": "code",
   "execution_count": 10,
   "metadata": {
    "scrolled": true
   },
   "outputs": [
    {
     "name": "stdout",
     "output_type": "stream",
     "text": [
      "For 'PassengerId' column, There's no empty values in this column.\n",
      "For 'Survived' column, There's no empty values in this column.\n",
      "For 'Pclass' column, There's no empty values in this column.\n",
      "For 'Name' column, There's no empty values in this column.\n",
      "For 'Gender' column, There's no empty values in this column.\n",
      "For 'Age' column, there're 177 empty values.\n",
      "For 'Sib_Sp' column, There's no empty values in this column.\n",
      "For 'Par_Ch' column, There's no empty values in this column.\n",
      "For 'Ticket' column, There's no empty values in this column.\n",
      "For 'Fare' column, There's no empty values in this column.\n",
      "For 'Cabin' column, there're 687 empty values.\n",
      "For 'Embarked' column, there're 2 empty values.\n"
     ]
    }
   ],
   "source": [
    "for col_name in titanic_df.columns.values:\n",
    "    if col_name in ['PassengerId', 'Ticket']:\n",
    "        data_checkup_result(titanic_df[col_name], False)\n",
    "    else:\n",
    "        data_checkup_result(titanic_df[col_name])"
   ]
  },
  {
   "cell_type": "markdown",
   "metadata": {},
   "source": [
    "`Cabin` \\ `Age` \\ `Embarked` features contain a number of null values. These will require correcting."
   ]
  },
  {
   "cell_type": "code",
   "execution_count": 11,
   "metadata": {
    "collapsed": true
   },
   "outputs": [],
   "source": [
    "def get_num_outside_scope(pd_data, scope_list):\n",
    "    \"\"\"Check how many data is running out of scope in pd_data\n",
    "\n",
    "    Retrieves each data in a given dataset, and check if the data is in scope_list.\n",
    "    Then return the number of data that out of scope.\n",
    "\n",
    "    Args:\n",
    "        pd_data (Series/DataFrame - Column/Row): A pandas series or a column/row of pandas Dataframe.\n",
    "        scope_list (list): A list that specify the scope of data.\n",
    "\n",
    "    Return:\n",
    "        An int showing the number of data that out of scope.\n",
    "    \n",
    "    Examples:\n",
    "        >>> get_num_outside_scope(titanic_df['Survived'], [0,1])\n",
    "        0\n",
    "    \"\"\"\n",
    "    i = 0\n",
    "    for data in pd_data:\n",
    "        if data not in scope_list:\n",
    "            i += 1\n",
    "    return i\n",
    "\n",
    "def print_scope_result(pd_data, scope_list):      \n",
    "    \"\"\"Print out data checkup results\n",
    "    \n",
    "    Print out a description about the result of checking data in dataset that out of scope.\n",
    "    \n",
    "    Args:\n",
    "        pd_data (Series/DataFrame - Column/Row): A pandas series or a column/row of pandas Dataframe.\n",
    "        scope_list (list): A list that specify the scope of data.\n",
    "    \n",
    "    Return:\n",
    "        A bool value. True for the operation successfully done, False otherwise.\n",
    "        \n",
    "    Examples:\n",
    "        >>> check_scope_result(titanic_df['Survived'], [0,1])\n",
    "        All data values in 'Survived' column in scope.\n",
    "    \"\"\"\n",
    "\n",
    "    print(\"All data values in %s column in scope.\"% (pd_data.name) if get_num_outside_scope(pd_data, scope_list) == 0 else \\\n",
    "           \"There're {a:d} data in {b:s} column running outide the scope.\".format(a=get_num_outside_scope(pd_data, scope_list), b=pd_data.name))\n",
    "    \n",
    "    return True"
   ]
  },
  {
   "cell_type": "code",
   "execution_count": 12,
   "metadata": {},
   "outputs": [
    {
     "name": "stdout",
     "output_type": "stream",
     "text": [
      "All data values in Survived column in scope.\n",
      "All data values in Pclass column in scope.\n",
      "There're 2 data in Embarked column running outide the scope.\n"
     ]
    },
    {
     "data": {
      "text/plain": [
       "True"
      ]
     },
     "execution_count": 12,
     "metadata": {},
     "output_type": "execute_result"
    }
   ],
   "source": [
    "print_scope_result(titanic_df['Survived'], [0,1])\n",
    "print_scope_result(titanic_df['Pclass'], [1,2,3])\n",
    "print_scope_result(titanic_df['Embarked'], ['C','Q','S'])"
   ]
  },
  {
   "cell_type": "markdown",
   "metadata": {},
   "source": [
    "Obviously, these 2 data in `Embarked` column which outside the scope are all empty values."
   ]
  },
  {
   "cell_type": "markdown",
   "metadata": {},
   "source": [
    "### Dig Into Features\n",
    "Before we try to fix data for every features, I want to dig deep. Simply with knowledge we gain from above, I try to look at these features and see if I can get some thoughts for next phase.\n",
    "\n",
    "In order to answer the question, I need to find out the factor that has the highest *correlation with* the `Survived` status.\n",
    "\n",
    "|Features|dtype|to be analyzed|defected|\n",
    "|:---|:---:|:---:|:---:|\n",
    "|`PassengerId`|int64|||\n",
    "|`Pclass`|int64|&#x2705;||\n",
    "|`Name`|object|||\n",
    "|`Sex`|object|&#x2705;||\n",
    "|`Age`|float64|&#x2705;|&#x2705;|\n",
    "|`Sib_Sp`|int64|&#x2705;||\n",
    "|`Par_Ch`|int64|&#x2705;||\n",
    "|`Ticket`|object|||\n",
    "|`Fare`|float64|&#x2705;||\n",
    "|`Cabin`|object||&#x2705;|\n",
    "|`Embarked`|object|&#x2705;|&#x2705;|"
   ]
  },
  {
   "cell_type": "markdown",
   "metadata": {},
   "source": [
    "* `PassengerId`, `Ticket`, and `Name` are just identifications for passengers and tickets. They doesn't convey any meaningful information about each passenger. \n",
    "* But `Name` feature has `Title` information. We can extract it as a new feature.\n",
    "* `Cabin` may be dropped because most of value in this feature is empty, and data in this column are just identifiers.\n",
    "* Though `Age` and `Embarked` are incomplete, they are definitely correlated to `survival` status. That means these two columns need completing and cleaning.\n",
    "* `Sib_Sp` and `Par_Ch` can be combined to create a new feature `Family`, to show total count of family members on board."
   ]
  },
  {
   "cell_type": "code",
   "execution_count": 13,
   "metadata": {
    "collapsed": true
   },
   "outputs": [],
   "source": [
    "# Create a column for the number of 'Family' members based on 'Sib_Sp' and 'Par_Ch'\n",
    "titanic_df['Family_Size'] = titanic_df['Sib_Sp'] + titanic_df['Par_Ch'] + 1"
   ]
  },
  {
   "cell_type": "code",
   "execution_count": 14,
   "metadata": {
    "collapsed": true
   },
   "outputs": [],
   "source": [
    "# Create a column to describe 'Loneliness' status of each passenger\n",
    "titanic_df['Alone'] = False\n",
    "titanic_df.loc[titanic_df['Family_Size'] == 1, 'Alone'] = True"
   ]
  },
  {
   "cell_type": "code",
   "execution_count": 15,
   "metadata": {},
   "outputs": [
    {
     "data": {
      "text/html": [
       "<div>\n",
       "<style>\n",
       "    .dataframe thead tr:only-child th {\n",
       "        text-align: right;\n",
       "    }\n",
       "\n",
       "    .dataframe thead th {\n",
       "        text-align: left;\n",
       "    }\n",
       "\n",
       "    .dataframe tbody tr th {\n",
       "        vertical-align: top;\n",
       "    }\n",
       "</style>\n",
       "<table border=\"1\" class=\"dataframe\">\n",
       "  <thead>\n",
       "    <tr style=\"text-align: right;\">\n",
       "      <th>Gender</th>\n",
       "      <th>female</th>\n",
       "      <th>male</th>\n",
       "    </tr>\n",
       "    <tr>\n",
       "      <th>Title</th>\n",
       "      <th></th>\n",
       "      <th></th>\n",
       "    </tr>\n",
       "  </thead>\n",
       "  <tbody>\n",
       "    <tr>\n",
       "      <th>Capt</th>\n",
       "      <td>0</td>\n",
       "      <td>1</td>\n",
       "    </tr>\n",
       "    <tr>\n",
       "      <th>Col</th>\n",
       "      <td>0</td>\n",
       "      <td>2</td>\n",
       "    </tr>\n",
       "    <tr>\n",
       "      <th>Countess</th>\n",
       "      <td>1</td>\n",
       "      <td>0</td>\n",
       "    </tr>\n",
       "    <tr>\n",
       "      <th>Don</th>\n",
       "      <td>0</td>\n",
       "      <td>1</td>\n",
       "    </tr>\n",
       "    <tr>\n",
       "      <th>Dr</th>\n",
       "      <td>1</td>\n",
       "      <td>6</td>\n",
       "    </tr>\n",
       "    <tr>\n",
       "      <th>Jonkheer</th>\n",
       "      <td>0</td>\n",
       "      <td>1</td>\n",
       "    </tr>\n",
       "    <tr>\n",
       "      <th>Lady</th>\n",
       "      <td>1</td>\n",
       "      <td>0</td>\n",
       "    </tr>\n",
       "    <tr>\n",
       "      <th>Major</th>\n",
       "      <td>0</td>\n",
       "      <td>2</td>\n",
       "    </tr>\n",
       "    <tr>\n",
       "      <th>Master</th>\n",
       "      <td>0</td>\n",
       "      <td>40</td>\n",
       "    </tr>\n",
       "    <tr>\n",
       "      <th>Miss</th>\n",
       "      <td>182</td>\n",
       "      <td>0</td>\n",
       "    </tr>\n",
       "    <tr>\n",
       "      <th>Mlle</th>\n",
       "      <td>2</td>\n",
       "      <td>0</td>\n",
       "    </tr>\n",
       "    <tr>\n",
       "      <th>Mme</th>\n",
       "      <td>1</td>\n",
       "      <td>0</td>\n",
       "    </tr>\n",
       "    <tr>\n",
       "      <th>Mr</th>\n",
       "      <td>0</td>\n",
       "      <td>517</td>\n",
       "    </tr>\n",
       "    <tr>\n",
       "      <th>Mrs</th>\n",
       "      <td>125</td>\n",
       "      <td>0</td>\n",
       "    </tr>\n",
       "    <tr>\n",
       "      <th>Ms</th>\n",
       "      <td>1</td>\n",
       "      <td>0</td>\n",
       "    </tr>\n",
       "    <tr>\n",
       "      <th>Rev</th>\n",
       "      <td>0</td>\n",
       "      <td>6</td>\n",
       "    </tr>\n",
       "    <tr>\n",
       "      <th>Sir</th>\n",
       "      <td>0</td>\n",
       "      <td>1</td>\n",
       "    </tr>\n",
       "  </tbody>\n",
       "</table>\n",
       "</div>"
      ],
      "text/plain": [
       "Gender    female  male\n",
       "Title                 \n",
       "Capt           0     1\n",
       "Col            0     2\n",
       "Countess       1     0\n",
       "Don            0     1\n",
       "Dr             1     6\n",
       "Jonkheer       0     1\n",
       "Lady           1     0\n",
       "Major          0     2\n",
       "Master         0    40\n",
       "Miss         182     0\n",
       "Mlle           2     0\n",
       "Mme            1     0\n",
       "Mr             0   517\n",
       "Mrs          125     0\n",
       "Ms             1     0\n",
       "Rev            0     6\n",
       "Sir            0     1"
      ]
     },
     "execution_count": 15,
     "metadata": {},
     "output_type": "execute_result"
    }
   ],
   "source": [
    "# Extract `Title` from `Name`\n",
    "titanic_df['Title'] = titanic_df['Name'].str.extract('([A-Za-z]+)\\.', expand=False)\n",
    "\n",
    "pd.crosstab(titanic_df['Title'], titanic_df['Gender'])"
   ]
  },
  {
   "cell_type": "code",
   "execution_count": 16,
   "metadata": {
    "collapsed": true
   },
   "outputs": [],
   "source": [
    "# Replace rare titles to a 'Rare' category\n",
    "titanic_df['Title'] = titanic_df['Title'].replace(['Lady', 'Countess','Capt', 'Col','Don', 'Dr', 'Major', 'Rev', 'Sir', 'Jonkheer', 'Dona'], 'Rare')\n",
    "titanic_df['Title'] = titanic_df['Title'].replace('Mlle', 'Miss')\n",
    "titanic_df['Title'] = titanic_df['Title'].replace('Ms', 'Miss')\n",
    "titanic_df['Title'] = titanic_df['Title'].replace('Mme', 'Mrs')"
   ]
  },
  {
   "cell_type": "markdown",
   "metadata": {},
   "source": [
    "### Working with Missing Data"
   ]
  },
  {
   "cell_type": "markdown",
   "metadata": {},
   "source": [
    "From what we know above, all missing data have been represented as `NaN`, and it would present difficulties later when trying to conduct analysis to all these incomplete values. So we need to fix this issue for `Embarked`, `Cabin`, `Age`, in which missing data exists.\n",
    "\n",
    "Basically, we work with missing data by finding the degree of association between target feature and other feature. Here's the assumption I hold: *as the degree of association gets higher, the likihood of similar values for the feature in specific group gets higher.* What follows is a brief overview of statistical analysis that I am going to conduct to figure out relationships:\n",
    "* `Embarked`: since values in it are *nominal* variables of 3 different categories, and only 2 values are missing. So I will just fill the most frequent occurrence in.\n",
    "* `Cabin`: over three-fouths of data is missing in this feature, and also values are just an identifier for each space. So I will simply remove this column. But I am curious of the relationship between the existence of `Cabin` information and passengers in different `Pclass`. I will conduct *Chi-square test* to see the relationship.\n",
    "* `Age`: things get complex here, for `Age` can be related to multiple features. There're lots of possibilities here. I will conduct *One-way ANOVA test* to explore relationships."
   ]
  },
  {
   "cell_type": "markdown",
   "metadata": {},
   "source": [
    "#### Define helper functions to conduct statistical analysis\n",
    "1. *One-way ANOVA*\n",
    "2. *Chi-square*"
   ]
  },
  {
   "cell_type": "code",
   "execution_count": 17,
   "metadata": {
    "collapsed": true
   },
   "outputs": [],
   "source": [
    "def get_f_stats(dataframe):\n",
    "    \"\"\"Conduct One Way ANOVA test for significant\n",
    "    \n",
    "    Take each column in dataframe as one sample group, \n",
    "    and conduct f-test for significantly different among these groups.\n",
    "    The methods works for dataframe with *empty data*.\n",
    "    \n",
    "    Args:\n",
    "        dataframe (Pandas - DataFrame): A pandas Dataframe with each column as a sample group\n",
    "    \n",
    "    Return:\n",
    "        A float value that is f-statistics.\n",
    "    \n",
    "    Raises:\n",
    "        Nothing\n",
    "    \"\"\"\n",
    "    if len(dataframe.columns) > 1:\n",
    "        # Calculate grand mean\n",
    "        grand_mean = dataframe.stack().mean()\n",
    "\n",
    "        # For between-groups, calculate Sum of Squared\n",
    "        ss_between = 0\n",
    "        for col in dataframe.columns:\n",
    "            ss_between = ss_between + dataframe[col].notnull().sum() * ((dataframe[col].mean() - grand_mean)**2)\n",
    "\n",
    "        # For within-groups, calculate Sum of Squared\n",
    "        ss_within = ((dataframe - dataframe.mean())**2).stack().sum()\n",
    "\n",
    "        # Calculate Degree of Freedom for between-groups and within-groups\n",
    "        df_between, df_within = len(dataframe.columns) - 1, dataframe.notnull().stack().sum() - len(dataframe.columns)\n",
    "\n",
    "        # Compute Mean of Square for between-groups and within-groups\n",
    "        ms_between, ms_within = ss_between / df_between, ss_within / df_within\n",
    "        \n",
    "        return ms_between / ms_within\n",
    "    \n",
    "    else:\n",
    "        print(\"Sorry, not enough sample groups for ANOVA test:(\")\n",
    "        return False\n",
    "\n",
    "def conduct_hsd_analysis(dataframe, q_critical):\n",
    "    \"\"\"Calculate Tukey's HSD and compare with each sample mean difference\n",
    "    \n",
    "    Take each column in dataframe as one sample group, \n",
    "    and calculate Tukey's HSD for significantly different among these groups,\n",
    "    then print out the conclusion of comparisons.\n",
    "    The dataset must have *same sample sizes*.\n",
    "    \n",
    "    Args:\n",
    "        dataframe (Pandas - DataFrame): A pandas Dataframe with each column as a sample group.\n",
    "        q_critical (float): The studentized highest range statistic. You can get it from q-table.\n",
    "    \n",
    "    Return:\n",
    "        A float value that is Tukey's HSD\n",
    "    \n",
    "    Raises:\n",
    "        Nothing\n",
    "    \"\"\"\n",
    "    # Only conduct HSD analysis when sample sizes are all the same.\n",
    "    from itertools import combinations\n",
    "    for subset in combinations(dataframe.columns, 2):\n",
    "        if (dataframe[subset[0]].count() != dataframe[subset[1]].count()):\n",
    "            print(\"Failed to compute since sample sizes are not the same.\")\n",
    "            return False\n",
    "    \n",
    "    # For within-groups, calculate Sum of Squared and degree of freedom\n",
    "    ss_within = ((dataframe - dataframe.mean())**2).stack().sum()\n",
    "    df_within = dataframe.notnull().stack().sum() - len(dataframe.columns)\n",
    "    \n",
    "    # Compute Tukey's HSD with q-critical value\n",
    "    tukeys_hsd = q_critical * ((ss_within / df_within) / len(dataframe.index))**(1/2.)\n",
    "    \n",
    "    # Compare Sample Mean difference of each pair of samples to Tukey's HSD, and print out the conclusion\n",
    "    for subset in combinations(dataframe.columns, 2):\n",
    "        print(\"The differences between %s and %s is honestly significant.\"% (subset[0], subset[1]) if abs(dataframe[subset[0]].mean() - dataframe[subset[1]].mean()) > tukeys_hsd else \"They are not honestly significantly different\")\n",
    "    return tukeys_hsd\n",
    "\n",
    "def get_cohens_d(dataframe):\n",
    "    \"\"\"Calculate Cohen's d for each pair of sample groups\n",
    "    \n",
    "    Take each column in dataframe as one sample group, \n",
    "    and calculate Cohen's d for significantly different among these groups,\n",
    "    then return a dict of results.\n",
    "    The dataset must have *same sample sizes*.\n",
    "    \n",
    "    Args:\n",
    "        dataframe (Pandas - DataFrame): A pandas Dataframe with each column as a sample group.\n",
    "    \n",
    "    Return:\n",
    "        A dict mapping keys to the corresponding table row data\n",
    "        fetched. Each row is represented as a tuple of names of sample groups. For example:\n",
    "        \n",
    "        {('S', 'C'): 0.6,\n",
    "         ('S', 'Q'): 0.1,\n",
    "         ('C', 'Q'): 0.2}\n",
    "    \n",
    "    Raises:\n",
    "        Nothing\n",
    "    \"\"\"\n",
    "    # Only conduct cohen's d analysis when sample sizes are all the same.\n",
    "    from itertools import combinations\n",
    "    for subset in combinations(dataframe.columns, 2):\n",
    "        if (dataframe[subset[0]].count() != dataframe[subset[1]].count()):\n",
    "            print(\"Failed to compute since sample sizes are not the same.\")\n",
    "            return False\n",
    "    \n",
    "    # For within-groups, calculate Sum of Squared and degree of freedom\n",
    "    ss_within = ((dataframe - dataframe.mean())**2).stack().sum()\n",
    "    df_within = dataframe.notnull().stack().sum() - len(dataframe.columns)\n",
    "    \n",
    "    # Compute cohen's d for each pair of sample groups.\n",
    "    cohens_dict = {}\n",
    "    from itertools import combinations\n",
    "    for subset in combinations(dataframe.columns, 2):\n",
    "        cohens_dict[subset] = (dataframe[subset[0]].mean() - dataframe[subset[1]].mean()) / ((ss_within / df_within) ** (1/2.))\n",
    "    \n",
    "    return cohens_dict\n",
    "\n",
    "def get_eta_squared(dataframe):\n",
    "    \"\"\"Calculate Eta squared for dataset\n",
    "    \n",
    "    Take each column in dataframe as one sample group, \n",
    "    and calculate Eta squared.\n",
    "    \n",
    "    Args:\n",
    "        dataframe (Pandas - DataFrame): A pandas Dataframe with each column as a sample group.\n",
    "    \n",
    "    Return:\n",
    "        A float value that is Eta squared\n",
    "    \n",
    "    Raises:\n",
    "        Nothing\n",
    "    \"\"\"  \n",
    "    # For between-groups, calculate Sum of Squared\n",
    "    ss_between = 0\n",
    "    for col in dataframe.columns:\n",
    "        ss_between = ss_between + dataframe[col].notnull().sum() * ((dataframe[col].mean() - dataframe.stack().mean())**2)\n",
    "    \n",
    "    # For within-groups, calculate Sum of Squared\n",
    "    ss_within = ((dataframe - dataframe.mean())**2).stack().sum()\n",
    "    \n",
    "    return ss_between / (ss_between + ss_within)"
   ]
  },
  {
   "cell_type": "code",
   "execution_count": 18,
   "metadata": {
    "collapsed": true
   },
   "outputs": [],
   "source": [
    "def get_chi_square(df_obs):\n",
    "    \"\"\"Chi-squared Test for Significant for Non-Paramatric Test\n",
    "    \n",
    "    Take observed frequency dataframe and calculate chi-squared\n",
    "    \n",
    "    Args:\n",
    "        dataframe (Pandas - DataFrame): A Pandas Dataframe with one nominal feature's observed response as columns \n",
    "            and another nominal feature's values as rows\n",
    "    \n",
    "    Return:\n",
    "        A float value that is chi-squared of this dataset\n",
    "    \n",
    "    Raises:\n",
    "        Nothing\n",
    "    \"\"\"\n",
    "    def get_expected(df_obs):\n",
    "        \"\"\"\n",
    "        Get expected frequency by observed frequency dataframe\n",
    "        \"\"\"\n",
    "        df_exp = df_obs.copy()\n",
    "\n",
    "        for row in df_obs.index:\n",
    "            for col in df_obs.columns:\n",
    "                df_exp.loc[row,col] = df_obs[col].values.sum() * df_obs.loc[row].values.sum() / df_obs.values.sum()\n",
    "\n",
    "        return df_exp\n",
    "\n",
    "    # Square of the difference between observed frequency and expected frequency, Then divided by the sum of expected frequency\n",
    "    return ((df_obs - get_expected(df_obs))**2 / get_expected(df_obs)).values.sum()\n",
    "\n",
    "def get_cramers_v(df_obs):\n",
    "    \"\"\"Chi-squared Test for Significant for Non-Paramatric Test\n",
    "    \n",
    "    Take observed frequency dataframe and calculate cramer's V\n",
    "    \n",
    "    Args:\n",
    "        dataframe (Pandas - DataFrame): A Pandas Dataframe with one nominal feature's observed response as columns \n",
    "            and another nominal feature's values as rows\n",
    "    \n",
    "    Return:\n",
    "        A float value that is cramer's V\n",
    "    \n",
    "    Raises:\n",
    "        Nothing\n",
    "    \"\"\"\n",
    "    # Get chi-squared and k\n",
    "    chi_square = get_chi_square(df_obs)\n",
    "    k = min(len(df_obs.columns), len(df_obs.index))\n",
    "    \n",
    "    # Calculate Cramer's V\n",
    "    cramers_v = (chi_square / (df_obs.values.sum() * (k-1))) ** (1/2.)\n",
    "    \n",
    "    print(\"For k-1=%i, Cramer’s Phi Coefficient is %f.\" % (k-1, cramers_v))\n",
    "    \n",
    "    return cramers_v"
   ]
  },
  {
   "cell_type": "markdown",
   "metadata": {},
   "source": [
    "#### *Embarked* values\n",
    "\n",
    "The `Embarked` feature only has 2 missing values, I will simply fill with the most frequent occurance here, which means, the mode."
   ]
  },
  {
   "cell_type": "code",
   "execution_count": 19,
   "metadata": {
    "collapsed": true
   },
   "outputs": [],
   "source": [
    "# Find the most common occurance\n",
    "freq_port = titanic_df['Embarked'].mode()[0]"
   ]
  },
  {
   "cell_type": "code",
   "execution_count": 20,
   "metadata": {},
   "outputs": [
    {
     "name": "stdout",
     "output_type": "stream",
     "text": [
      "Now embarked feature has 0 empty value.\n"
     ]
    }
   ],
   "source": [
    "# Fill the missing data with the most frequent value\n",
    "titanic_df['Embarked'].fillna(freq_port, inplace=True)\n",
    "\n",
    "print(\"Now embarked feature has %s empty value.\" % titanic_df['Embarked'].isnull().sum())"
   ]
  },
  {
   "cell_type": "code",
   "execution_count": 21,
   "metadata": {},
   "outputs": [
    {
     "data": {
      "text/plain": [
       "0    S\n",
       "1    C\n",
       "2    S\n",
       "3    S\n",
       "4    S\n",
       "Name: Embarked, dtype: object"
      ]
     },
     "execution_count": 21,
     "metadata": {},
     "output_type": "execute_result"
    }
   ],
   "source": [
    "titanic_df['Embarked'].head()"
   ]
  },
  {
   "cell_type": "markdown",
   "metadata": {},
   "source": [
    "#### *Cabin* values\n",
    "\n",
    "`Cabin` feature is just an identifier for each space. It doesn't tell us any meaningful information about this passenger. Also, most values in it are empty (over 75% of values), I will drop this feature for its incompleteness and uselessness.\n",
    "\n",
    "But before removing it, I will use a contingency table to conduct *Chi-square test* to see if the existence of `Cabin` information has relationships with `Pclass`."
   ]
  },
  {
   "cell_type": "code",
   "execution_count": 22,
   "metadata": {},
   "outputs": [
    {
     "data": {
      "text/html": [
       "<div>\n",
       "<style>\n",
       "    .dataframe thead tr:only-child th {\n",
       "        text-align: right;\n",
       "    }\n",
       "\n",
       "    .dataframe thead th {\n",
       "        text-align: left;\n",
       "    }\n",
       "\n",
       "    .dataframe tbody tr th {\n",
       "        vertical-align: top;\n",
       "    }\n",
       "</style>\n",
       "<table border=\"1\" class=\"dataframe\">\n",
       "  <thead>\n",
       "    <tr style=\"text-align: right;\">\n",
       "      <th>Pclass</th>\n",
       "      <th>1</th>\n",
       "      <th>2</th>\n",
       "      <th>3</th>\n",
       "    </tr>\n",
       "    <tr>\n",
       "      <th>No Cabin Info</th>\n",
       "      <th></th>\n",
       "      <th></th>\n",
       "      <th></th>\n",
       "    </tr>\n",
       "  </thead>\n",
       "  <tbody>\n",
       "    <tr>\n",
       "      <th>False</th>\n",
       "      <td>176</td>\n",
       "      <td>16</td>\n",
       "      <td>12</td>\n",
       "    </tr>\n",
       "    <tr>\n",
       "      <th>True</th>\n",
       "      <td>40</td>\n",
       "      <td>168</td>\n",
       "      <td>479</td>\n",
       "    </tr>\n",
       "  </tbody>\n",
       "</table>\n",
       "</div>"
      ],
      "text/plain": [
       "Pclass           1    2    3\n",
       "No Cabin Info               \n",
       "False          176   16   12\n",
       "True            40  168  479"
      ]
     },
     "execution_count": 22,
     "metadata": {},
     "output_type": "execute_result"
    }
   ],
   "source": [
    "cabin_contingency = pd.crosstab(titanic_df['Cabin'].isnull(), titanic_df['Pclass'], rownames=['No Cabin Info'], colnames=['Pclass'])\n",
    "cabin_contingency"
   ]
  },
  {
   "cell_type": "code",
   "execution_count": 23,
   "metadata": {},
   "outputs": [
    {
     "data": {
      "text/plain": [
       "557.31026294018488"
      ]
     },
     "execution_count": 23,
     "metadata": {},
     "output_type": "execute_result"
    }
   ],
   "source": [
    "get_chi_square(cabin_contingency)"
   ]
  },
  {
   "cell_type": "code",
   "execution_count": 24,
   "metadata": {},
   "outputs": [
    {
     "data": {
      "text/plain": [
       "10.596634733096073"
      ]
     },
     "execution_count": 24,
     "metadata": {},
     "output_type": "execute_result"
    }
   ],
   "source": [
    "from scipy.stats import chi2\n",
    "chi_critical = chi2.isf(q=0.005, df=2)\n",
    "chi_critical"
   ]
  },
  {
   "cell_type": "code",
   "execution_count": 25,
   "metadata": {},
   "outputs": [
    {
     "name": "stdout",
     "output_type": "stream",
     "text": [
      "For k-1=1, Cramer’s Phi Coefficient is 0.790878.\n"
     ]
    },
    {
     "data": {
      "text/plain": [
       "0.79087831592163704"
      ]
     },
     "execution_count": 25,
     "metadata": {},
     "output_type": "execute_result"
    }
   ],
   "source": [
    "get_cramers_v(cabin_contingency)"
   ]
  },
  {
   "cell_type": "markdown",
   "metadata": {},
   "source": [
    "The chi-square is far bigger than chi-square critical value (10.597 for alpha=0.005 and df=2). We can conclude that the result is significant, since the p-value of this chi-square testing is so small that it's unlikely the result are due to sampling error. Also we've got big Cramer's V, we can conclude the strength of the relationship between these 2 variables are strong.\n",
    "\n",
    "So, `Pclass` values associate with the existence of `Cabin` information for each passenger, therefore we can drop `Cabin` data without losing the information the data tell us.\n",
    "* And we can see from the contingency table, it's very likely that the higher the class of which the passenger is, the less likely of missing `Cabin` information."
   ]
  },
  {
   "cell_type": "code",
   "execution_count": 26,
   "metadata": {},
   "outputs": [
    {
     "data": {
      "text/plain": [
       "PassengerId      int64\n",
       "Survived         int64\n",
       "Pclass           int64\n",
       "Name            object\n",
       "Gender          object\n",
       "Age            float64\n",
       "Sib_Sp           int64\n",
       "Par_Ch           int64\n",
       "Ticket          object\n",
       "Fare           float64\n",
       "Embarked        object\n",
       "Family_Size      int64\n",
       "Alone             bool\n",
       "Title           object\n",
       "dtype: object"
      ]
     },
     "execution_count": 26,
     "metadata": {},
     "output_type": "execute_result"
    }
   ],
   "source": [
    "# Drop Cabin\n",
    "titanic_df = titanic_df.drop(['Cabin'], axis=1)\n",
    "titanic_df.dtypes"
   ]
  },
  {
   "cell_type": "markdown",
   "metadata": {},
   "source": [
    "#### *Age* values\n",
    "Almost 20 percent of values are missing in this column. We want to fill values in based on relationships between `Age` and other variables. The one with highest degree of association with `Age` is the one gives most weights to the age value we try guess. `Age` is continuous numerical variables, so we can conduct *One-Way ANOVA test* with nominal variables, like `Pclass`, `Family_Size`, `Gender`, `Embarked`.\n",
    "\n",
    "Rather than generate random numbers between mean and standard deviation, I will guess missing values by classifying data into groups based on related features.\n",
    "1. Describe 'Age' data, and get a big picture of data;\n",
    "2. Plot 'Age' and see how data distributes, and exclude outliers;\n",
    "3. Measure relationships between 'Age' and other features, and rank them to find the one who has the highest degree of association;\n",
    "4. Use groupby() to classify data, according to variables that have strong relationships with 'Age';\n",
    "5. Fill missing 'Age' data, based on statistical analysis to each groupby data;\n",
    "6. Transmit these new data back to Titanic dataframe;"
   ]
  },
  {
   "cell_type": "code",
   "execution_count": 27,
   "metadata": {},
   "outputs": [
    {
     "name": "stdout",
     "output_type": "stream",
     "text": [
      "count    714.000000\n",
      "mean      29.699118\n",
      "std       14.526497\n",
      "min        0.420000\n",
      "25%       20.125000\n",
      "50%       28.000000\n",
      "75%       38.000000\n",
      "max       80.000000\n",
      "Name: Age, dtype: float64\n",
      "\n",
      "\n",
      "Null data: 177\n",
      "Mode is 24.000000\n"
     ]
    }
   ],
   "source": [
    "# Describe data of 'Age' feature, and see how many empty data in it.\n",
    "print(titanic_df['Age'].describe())\n",
    "print(\"\\n\")\n",
    "print('Null data: %i' % titanic_df['Age'].isnull().sum())\n",
    "print('Mode is %f'%titanic_df['Age'].mode())"
   ]
  },
  {
   "cell_type": "code",
   "execution_count": 28,
   "metadata": {
    "scrolled": true
   },
   "outputs": [
    {
     "data": {
      "text/plain": [
       "<matplotlib.text.Text at 0x11992f400>"
      ]
     },
     "execution_count": 28,
     "metadata": {},
     "output_type": "execute_result"
    },
    {
     "data": {
      "image/png": "[encoded data removed]",
      "text/plain": [
       "<matplotlib.figure.Figure at 0x119a00d30>"
      ]
     },
     "metadata": {},
     "output_type": "display_data"
    }
   ],
   "source": [
    "# Visualize the distribution of Age in dataset\n",
    "titanic_df['Age'].plot.hist(alpha=0.5, bins=30, rwidth=1)\n",
    "plt.title(\"The Frequency Distribution of Age Data\")\n",
    "plt.xlabel(\"Age\")"
   ]
  },
  {
   "cell_type": "markdown",
   "metadata": {},
   "source": [
    "It's obvious to see the major age group in this plot: from 20 to 30."
   ]
  },
  {
   "cell_type": "code",
   "execution_count": 29,
   "metadata": {},
   "outputs": [
    {
     "name": "stdout",
     "output_type": "stream",
     "text": [
      "There're outliers in this sample since the maximum in the sample is larger than the upper bound of outlier.\n"
     ]
    },
    {
     "data": {
      "text/plain": [
       "<matplotlib.text.Text at 0x11cdbc080>"
      ]
     },
     "execution_count": 29,
     "metadata": {},
     "output_type": "execute_result"
    },
    {
     "data": {
      "image/png": "[encoded data removed]",
      "text/plain": [
       "<matplotlib.figure.Figure at 0x11ce30be0>"
      ]
     },
     "metadata": {},
     "output_type": "display_data"
    }
   ],
   "source": [
    "# See if there's any outliers in this sample data\n",
    "titanic_df_iqr = titanic_df['Age'].quantile(.75) - titanic_df['Age'].quantile(.25)\n",
    "titanic_df_outlier_upper = titanic_df['Age'].quantile(.75) + 1.5*titanic_df_iqr\n",
    "titanic_df_outlier_lower = titanic_df['Age'].quantile(.25) - 1.5*titanic_df_iqr\n",
    "\n",
    "if titanic_df['Age'].max() < titanic_df_outlier_upper:\n",
    "    if titanic_df['Age'].min() > titanic_df_outlier_lower:\n",
    "        print(\"There's no outlier in this sample.\")\n",
    "    else:\n",
    "        print(\"There're outliers in this sample since the minimum in the sample is smaller than the lower bound of outlier.\")\n",
    "else:\n",
    "    if titanic_df['Age'].min() < titanic_df_outlier_lower:\n",
    "        print(\"There're outliers in this sample since the minimum in the sample is smaller than the lower bound of outlier, and the maximum in the sample is larger than the upper bound of outlier.\")\n",
    "    else:\n",
    "        print(\"There're outliers in this sample since the maximum in the sample is larger than the upper bound of outlier.\")\n",
    "\n",
    "sns.boxplot(x=\"Age\", data=titanic_df, orient=\"h\", palette=\"Set3\")\n",
    "sns.swarmplot(x=titanic_df[\"Age\"], color=\".2\", edgecolor=\"gray\", alpha=.3)\n",
    "plt.title(\"The Distribution of Age Data\")"
   ]
  },
  {
   "cell_type": "markdown",
   "metadata": {},
   "source": [
    "Outliers do exist in the dataset, and they are a few of elderly who is over 60."
   ]
  },
  {
   "cell_type": "code",
   "execution_count": 30,
   "metadata": {
    "collapsed": true
   },
   "outputs": [],
   "source": [
    "# Exclude outliers and NaN data by vectorized operations\n",
    "titanic_age_sample = titanic_df[np.abs(titanic_df['Age'] - titanic_df['Age'].mean())<=(3*titanic_df['Age'].std())]"
   ]
  },
  {
   "cell_type": "markdown",
   "metadata": {},
   "source": [
    "Now we will use `titanic_age_sample` as data source to find out relationships between 'Age' and other features."
   ]
  },
  {
   "cell_type": "code",
   "execution_count": 31,
   "metadata": {},
   "outputs": [
    {
     "name": "stdout",
     "output_type": "stream",
     "text": [
      "The f-stats between Pclass and Age is 58.166241. It's bigger than f-critical value 3.008426.\n",
      "The f-stats between Gender and Age is 5.503008. It's bigger than f-critical value 3.854589.\n",
      "The f-stats between Embarked and Age is 0.706100. It's smaller than f-critical value 3.008426.\n",
      "The f-stats between Family_Size and Age is 11.237204. It's bigger than f-critical value 2.022569.\n"
     ]
    }
   ],
   "source": [
    "# Measure degree of associations by ANOVA\n",
    "from scipy.stats import f\n",
    "\n",
    "f_stats = {}\n",
    "for col in titanic_age_sample.columns & ['Pclass', 'Gender', 'Embarked', 'Family_Size']:\n",
    "    titanic_age_temp = titanic_age_sample.pivot_table(index=['PassengerId'], columns=col, values='Age')\n",
    "    f_stats[(col,'Age')] = (get_f_stats(titanic_age_temp),f.ppf(q=1-0.05, dfn=len(titanic_age_temp.columns)-1, dfd=titanic_age_temp.notnull().values.sum()-len(titanic_age_temp.columns)))\n",
    "    print(\"The f-stats between %s and Age is %f. \" % (col, f_stats[(col,'Age')][0]) + (\"It's bigger than f-critical value %f.\" % (f_stats[(col,'Age')][1]) if f_stats[(col,'Age')][0]>f_stats[(col,'Age')][1] else \"It's smaller than f-critical value %f.\" % (f_stats[(col,'Age')][1])))"
   ]
  },
  {
   "cell_type": "markdown",
   "metadata": {},
   "source": [
    "From these results, we can conclude that \n",
    "* The mean of ages in samples among different `Pclass` are significantly different;\n",
    "* The mean of ages in samples among different `Family_Size` are significantly different, but not as significant as `Pclass` samples;\n",
    "* The mean of ages in samples among different `Gender` are somewhat significantly different, but not as significant as both `Pclass` samples and `Family_Size` samples;\n",
    "    * <a name=\"Gender-PF\"></a>Well, I am curious: whether the association between `Age` and `Gender` is largely due to the connection between `Gender` and (`Pclass` and `Family_Size`), or not. To test this assumption, I will conduct *Chi-square test*: big Chi-stats can prove relations."
   ]
  },
  {
   "cell_type": "code",
   "execution_count": 32,
   "metadata": {},
   "outputs": [
    {
     "name": "stdout",
     "output_type": "stream",
     "text": [
      "The chi-stats between 'Gender' and ('Pclass', 'Family_Size') is 85.681340. It's bigger than chi-critical value 3.841459.\n"
     ]
    }
   ],
   "source": [
    "from scipy.stats import chi2\n",
    "gender_pf_contingency = pd.crosstab(titanic_age_sample['Gender'], [titanic_age_sample['Pclass'], titanic_age_sample['Family_Size']], rownames=['Gender'], colnames=['Pclass', 'Family_Size'])\n",
    "\n",
    "print(\"The chi-stats between 'Gender' and ('Pclass', 'Family_Size') is %f. \" % (get_chi_square(gender_pf_contingency)) + (\"It's bigger than chi-critical value %f.\" % (chi2.isf(q=0.05, df=len(gender_pf_contingency)-1)) if get_chi_square(gender_pf_contingency) > chi2.isf(q=0.05, df=len(gender_pf_contingency)-1) else \"It's smaller than chi-critical value %f.\" % (chi2.isf(q=0.05, df=len(gender_pf_contingency)-1))))"
   ]
  },
  {
   "cell_type": "markdown",
   "metadata": {},
   "source": [
    "After calculating results above, I can see `Age` strong associates with `Pclass` and `Family_Size`, while the relations towards `Embarked` are not obvious. And `Gender` has a strong relationship with `Age`, because `Gender` is connected with `Pclass` and `Family_Size` together.\n",
    "\n",
    "So I will use `Pclass` and `Family_Size` as indicators to guess missing values in `Age` feature.\n",
    "* Split data by these 2 features, and combine to form groups;\n",
    "* Find the mean of each group;\n",
    "* Fill missing values by these means we get;"
   ]
  },
  {
   "cell_type": "code",
   "execution_count": 33,
   "metadata": {
    "collapsed": true
   },
   "outputs": [],
   "source": [
    "titanic_age_pivot = pd.pivot_table(titanic_age_sample, values='Age', index=['PassengerId'], columns=['Pclass', 'Family_Size'])"
   ]
  },
  {
   "cell_type": "code",
   "execution_count": 34,
   "metadata": {},
   "outputs": [
    {
     "data": {
      "text/plain": [
       "{(1, 1): (40.547058823529412, 13.266414704193496),\n",
       " (1, 2): (37.19047619047619, 13.533539153807835),\n",
       " (1, 3): (39.5, 15.739730951791476),\n",
       " (1, 4): (17.845714285714287, 14.773623858240127),\n",
       " (1, 5): (19.5, 2.1213203435596424),\n",
       " (1, 6): (32.5, 21.110818711425349),\n",
       " (2, 1): (33.736559139784944, 12.442387099244369),\n",
       " (2, 2): (30.573529411764707, 10.316309794293499),\n",
       " (2, 3): (20.51064516129032, 16.126368869129397),\n",
       " (2, 4): (21.384615384615383, 14.390613037315108),\n",
       " (2, 5): (54.0, 0.0001),\n",
       " (2, 6): (24.0, 0.0001),\n",
       " (3, 1): (28.03125, 10.367416456911114),\n",
       " (3, 2): (23.355238095238093, 11.445316698640186),\n",
       " (3, 3): (22.039473684210527, 12.489120443219159),\n",
       " (3, 4): (12.928571428571429, 14.130872146440488),\n",
       " (3, 5): (17.0, 15.528775133372791),\n",
       " (3, 6): (14.764705882352942, 15.734235808280879),\n",
       " (3, 7): (15.166666666666666, 14.732976822781135),\n",
       " (3, 8): (15.666666666666666, 14.361986863476332)}"
      ]
     },
     "execution_count": 34,
     "metadata": {},
     "output_type": "execute_result"
    }
   ],
   "source": [
    "# Create a dict to store mean age for each specific group of (Pclass, Family_Size) \n",
    "age_pivot_pf_dict = {}\n",
    "for col in titanic_age_pivot.columns:\n",
    "    age_pivot_pf_dict[col] = (titanic_age_pivot.mean()[col], titanic_age_pivot.std()[col] if titanic_age_pivot.std()[col] > 0 else 0.0001)\n",
    "age_pivot_pf_dict"
   ]
  },
  {
   "cell_type": "markdown",
   "metadata": {},
   "source": [
    "Now we have a mapping table for each missing `Age` value of (`Pclass`, `Family_Size`). But I need to double-check if keys in this dictionary satisfy all missing values' mapping, which means, all data have their corresponding mapping keys and values in this dictionary.\n",
    "\n",
    "I will create a groupby object from source dataframe by (`Pclass`, `Family_Size`), and compare the dictionary with this groupby object."
   ]
  },
  {
   "cell_type": "code",
   "execution_count": 35,
   "metadata": {
    "collapsed": true
   },
   "outputs": [],
   "source": [
    "# Split source dataframe by 'Pclass' and 'Family_Size'\n",
    "df_groupby_pclass_familysize = titanic_df.groupby(['Pclass', 'Family_Size'])"
   ]
  },
  {
   "cell_type": "code",
   "execution_count": 36,
   "metadata": {},
   "outputs": [
    {
     "name": "stdout",
     "output_type": "stream",
     "text": [
      "(3, 11) is missing in the mapping dictionary.\n"
     ]
    }
   ],
   "source": [
    "# Discover how many missing data for 'Age' in each groupby categories\n",
    "# Compare groupby categories to our mapping table\n",
    "for key, value in df_groupby_pclass_familysize['Age'].agg(lambda x:x.isnull().sum()).items():\n",
    "    if value != 0:\n",
    "        try:\n",
    "            age_pivot_pf_dict[key]\n",
    "        except KeyError:\n",
    "            print(\"%s is missing in the mapping dictionary.\" % str(key))"
   ]
  },
  {
   "cell_type": "code",
   "execution_count": 37,
   "metadata": {},
   "outputs": [
    {
     "data": {
      "text/html": [
       "<div>\n",
       "<style>\n",
       "    .dataframe thead tr:only-child th {\n",
       "        text-align: right;\n",
       "    }\n",
       "\n",
       "    .dataframe thead th {\n",
       "        text-align: left;\n",
       "    }\n",
       "\n",
       "    .dataframe tbody tr th {\n",
       "        vertical-align: top;\n",
       "    }\n",
       "</style>\n",
       "<table border=\"1\" class=\"dataframe\">\n",
       "  <thead>\n",
       "    <tr style=\"text-align: right;\">\n",
       "      <th></th>\n",
       "      <th>PassengerId</th>\n",
       "      <th>Survived</th>\n",
       "      <th>Pclass</th>\n",
       "      <th>Age</th>\n",
       "      <th>Sib_Sp</th>\n",
       "      <th>Par_Ch</th>\n",
       "      <th>Fare</th>\n",
       "      <th>Family_Size</th>\n",
       "    </tr>\n",
       "  </thead>\n",
       "  <tbody>\n",
       "    <tr>\n",
       "      <th>count</th>\n",
       "      <td>7.000000</td>\n",
       "      <td>7.0</td>\n",
       "      <td>7.0</td>\n",
       "      <td>0.0</td>\n",
       "      <td>7.0</td>\n",
       "      <td>7.0</td>\n",
       "      <td>7.00</td>\n",
       "      <td>7.0</td>\n",
       "    </tr>\n",
       "    <tr>\n",
       "      <th>mean</th>\n",
       "      <td>481.714286</td>\n",
       "      <td>0.0</td>\n",
       "      <td>3.0</td>\n",
       "      <td>NaN</td>\n",
       "      <td>8.0</td>\n",
       "      <td>2.0</td>\n",
       "      <td>69.55</td>\n",
       "      <td>11.0</td>\n",
       "    </tr>\n",
       "    <tr>\n",
       "      <th>std</th>\n",
       "      <td>334.963537</td>\n",
       "      <td>0.0</td>\n",
       "      <td>0.0</td>\n",
       "      <td>NaN</td>\n",
       "      <td>0.0</td>\n",
       "      <td>0.0</td>\n",
       "      <td>0.00</td>\n",
       "      <td>0.0</td>\n",
       "    </tr>\n",
       "    <tr>\n",
       "      <th>min</th>\n",
       "      <td>160.000000</td>\n",
       "      <td>0.0</td>\n",
       "      <td>3.0</td>\n",
       "      <td>NaN</td>\n",
       "      <td>8.0</td>\n",
       "      <td>2.0</td>\n",
       "      <td>69.55</td>\n",
       "      <td>11.0</td>\n",
       "    </tr>\n",
       "    <tr>\n",
       "      <th>25%</th>\n",
       "      <td>191.500000</td>\n",
       "      <td>0.0</td>\n",
       "      <td>3.0</td>\n",
       "      <td>NaN</td>\n",
       "      <td>8.0</td>\n",
       "      <td>2.0</td>\n",
       "      <td>69.55</td>\n",
       "      <td>11.0</td>\n",
       "    </tr>\n",
       "    <tr>\n",
       "      <th>50%</th>\n",
       "      <td>325.000000</td>\n",
       "      <td>0.0</td>\n",
       "      <td>3.0</td>\n",
       "      <td>NaN</td>\n",
       "      <td>8.0</td>\n",
       "      <td>2.0</td>\n",
       "      <td>69.55</td>\n",
       "      <td>11.0</td>\n",
       "    </tr>\n",
       "    <tr>\n",
       "      <th>75%</th>\n",
       "      <td>820.000000</td>\n",
       "      <td>0.0</td>\n",
       "      <td>3.0</td>\n",
       "      <td>NaN</td>\n",
       "      <td>8.0</td>\n",
       "      <td>2.0</td>\n",
       "      <td>69.55</td>\n",
       "      <td>11.0</td>\n",
       "    </tr>\n",
       "    <tr>\n",
       "      <th>max</th>\n",
       "      <td>864.000000</td>\n",
       "      <td>0.0</td>\n",
       "      <td>3.0</td>\n",
       "      <td>NaN</td>\n",
       "      <td>8.0</td>\n",
       "      <td>2.0</td>\n",
       "      <td>69.55</td>\n",
       "      <td>11.0</td>\n",
       "    </tr>\n",
       "  </tbody>\n",
       "</table>\n",
       "</div>"
      ],
      "text/plain": [
       "       PassengerId  Survived  Pclass  Age  Sib_Sp  Par_Ch   Fare  Family_Size\n",
       "count     7.000000       7.0     7.0  0.0     7.0     7.0   7.00          7.0\n",
       "mean    481.714286       0.0     3.0  NaN     8.0     2.0  69.55         11.0\n",
       "std     334.963537       0.0     0.0  NaN     0.0     0.0   0.00          0.0\n",
       "min     160.000000       0.0     3.0  NaN     8.0     2.0  69.55         11.0\n",
       "25%     191.500000       0.0     3.0  NaN     8.0     2.0  69.55         11.0\n",
       "50%     325.000000       0.0     3.0  NaN     8.0     2.0  69.55         11.0\n",
       "75%     820.000000       0.0     3.0  NaN     8.0     2.0  69.55         11.0\n",
       "max     864.000000       0.0     3.0  NaN     8.0     2.0  69.55         11.0"
      ]
     },
     "execution_count": 37,
     "metadata": {},
     "output_type": "execute_result"
    }
   ],
   "source": [
    "df_groupby_pclass_familysize.get_group((3,11)).describe()"
   ]
  },
  {
   "cell_type": "markdown",
   "metadata": {},
   "source": [
    "Obviously, for passengers who live in 3rd class cabin and with family_size = 11, all age data are missing."
   ]
  },
  {
   "cell_type": "code",
   "execution_count": 38,
   "metadata": {},
   "outputs": [
    {
     "data": {
      "text/plain": [
       "159           Sage, Master. Thomas Henry\n",
       "180         Sage, Miss. Constance Gladys\n",
       "201                  Sage, Mr. Frederick\n",
       "324             Sage, Mr. George John Jr\n",
       "792              Sage, Miss. Stella Anna\n",
       "846             Sage, Mr. Douglas Bullen\n",
       "863    Sage, Miss. Dorothy Edith \"Dolly\"\n",
       "Name: Name, dtype: object"
      ]
     },
     "execution_count": 38,
     "metadata": {},
     "output_type": "execute_result"
    }
   ],
   "source": [
    "df_groupby_pclass_familysize.get_group((3,11))['Name']"
   ]
  },
  {
   "cell_type": "markdown",
   "metadata": {},
   "source": [
    "We spot a bit strange in (Pclass:3, Family_Size:11) group since there's basically no data in it, and all of them have same family name: Sage. We can conclude it's a poor big Sage family with parents and children. None of them survived. R.I.P.\n",
    "\n",
    "It's difficult to fill age data with such a family. I will remove them all from dataset."
   ]
  },
  {
   "cell_type": "code",
   "execution_count": 39,
   "metadata": {
    "collapsed": true
   },
   "outputs": [],
   "source": [
    "# Remove Sage family in Titanic dataframe\n",
    "titanic_df = titanic_df.drop(list(df_groupby_pclass_familysize.get_group((3,11)).index))"
   ]
  },
  {
   "cell_type": "markdown",
   "metadata": {},
   "source": [
    "Loop each row and mapping missing `Age` values to correspongding `PassengerId`. We will use this dictionary to fill original Titanic dataframe."
   ]
  },
  {
   "cell_type": "code",
   "execution_count": 40,
   "metadata": {},
   "outputs": [
    {
     "name": "stdout",
     "output_type": "stream",
     "text": [
      "0\n"
     ]
    }
   ],
   "source": [
    "# Fill missing values in Age based on our \"Mapping\" table\n",
    "for index in titanic_df[titanic_df['Age'].isnull() == True]['PassengerId'].values:\n",
    "    key = (titanic_df[titanic_df['PassengerId']==index]['Pclass'].values[0], titanic_df[titanic_df['PassengerId']==index]['Family_Size'].values[0])\n",
    "    value = np.random.normal(age_pivot_pf_dict[key][0], 0.1*age_pivot_pf_dict[key][1])\n",
    "    \n",
    "    titanic_df.loc[titanic_df['PassengerId'] == index,'Age'] = value\n",
    "\n",
    "print(titanic_df['Age'].isnull().sum())"
   ]
  },
  {
   "cell_type": "code",
   "execution_count": 41,
   "metadata": {},
   "outputs": [
    {
     "name": "stdout",
     "output_type": "stream",
     "text": [
      "count    884.000000\n",
      "mean      29.587453\n",
      "std       13.315119\n",
      "min        0.420000\n",
      "25%       21.799554\n",
      "50%       28.126239\n",
      "75%       36.276218\n",
      "max       80.000000\n",
      "Name: Age, dtype: float64\n",
      "\n",
      "\n",
      "Mode is 24.000000\n"
     ]
    }
   ],
   "source": [
    "print(titanic_df['Age'].describe())\n",
    "print(\"\\n\")\n",
    "print('Mode is %f'%titanic_df['Age'].mode())"
   ]
  },
  {
   "cell_type": "code",
   "execution_count": 42,
   "metadata": {
    "scrolled": true
   },
   "outputs": [
    {
     "data": {
      "image/png": "[encoded data removed]",
      "text/plain": [
       "<matplotlib.figure.Figure at 0x11cf08198>"
      ]
     },
     "metadata": {},
     "output_type": "display_data"
    }
   ],
   "source": [
    "titanic_df['Age'].plot.hist(alpha=0.5, bins=20, rwidth=10)\n",
    "plt.title(\"The Frequency Distribution of Age Data After Cleaning\")\n",
    "plt.xlabel(\"Age\")\n",
    "sns.set(font_scale = .5)"
   ]
  },
  {
   "cell_type": "markdown",
   "metadata": {},
   "source": [
    "The plot is similar to the previous one. We finished data cleaning by retaining data distribution shape. No more missing value in `Age` feature. As we can see, both the mean and standard deviation of age value are smaller to previous. But the mode of age value remains the same."
   ]
  },
  {
   "cell_type": "markdown",
   "metadata": {},
   "source": [
    "### Some minor issues\n",
    "In this final step in wrangling phase, I will tidy data up and eliminate unrelevant features:\n",
    "1. Drop 'Ticket' column since it represents an id unique to everyone and has nothing to do with survival status;\n",
    "2. Drop 'Sibsp' and 'Parch' because their informations have already included in 'Family_Size';\n",
    "3. Convert float numbers to into;\n",
    "3. Rearrage columns;"
   ]
  },
  {
   "cell_type": "code",
   "execution_count": 43,
   "metadata": {
    "scrolled": true
   },
   "outputs": [
    {
     "data": {
      "text/plain": [
       "PassengerId      int64\n",
       "Survived         int64\n",
       "Pclass           int64\n",
       "Name            object\n",
       "Gender          object\n",
       "Age            float64\n",
       "Fare           float64\n",
       "Embarked        object\n",
       "Family_Size      int64\n",
       "Alone             bool\n",
       "Title           object\n",
       "dtype: object"
      ]
     },
     "execution_count": 43,
     "metadata": {},
     "output_type": "execute_result"
    }
   ],
   "source": [
    "# Drop columns\n",
    "titanic_df = titanic_df.drop(['Ticket', 'Sib_Sp', 'Par_Ch'], axis=1)\n",
    "titanic_df.dtypes"
   ]
  },
  {
   "cell_type": "code",
   "execution_count": 44,
   "metadata": {
    "collapsed": true
   },
   "outputs": [],
   "source": [
    "def convert_int_helper(data):\n",
    "    \"\"\"\n",
    "    Convert float to int\n",
    "    \"\"\"\n",
    "    return int(round(data))\n",
    "\n",
    "titanic_df['Fare'] = titanic_df['Fare'].apply(convert_int_helper)\n",
    "titanic_df['Age'] = titanic_df['Age'].apply(convert_int_helper)"
   ]
  },
  {
   "cell_type": "code",
   "execution_count": 45,
   "metadata": {},
   "outputs": [
    {
     "data": {
      "text/html": [
       "<div>\n",
       "<style>\n",
       "    .dataframe thead tr:only-child th {\n",
       "        text-align: right;\n",
       "    }\n",
       "\n",
       "    .dataframe thead th {\n",
       "        text-align: left;\n",
       "    }\n",
       "\n",
       "    .dataframe tbody tr th {\n",
       "        vertical-align: top;\n",
       "    }\n",
       "</style>\n",
       "<table border=\"1\" class=\"dataframe\">\n",
       "  <thead>\n",
       "    <tr style=\"text-align: right;\">\n",
       "      <th></th>\n",
       "      <th>PassengerId</th>\n",
       "      <th>Survived</th>\n",
       "      <th>Name</th>\n",
       "      <th>Title</th>\n",
       "      <th>Gender</th>\n",
       "      <th>Age</th>\n",
       "      <th>Alone</th>\n",
       "      <th>Family_Size</th>\n",
       "      <th>Pclass</th>\n",
       "      <th>Fare</th>\n",
       "      <th>Embarked</th>\n",
       "    </tr>\n",
       "  </thead>\n",
       "  <tbody>\n",
       "    <tr>\n",
       "      <th>0</th>\n",
       "      <td>1</td>\n",
       "      <td>0</td>\n",
       "      <td>Braund, Mr. Owen Harris</td>\n",
       "      <td>Mr</td>\n",
       "      <td>male</td>\n",
       "      <td>22</td>\n",
       "      <td>False</td>\n",
       "      <td>2</td>\n",
       "      <td>3</td>\n",
       "      <td>7</td>\n",
       "      <td>S</td>\n",
       "    </tr>\n",
       "    <tr>\n",
       "      <th>1</th>\n",
       "      <td>2</td>\n",
       "      <td>1</td>\n",
       "      <td>Cumings, Mrs. John Bradley (Florence Briggs Th...</td>\n",
       "      <td>Mrs</td>\n",
       "      <td>female</td>\n",
       "      <td>38</td>\n",
       "      <td>False</td>\n",
       "      <td>2</td>\n",
       "      <td>1</td>\n",
       "      <td>71</td>\n",
       "      <td>C</td>\n",
       "    </tr>\n",
       "    <tr>\n",
       "      <th>2</th>\n",
       "      <td>3</td>\n",
       "      <td>1</td>\n",
       "      <td>Heikkinen, Miss. Laina</td>\n",
       "      <td>Miss</td>\n",
       "      <td>female</td>\n",
       "      <td>26</td>\n",
       "      <td>True</td>\n",
       "      <td>1</td>\n",
       "      <td>3</td>\n",
       "      <td>8</td>\n",
       "      <td>S</td>\n",
       "    </tr>\n",
       "    <tr>\n",
       "      <th>3</th>\n",
       "      <td>4</td>\n",
       "      <td>1</td>\n",
       "      <td>Futrelle, Mrs. Jacques Heath (Lily May Peel)</td>\n",
       "      <td>Mrs</td>\n",
       "      <td>female</td>\n",
       "      <td>35</td>\n",
       "      <td>False</td>\n",
       "      <td>2</td>\n",
       "      <td>1</td>\n",
       "      <td>53</td>\n",
       "      <td>S</td>\n",
       "    </tr>\n",
       "    <tr>\n",
       "      <th>4</th>\n",
       "      <td>5</td>\n",
       "      <td>0</td>\n",
       "      <td>Allen, Mr. William Henry</td>\n",
       "      <td>Mr</td>\n",
       "      <td>male</td>\n",
       "      <td>35</td>\n",
       "      <td>True</td>\n",
       "      <td>1</td>\n",
       "      <td>3</td>\n",
       "      <td>8</td>\n",
       "      <td>S</td>\n",
       "    </tr>\n",
       "  </tbody>\n",
       "</table>\n",
       "</div>"
      ],
      "text/plain": [
       "   PassengerId  Survived                                               Name  \\\n",
       "0            1         0                            Braund, Mr. Owen Harris   \n",
       "1            2         1  Cumings, Mrs. John Bradley (Florence Briggs Th...   \n",
       "2            3         1                             Heikkinen, Miss. Laina   \n",
       "3            4         1       Futrelle, Mrs. Jacques Heath (Lily May Peel)   \n",
       "4            5         0                           Allen, Mr. William Henry   \n",
       "\n",
       "  Title  Gender  Age  Alone  Family_Size  Pclass  Fare Embarked  \n",
       "0    Mr    male   22  False            2       3     7        S  \n",
       "1   Mrs  female   38  False            2       1    71        C  \n",
       "2  Miss  female   26   True            1       3     8        S  \n",
       "3   Mrs  female   35  False            2       1    53        S  \n",
       "4    Mr    male   35   True            1       3     8        S  "
      ]
     },
     "execution_count": 45,
     "metadata": {},
     "output_type": "execute_result"
    }
   ],
   "source": [
    "# Rearrange columns\n",
    "titanic_df = titanic_df[['PassengerId', 'Survived', 'Name', 'Title', 'Gender', 'Age', 'Alone', 'Family_Size', 'Pclass', 'Fare', 'Embarked']]\n",
    "titanic_df.head()"
   ]
  },
  {
   "cell_type": "markdown",
   "metadata": {},
   "source": [
    "---\n",
    "## EXPLORATORY PHASE\n",
    "We finally come to the phsase of exploration! Let's first take a look at our data. Then we will:\n",
    "* **Wandering Around**: do some exploratory works and build up an intuitive sense about relationships among features to find for later research;\n",
    "* **Test for Significant With Survival Status**: with potential features at hand, visualize data distribution, and test how well these obtained sample frequencied or proportions fit expected frequencies;"
   ]
  },
  {
   "cell_type": "code",
   "execution_count": 46,
   "metadata": {},
   "outputs": [
    {
     "name": "stdout",
     "output_type": "stream",
     "text": [
      "<class 'pandas.core.frame.DataFrame'>\n",
      "Int64Index: 884 entries, 0 to 890\n",
      "Data columns (total 11 columns):\n",
      "PassengerId    884 non-null int64\n",
      "Survived       884 non-null int64\n",
      "Name           884 non-null object\n",
      "Title          884 non-null object\n",
      "Gender         884 non-null object\n",
      "Age            884 non-null int64\n",
      "Alone          884 non-null bool\n",
      "Family_Size    884 non-null int64\n",
      "Pclass         884 non-null int64\n",
      "Fare           884 non-null int64\n",
      "Embarked       884 non-null object\n",
      "dtypes: bool(1), int64(6), object(4)\n",
      "memory usage: 76.8+ KB\n"
     ]
    }
   ],
   "source": [
    "titanic_df.info()"
   ]
  },
  {
   "cell_type": "code",
   "execution_count": 47,
   "metadata": {},
   "outputs": [
    {
     "data": {
      "text/html": [
       "<div>\n",
       "<style>\n",
       "    .dataframe thead tr:only-child th {\n",
       "        text-align: right;\n",
       "    }\n",
       "\n",
       "    .dataframe thead th {\n",
       "        text-align: left;\n",
       "    }\n",
       "\n",
       "    .dataframe tbody tr th {\n",
       "        vertical-align: top;\n",
       "    }\n",
       "</style>\n",
       "<table border=\"1\" class=\"dataframe\">\n",
       "  <thead>\n",
       "    <tr style=\"text-align: right;\">\n",
       "      <th></th>\n",
       "      <th>PassengerId</th>\n",
       "      <th>Survived</th>\n",
       "      <th>Age</th>\n",
       "      <th>Family_Size</th>\n",
       "      <th>Pclass</th>\n",
       "      <th>Fare</th>\n",
       "    </tr>\n",
       "  </thead>\n",
       "  <tbody>\n",
       "    <tr>\n",
       "      <th>count</th>\n",
       "      <td>884.000000</td>\n",
       "      <td>884.000000</td>\n",
       "      <td>884.000000</td>\n",
       "      <td>884.000000</td>\n",
       "      <td>884.000000</td>\n",
       "      <td>884.000000</td>\n",
       "    </tr>\n",
       "    <tr>\n",
       "      <th>mean</th>\n",
       "      <td>445.717195</td>\n",
       "      <td>0.386878</td>\n",
       "      <td>29.587104</td>\n",
       "      <td>1.832579</td>\n",
       "      <td>2.303167</td>\n",
       "      <td>31.915158</td>\n",
       "    </tr>\n",
       "    <tr>\n",
       "      <th>std</th>\n",
       "      <td>256.872441</td>\n",
       "      <td>0.487311</td>\n",
       "      <td>13.313125</td>\n",
       "      <td>1.401028</td>\n",
       "      <td>0.837101</td>\n",
       "      <td>49.775471</td>\n",
       "    </tr>\n",
       "    <tr>\n",
       "      <th>min</th>\n",
       "      <td>1.000000</td>\n",
       "      <td>0.000000</td>\n",
       "      <td>0.000000</td>\n",
       "      <td>1.000000</td>\n",
       "      <td>1.000000</td>\n",
       "      <td>0.000000</td>\n",
       "    </tr>\n",
       "    <tr>\n",
       "      <th>25%</th>\n",
       "      <td>224.750000</td>\n",
       "      <td>0.000000</td>\n",
       "      <td>22.000000</td>\n",
       "      <td>1.000000</td>\n",
       "      <td>2.000000</td>\n",
       "      <td>8.000000</td>\n",
       "    </tr>\n",
       "    <tr>\n",
       "      <th>50%</th>\n",
       "      <td>446.500000</td>\n",
       "      <td>0.000000</td>\n",
       "      <td>28.000000</td>\n",
       "      <td>1.000000</td>\n",
       "      <td>3.000000</td>\n",
       "      <td>14.000000</td>\n",
       "    </tr>\n",
       "    <tr>\n",
       "      <th>75%</th>\n",
       "      <td>667.250000</td>\n",
       "      <td>1.000000</td>\n",
       "      <td>36.000000</td>\n",
       "      <td>2.000000</td>\n",
       "      <td>3.000000</td>\n",
       "      <td>30.000000</td>\n",
       "    </tr>\n",
       "    <tr>\n",
       "      <th>max</th>\n",
       "      <td>891.000000</td>\n",
       "      <td>1.000000</td>\n",
       "      <td>80.000000</td>\n",
       "      <td>8.000000</td>\n",
       "      <td>3.000000</td>\n",
       "      <td>512.000000</td>\n",
       "    </tr>\n",
       "  </tbody>\n",
       "</table>\n",
       "</div>"
      ],
      "text/plain": [
       "       PassengerId    Survived         Age  Family_Size      Pclass  \\\n",
       "count   884.000000  884.000000  884.000000   884.000000  884.000000   \n",
       "mean    445.717195    0.386878   29.587104     1.832579    2.303167   \n",
       "std     256.872441    0.487311   13.313125     1.401028    0.837101   \n",
       "min       1.000000    0.000000    0.000000     1.000000    1.000000   \n",
       "25%     224.750000    0.000000   22.000000     1.000000    2.000000   \n",
       "50%     446.500000    0.000000   28.000000     1.000000    3.000000   \n",
       "75%     667.250000    1.000000   36.000000     2.000000    3.000000   \n",
       "max     891.000000    1.000000   80.000000     8.000000    3.000000   \n",
       "\n",
       "             Fare  \n",
       "count  884.000000  \n",
       "mean    31.915158  \n",
       "std     49.775471  \n",
       "min      0.000000  \n",
       "25%      8.000000  \n",
       "50%     14.000000  \n",
       "75%     30.000000  \n",
       "max    512.000000  "
      ]
     },
     "execution_count": 47,
     "metadata": {},
     "output_type": "execute_result"
    }
   ],
   "source": [
    "titanic_df.describe(include=[np.number])"
   ]
  },
  {
   "cell_type": "code",
   "execution_count": 48,
   "metadata": {
    "scrolled": true
   },
   "outputs": [
    {
     "data": {
      "text/html": [
       "<div>\n",
       "<style>\n",
       "    .dataframe thead tr:only-child th {\n",
       "        text-align: right;\n",
       "    }\n",
       "\n",
       "    .dataframe thead th {\n",
       "        text-align: left;\n",
       "    }\n",
       "\n",
       "    .dataframe tbody tr th {\n",
       "        vertical-align: top;\n",
       "    }\n",
       "</style>\n",
       "<table border=\"1\" class=\"dataframe\">\n",
       "  <thead>\n",
       "    <tr style=\"text-align: right;\">\n",
       "      <th></th>\n",
       "      <th>Name</th>\n",
       "      <th>Title</th>\n",
       "      <th>Gender</th>\n",
       "      <th>Embarked</th>\n",
       "    </tr>\n",
       "  </thead>\n",
       "  <tbody>\n",
       "    <tr>\n",
       "      <th>count</th>\n",
       "      <td>884</td>\n",
       "      <td>884</td>\n",
       "      <td>884</td>\n",
       "      <td>884</td>\n",
       "    </tr>\n",
       "    <tr>\n",
       "      <th>unique</th>\n",
       "      <td>884</td>\n",
       "      <td>5</td>\n",
       "      <td>2</td>\n",
       "      <td>3</td>\n",
       "    </tr>\n",
       "    <tr>\n",
       "      <th>top</th>\n",
       "      <td>Sjostedt, Mr. Ernst Adolf</td>\n",
       "      <td>Mr</td>\n",
       "      <td>male</td>\n",
       "      <td>S</td>\n",
       "    </tr>\n",
       "    <tr>\n",
       "      <th>freq</th>\n",
       "      <td>1</td>\n",
       "      <td>514</td>\n",
       "      <td>573</td>\n",
       "      <td>639</td>\n",
       "    </tr>\n",
       "  </tbody>\n",
       "</table>\n",
       "</div>"
      ],
      "text/plain": [
       "                             Name Title Gender Embarked\n",
       "count                         884   884    884      884\n",
       "unique                        884     5      2        3\n",
       "top     Sjostedt, Mr. Ernst Adolf    Mr   male        S\n",
       "freq                            1   514    573      639"
      ]
     },
     "execution_count": 48,
     "metadata": {},
     "output_type": "execute_result"
    }
   ],
   "source": [
    "titanic_df.describe(include=[np.object])"
   ]
  },
  {
   "cell_type": "markdown",
   "metadata": {},
   "source": [
    "Then we return to the problem: **What factors made people more likely to survive?**\n",
    "\n",
    "Before we dive into all those stats work, let's build up an intuitive sense of relationships between features, by visualizing data."
   ]
  },
  {
   "cell_type": "markdown",
   "metadata": {},
   "source": [
    "### Wandering Around\n",
    "Let's find out relations among features. Here're variables we are going to explore:\n",
    "\n",
    "|scales of measurements|variables|\n",
    "|:---|:---|\n",
    "|Categorical - *Nominal*|`Pclass`, `Embarked`|\n",
    "|Categorical - *Dichotomous* (also part of nominal)|`Survived`, `Gender`, `Alone`|\n",
    "|Numerical - *Continuous* (linear, Interval)| `Age`, `Fare`|\n",
    "|Numerical - *Discrete*|`Family_Size`|"
   ]
  },
  {
   "cell_type": "code",
   "execution_count": 49,
   "metadata": {
    "scrolled": true
   },
   "outputs": [
    {
     "data": {
      "image/png": "[encoded data removed]",
      "text/plain": [
       "<matplotlib.figure.Figure at 0x11d0faa58>"
      ]
     },
     "metadata": {},
     "output_type": "display_data"
    }
   ],
   "source": [
    "# Visualize distributions of data\n",
    "sns.set(font_scale = 2)\n",
    "g = sns.PairGrid(titanic_df,\n",
    "                 x_vars=[\"Title\", \"Gender\", \"Pclass\", \"Embarked\", \"Alone\"],\n",
    "                 y_vars=[\"Fare\", \"Age\"],\n",
    "                 aspect=1, size=6)\n",
    "g.map(sns.violinplot, palette=\"pastel\");"
   ]
  },
  {
   "cell_type": "markdown",
   "metadata": {},
   "source": [
    "* Most data of `Fare` variable cluster at the bottom of violin plot;\n",
    "* While data of `Age` is distributed more normally `Fare` data (except when plot with `Title`);\n",
    "* An interesting phenomenon is the person from Cherbourg who spent most money for `Fare`;"
   ]
  },
  {
   "cell_type": "code",
   "execution_count": 51,
   "metadata": {
    "scrolled": false
   },
   "outputs": [
    {
     "data": {
      "text/plain": [
       "<matplotlib.text.Text at 0x11e72d748>"
      ]
     },
     "execution_count": 51,
     "metadata": {},
     "output_type": "execute_result"
    },
    {
     "data": {
      "image/png": "[encoded data removed]",
      "text/plain": [
       "<matplotlib.figure.Figure at 0x11de4ff28>"
      ]
     },
     "metadata": {},
     "output_type": "display_data"
    }
   ],
   "source": [
    "sns.set(font_scale = 1)\n",
    "sns.lmplot(x='Age', y='Fare', hue='Gender', data=titanic_df, palette=\"Set2\")\n",
    "plt.title(\"The Distribution of Fare By Age and Gender\")"
   ]
  },
  {
   "cell_type": "markdown",
   "metadata": {},
   "source": [
    "* From the plot, we can see of greater the age of a woman is, the likihood she might spend on `Fare` increased slightly more than men did."
   ]
  },
  {
   "cell_type": "code",
   "execution_count": 52,
   "metadata": {},
   "outputs": [
    {
     "name": "stderr",
     "output_type": "stream",
     "text": [
      "/Users/hj/anaconda/lib/python3.6/site-packages/statsmodels/nonparametric/kdetools.py:20: VisibleDeprecationWarning: using a non-integer number instead of an integer will result in an error in the future\n",
      "  y = X[:m/2+1] + np.r_[0,X[m/2+1:],0]*1j\n"
     ]
    },
    {
     "data": {
      "text/plain": [
       "<matplotlib.text.Text at 0x11e8bfb70>"
      ]
     },
     "execution_count": 52,
     "metadata": {},
     "output_type": "execute_result"
    },
    {
     "data": {
      "image/png": "[encoded data removed]",
      "text/plain": [
       "<matplotlib.figure.Figure at 0x11e721438>"
      ]
     },
     "metadata": {},
     "output_type": "display_data"
    }
   ],
   "source": [
    "# Visualize data distribution of Age and Fare features\n",
    "sns.jointplot(x='Age', y='Fare', data=titanic_df, kind=\"reg\")\n",
    "# sns.set(font_scale = 1)\n",
    "plt.title(\"The Distribution of Fare By Age with Curve Shape\")"
   ]
  },
  {
   "cell_type": "markdown",
   "metadata": {},
   "source": [
    "* The relationship between `Age` and `Fare` is slightly positive-correlated, with pearsonr=0.11."
   ]
  },
  {
   "cell_type": "code",
   "execution_count": 53,
   "metadata": {},
   "outputs": [
    {
     "data": {
      "text/plain": [
       "<matplotlib.text.Text at 0x11edc9630>"
      ]
     },
     "execution_count": 53,
     "metadata": {},
     "output_type": "execute_result"
    },
    {
     "data": {
      "image/png": "[encoded data removed]",
      "text/plain": [
       "<matplotlib.figure.Figure at 0x11de58fd0>"
      ]
     },
     "metadata": {},
     "output_type": "display_data"
    }
   ],
   "source": [
    "# Visualize age and title, pclass\n",
    "ax = sns.barplot(x='Title', y='Fare', hue=\"Pclass\", data=titanic_df, ci=None)\n",
    "ax.set_title('Average fare for different title and pclass')\n",
    "ax.set_ylabel('Fares')\n",
    "ax.set_xlabel('')\n",
    "# sns.set(font_scale = 2)"
   ]
  },
  {
   "cell_type": "markdown",
   "metadata": {},
   "source": [
    "* Unsurprisingly, 1st Class takes most of `Fare` expenses.\n",
    "* Peole with `Miss` or `Master` titles, spend more money than others'."
   ]
  },
  {
   "cell_type": "code",
   "execution_count": 54,
   "metadata": {},
   "outputs": [
    {
     "data": {
      "text/plain": [
       "<matplotlib.text.Text at 0x11edf5128>"
      ]
     },
     "execution_count": 54,
     "metadata": {},
     "output_type": "execute_result"
    },
    {
     "data": {
      "image/png": "[encoded data removed]",
      "text/plain": [
       "<matplotlib.figure.Figure at 0x11de9b0f0>"
      ]
     },
     "metadata": {},
     "output_type": "display_data"
    }
   ],
   "source": [
    "# Visualize the relationship between Pclass and fare\n",
    "ax = sns.violinplot(x=titanic_df['Pclass'], y=titanic_df['Fare'], hue=titanic_df['Gender'], split=True, palette=\"Set3\")\n",
    "ax.set_title('Distribution of Fare in Different Pclass')\n",
    "ax.set_ylabel('Fare')\n",
    "ax.set_xlabel('Pclass')\n",
    "# sns.set(font_scale = 0.5)"
   ]
  },
  {
   "cell_type": "markdown",
   "metadata": {},
   "source": [
    "* More female passengers spend `Fare` price in range from 200 to 300."
   ]
  },
  {
   "cell_type": "code",
   "execution_count": 55,
   "metadata": {},
   "outputs": [
    {
     "data": {
      "text/plain": [
       "<matplotlib.text.Text at 0x11eeb6080>"
      ]
     },
     "execution_count": 55,
     "metadata": {},
     "output_type": "execute_result"
    },
    {
     "data": {
      "image/png": "[encoded data removed]",
      "text/plain": [
       "<matplotlib.figure.Figure at 0x11de109e8>"
      ]
     },
     "metadata": {},
     "output_type": "display_data"
    }
   ],
   "source": [
    "# Visualize embarked and age, pclass\n",
    "ax = sns.violinplot(x='Embarked', y='Age', hue=\"Pclass\", data=titanic_df, palette=\"Set2\")\n",
    "ax.set_title('Average Age for different Embarked Port and Pclass')\n",
    "ax.set_ylabel('Age')\n",
    "ax.set_xlabel('Embarked Port')\n",
    "# sns.set(font_scale = 2)"
   ]
  },
  {
   "cell_type": "markdown",
   "metadata": {},
   "source": [
    "* We can see, age range of people from Southampton are wider than Cherbourg's and Queenstown."
   ]
  },
  {
   "cell_type": "markdown",
   "metadata": {},
   "source": [
    "### Test for Significant With Survival Status\n",
    "Gender, Pclass, Loneliness, Embarked, Age Group, Title are features we are focusing on.\n",
    "\n",
    "* Groupby() and visualize\n",
    "* Test for significant and effect size\n",
    "* Compare with each other\n",
    "\n",
    "We will conduct chi-square test for significant."
   ]
  },
  {
   "cell_type": "code",
   "execution_count": 56,
   "metadata": {
    "collapsed": true
   },
   "outputs": [],
   "source": [
    "survival_features_stats = {}"
   ]
  },
  {
   "cell_type": "markdown",
   "metadata": {},
   "source": [
    "#### By Gender"
   ]
  },
  {
   "cell_type": "code",
   "execution_count": 57,
   "metadata": {
    "scrolled": true
   },
   "outputs": [
    {
     "data": {
      "text/plain": [
       "Gender\n",
       "female    0.749196\n",
       "male      0.190227\n",
       "Name: Survived, dtype: float64"
      ]
     },
     "execution_count": 57,
     "metadata": {},
     "output_type": "execute_result"
    }
   ],
   "source": [
    "# Seperate data by Gender to see survival rate of male and female\n",
    "titanic_df.groupby('Gender')['Survived'].mean()"
   ]
  },
  {
   "cell_type": "code",
   "execution_count": 58,
   "metadata": {},
   "outputs": [
    {
     "data": {
      "text/plain": [
       "<matplotlib.text.Text at 0x11f2be550>"
      ]
     },
     "execution_count": 58,
     "metadata": {},
     "output_type": "execute_result"
    },
    {
     "data": {
      "image/png": "[encoded data removed]",
      "text/plain": [
       "<matplotlib.figure.Figure at 0x11e57f358>"
      ]
     },
     "metadata": {},
     "output_type": "display_data"
    }
   ],
   "source": [
    "sns.set(style=\"darkgrid\")\n",
    "\n",
    "ax = sns.barplot(x='Gender', y='Survived', data=titanic_df, ci=None)\n",
    "ax.set_title('Survival Rate By Gender')\n",
    "ax.set_ylabel('Possibilities of Survival')\n",
    "ax.set_xlabel('')"
   ]
  },
  {
   "cell_type": "markdown",
   "metadata": {},
   "source": [
    "* The difference in survival rate between male and female is remarkably significant."
   ]
  },
  {
   "cell_type": "code",
   "execution_count": 59,
   "metadata": {},
   "outputs": [
    {
     "data": {
      "text/html": [
       "<div>\n",
       "<style>\n",
       "    .dataframe thead tr:only-child th {\n",
       "        text-align: right;\n",
       "    }\n",
       "\n",
       "    .dataframe thead th {\n",
       "        text-align: left;\n",
       "    }\n",
       "\n",
       "    .dataframe tbody tr th {\n",
       "        vertical-align: top;\n",
       "    }\n",
       "</style>\n",
       "<table border=\"1\" class=\"dataframe\">\n",
       "  <thead>\n",
       "    <tr style=\"text-align: right;\">\n",
       "      <th>Gender</th>\n",
       "      <th>female</th>\n",
       "      <th>male</th>\n",
       "    </tr>\n",
       "    <tr>\n",
       "      <th>Survived</th>\n",
       "      <th></th>\n",
       "      <th></th>\n",
       "    </tr>\n",
       "  </thead>\n",
       "  <tbody>\n",
       "    <tr>\n",
       "      <th>0</th>\n",
       "      <td>78</td>\n",
       "      <td>464</td>\n",
       "    </tr>\n",
       "    <tr>\n",
       "      <th>1</th>\n",
       "      <td>233</td>\n",
       "      <td>109</td>\n",
       "    </tr>\n",
       "  </tbody>\n",
       "</table>\n",
       "</div>"
      ],
      "text/plain": [
       "Gender    female  male\n",
       "Survived              \n",
       "0             78   464\n",
       "1            233   109"
      ]
     },
     "execution_count": 59,
     "metadata": {},
     "output_type": "execute_result"
    }
   ],
   "source": [
    "# Chi-Squared Tests\n",
    "from scipy.stats import chi2_contingency, chi2\n",
    "# Pclass to Survivability\n",
    "pivot = pd.pivot_table(data = titanic_df[['Survived', 'Gender']], index='Survived', columns = 'Gender', aggfunc = len)\n",
    "pivot"
   ]
  },
  {
   "cell_type": "code",
   "execution_count": 60,
   "metadata": {},
   "outputs": [
    {
     "name": "stdout",
     "output_type": "stream",
     "text": [
      "Results of Chi-Squared test on gender to Survival.\n",
      "Does gender have a significant effect on Survival?\n",
      "Chi-Squared Score = 263.181265, it's bigger than chi-critical value 3.841459.\n",
      "P-value = 0.000000\n"
     ]
    }
   ],
   "source": [
    "chi_2, p_value, dof, expected = chi2_contingency(pivot)\n",
    "print(\"Results of Chi-Squared test on gender to Survival.\")\n",
    "print(\"Does gender have a significant effect on Survival?\")\n",
    "print(\"Chi-Squared Score = %f, \" % (chi_2) + \"it's bigger than chi-critical value %f.\" % (chi2.isf(q=0.05, df=dof)) \\\n",
    "         if chi_2 > chi2.isf(q=0.05, df=dof) \\\n",
    "         else \"It's smaller than chi-critical value %f.\" % (chi2.isf(q=0.05, df=dof)))\n",
    "print(\"P-value = %f\" % (p_value))"
   ]
  },
  {
   "cell_type": "markdown",
   "metadata": {},
   "source": [
    "* **Null Hypothesis** is that Gender and Survived are independent.\n",
    "* **Alternative Hypothesis** is that Gender and Survived are not independent.\n",
    "* As you can see, the results are significant for all reasonable alphas.\n",
    "* We can reject the Null Hypothesis"
   ]
  },
  {
   "cell_type": "code",
   "execution_count": 61,
   "metadata": {},
   "outputs": [
    {
     "name": "stdout",
     "output_type": "stream",
     "text": [
      "For k-1=1, Cramer’s Phi Coefficient is 0.548066.\n"
     ]
    }
   ],
   "source": [
    "survival_features_stats['Gender'] = [(chi_2, chi2.isf(q=0.05, df=dof)), get_cramers_v(pivot)]"
   ]
  },
  {
   "cell_type": "markdown",
   "metadata": {},
   "source": [
    "#### By Pclass"
   ]
  },
  {
   "cell_type": "code",
   "execution_count": 62,
   "metadata": {},
   "outputs": [
    {
     "data": {
      "text/plain": [
       "Pclass\n",
       "1    0.629630\n",
       "2    0.472826\n",
       "3    0.245868\n",
       "Name: Survived, dtype: float64"
      ]
     },
     "execution_count": 62,
     "metadata": {},
     "output_type": "execute_result"
    }
   ],
   "source": [
    "# Seperate data by Pclass to see survival rate\n",
    "titanic_df.groupby('Pclass')['Survived'].mean()"
   ]
  },
  {
   "cell_type": "code",
   "execution_count": 63,
   "metadata": {
    "scrolled": false
   },
   "outputs": [
    {
     "data": {
      "text/plain": [
       "<matplotlib.text.Text at 0x11f40b278>"
      ]
     },
     "execution_count": 63,
     "metadata": {},
     "output_type": "execute_result"
    },
    {
     "data": {
      "image/png": "[encoded data removed]",
      "text/plain": [
       "<matplotlib.figure.Figure at 0x11f2a2e80>"
      ]
     },
     "metadata": {},
     "output_type": "display_data"
    }
   ],
   "source": [
    "sns.set(style=\"whitegrid\")\n",
    "\n",
    "ax = sns.barplot(x=titanic_df['Pclass'], y=titanic_df['Survived'])\n",
    "ax.set_title('Survival Rate By Pclass')\n",
    "ax.set_ylabel('Possibilities of Survival')\n",
    "ax.set_xlabel('Pclass')"
   ]
  },
  {
   "cell_type": "markdown",
   "metadata": {},
   "source": [
    "* The difference in survival rate among Pclass is quite significant."
   ]
  },
  {
   "cell_type": "code",
   "execution_count": 64,
   "metadata": {},
   "outputs": [
    {
     "data": {
      "text/html": [
       "<div>\n",
       "<style>\n",
       "    .dataframe thead tr:only-child th {\n",
       "        text-align: right;\n",
       "    }\n",
       "\n",
       "    .dataframe thead th {\n",
       "        text-align: left;\n",
       "    }\n",
       "\n",
       "    .dataframe tbody tr th {\n",
       "        vertical-align: top;\n",
       "    }\n",
       "</style>\n",
       "<table border=\"1\" class=\"dataframe\">\n",
       "  <thead>\n",
       "    <tr style=\"text-align: right;\">\n",
       "      <th>Pclass</th>\n",
       "      <th>1</th>\n",
       "      <th>2</th>\n",
       "      <th>3</th>\n",
       "    </tr>\n",
       "    <tr>\n",
       "      <th>Survived</th>\n",
       "      <th></th>\n",
       "      <th></th>\n",
       "      <th></th>\n",
       "    </tr>\n",
       "  </thead>\n",
       "  <tbody>\n",
       "    <tr>\n",
       "      <th>0</th>\n",
       "      <td>80</td>\n",
       "      <td>97</td>\n",
       "      <td>365</td>\n",
       "    </tr>\n",
       "    <tr>\n",
       "      <th>1</th>\n",
       "      <td>136</td>\n",
       "      <td>87</td>\n",
       "      <td>119</td>\n",
       "    </tr>\n",
       "  </tbody>\n",
       "</table>\n",
       "</div>"
      ],
      "text/plain": [
       "Pclass      1   2    3\n",
       "Survived              \n",
       "0          80  97  365\n",
       "1         136  87  119"
      ]
     },
     "execution_count": 64,
     "metadata": {},
     "output_type": "execute_result"
    }
   ],
   "source": [
    "pivot = pd.pivot_table(data = titanic_df[['Survived', 'Pclass']], index='Survived', columns = 'Pclass', aggfunc = len)\n",
    "pivot"
   ]
  },
  {
   "cell_type": "code",
   "execution_count": 65,
   "metadata": {},
   "outputs": [
    {
     "name": "stdout",
     "output_type": "stream",
     "text": [
      "Results of Chi-Squared test on Pclass to Survival.\n",
      "Does pclass have a significant effect on Survival?\n",
      "Chi-Squared Score = 99.962939, it's bigger than chi-critical value 5.991465.\n",
      "P-value = 0.000000\n"
     ]
    }
   ],
   "source": [
    "chi_2, p_value, dof, expected = chi2_contingency(pivot)\n",
    "print(\"Results of Chi-Squared test on Pclass to Survival.\")\n",
    "print(\"Does pclass have a significant effect on Survival?\")\n",
    "print(\"Chi-Squared Score = %f, \" % (chi_2) + \"it's bigger than chi-critical value %f.\" % (chi2.isf(q=0.05, df=dof)) \\\n",
    "         if chi_2 > chi2.isf(q=0.05, df=dof) \\\n",
    "         else \"It's smaller than chi-critical value %f.\" % (chi2.isf(q=0.05, df=dof)))\n",
    "print(\"P-value = %f\" % (p_value))"
   ]
  },
  {
   "cell_type": "markdown",
   "metadata": {},
   "source": [
    "* **Null Hypothesis** is that Pclass and Survived are independent.\n",
    "* **Alternative Hypothesis** is that Pclass and Survived are not independent.\n",
    "* As you can see, the results are significant for all reasonable alphas.\n",
    "* We can reject the Null Hypothesis"
   ]
  },
  {
   "cell_type": "code",
   "execution_count": 66,
   "metadata": {},
   "outputs": [
    {
     "name": "stdout",
     "output_type": "stream",
     "text": [
      "For k-1=1, Cramer’s Phi Coefficient is 0.336274.\n"
     ]
    }
   ],
   "source": [
    "survival_features_stats['Pclass'] = [(chi_2, chi2.isf(q=0.05, df=dof)), get_cramers_v(pivot)]"
   ]
  },
  {
   "cell_type": "markdown",
   "metadata": {},
   "source": [
    "#### By Title"
   ]
  },
  {
   "cell_type": "code",
   "execution_count": 67,
   "metadata": {},
   "outputs": [
    {
     "data": {
      "text/plain": [
       "Title\n",
       "Master    0.589744\n",
       "Miss      0.714286\n",
       "Mr        0.157588\n",
       "Mrs       0.793651\n",
       "Rare      0.347826\n",
       "Name: Survived, dtype: float64"
      ]
     },
     "execution_count": 67,
     "metadata": {},
     "output_type": "execute_result"
    }
   ],
   "source": [
    "# Seperate data by Title to see survival rate\n",
    "titanic_df.groupby('Title')['Survived'].mean()"
   ]
  },
  {
   "cell_type": "code",
   "execution_count": 68,
   "metadata": {},
   "outputs": [
    {
     "data": {
      "text/plain": [
       "<matplotlib.text.Text at 0x11f552ba8>"
      ]
     },
     "execution_count": 68,
     "metadata": {},
     "output_type": "execute_result"
    },
    {
     "data": {
      "image/png": "[encoded data removed]",
      "text/plain": [
       "<matplotlib.figure.Figure at 0x11e57fe10>"
      ]
     },
     "metadata": {},
     "output_type": "display_data"
    }
   ],
   "source": [
    "sns.set(style=\"whitegrid\")\n",
    "\n",
    "ax = sns.barplot(x=titanic_df['Title'], y=titanic_df['Survived'])\n",
    "ax.set_title('Survival Rate By Title')\n",
    "ax.set_ylabel('Possibilities of Survival')\n",
    "ax.set_xlabel('Title')"
   ]
  },
  {
   "cell_type": "markdown",
   "metadata": {},
   "source": [
    "* The survival rate of men's title is much lower than women's."
   ]
  },
  {
   "cell_type": "code",
   "execution_count": 69,
   "metadata": {},
   "outputs": [
    {
     "data": {
      "text/html": [
       "<div>\n",
       "<style>\n",
       "    .dataframe thead tr:only-child th {\n",
       "        text-align: right;\n",
       "    }\n",
       "\n",
       "    .dataframe thead th {\n",
       "        text-align: left;\n",
       "    }\n",
       "\n",
       "    .dataframe tbody tr th {\n",
       "        vertical-align: top;\n",
       "    }\n",
       "</style>\n",
       "<table border=\"1\" class=\"dataframe\">\n",
       "  <thead>\n",
       "    <tr style=\"text-align: right;\">\n",
       "      <th>Title</th>\n",
       "      <th>Master</th>\n",
       "      <th>Miss</th>\n",
       "      <th>Mr</th>\n",
       "      <th>Mrs</th>\n",
       "      <th>Rare</th>\n",
       "    </tr>\n",
       "    <tr>\n",
       "      <th>Survived</th>\n",
       "      <th></th>\n",
       "      <th></th>\n",
       "      <th></th>\n",
       "      <th></th>\n",
       "      <th></th>\n",
       "    </tr>\n",
       "  </thead>\n",
       "  <tbody>\n",
       "    <tr>\n",
       "      <th>0</th>\n",
       "      <td>16</td>\n",
       "      <td>52</td>\n",
       "      <td>433</td>\n",
       "      <td>26</td>\n",
       "      <td>15</td>\n",
       "    </tr>\n",
       "    <tr>\n",
       "      <th>1</th>\n",
       "      <td>23</td>\n",
       "      <td>130</td>\n",
       "      <td>81</td>\n",
       "      <td>100</td>\n",
       "      <td>8</td>\n",
       "    </tr>\n",
       "  </tbody>\n",
       "</table>\n",
       "</div>"
      ],
      "text/plain": [
       "Title     Master  Miss   Mr  Mrs  Rare\n",
       "Survived                              \n",
       "0             16    52  433   26    15\n",
       "1             23   130   81  100     8"
      ]
     },
     "execution_count": 69,
     "metadata": {},
     "output_type": "execute_result"
    }
   ],
   "source": [
    "pivot = pd.pivot_table(data = titanic_df[['Survived', 'Title']], index='Survived', columns = 'Title', aggfunc = len)\n",
    "pivot"
   ]
  },
  {
   "cell_type": "code",
   "execution_count": 70,
   "metadata": {},
   "outputs": [
    {
     "name": "stdout",
     "output_type": "stream",
     "text": [
      "Results of Chi-Squared test on Title to Survival.\n",
      "Does title have a significant effect on Survival?\n",
      "Chi-Squared Score = 290.979452, it's bigger than chi-critical value 9.487729.\n",
      "P-value = 0.000000\n"
     ]
    }
   ],
   "source": [
    "chi_2, p_value, dof, expected = chi2_contingency(pivot)\n",
    "print(\"Results of Chi-Squared test on Title to Survival.\")\n",
    "print(\"Does title have a significant effect on Survival?\")\n",
    "print(\"Chi-Squared Score = %f, \" % (chi_2) + \"it's bigger than chi-critical value %f.\" % (chi2.isf(q=0.05, df=dof)) \\\n",
    "         if chi_2 > chi2.isf(q=0.05, df=dof) \\\n",
    "         else \"It's smaller than chi-critical value %f.\" % (chi2.isf(q=0.05, df=dof)))\n",
    "print(\"P-value = %f\" % (p_value))"
   ]
  },
  {
   "cell_type": "markdown",
   "metadata": {},
   "source": [
    "It's quite significant. But does `Gender` have relationships with `Title`, since what sex you are decides what titles you are going to take?\n",
    "\n",
    "**Let's find out any associations between `Gender` and `Title`.**"
   ]
  },
  {
   "cell_type": "code",
   "execution_count": 71,
   "metadata": {},
   "outputs": [
    {
     "data": {
      "text/plain": [
       "Gender  Title   Survived\n",
       "female  Miss    0            52\n",
       "                1           130\n",
       "        Mrs     0            26\n",
       "                1           100\n",
       "        Rare    1             3\n",
       "male    Master  0            16\n",
       "                1            23\n",
       "        Mr      0           433\n",
       "                1            81\n",
       "        Rare    0            15\n",
       "                1             5\n",
       "dtype: int64"
      ]
     },
     "execution_count": 71,
     "metadata": {},
     "output_type": "execute_result"
    }
   ],
   "source": [
    "# Seperate data by Both Gender and Title to see survival rate\n",
    "titanic_df.groupby(['Gender','Title','Survived']).apply(len)"
   ]
  },
  {
   "cell_type": "code",
   "execution_count": 72,
   "metadata": {
    "scrolled": true
   },
   "outputs": [
    {
     "data": {
      "text/html": [
       "<div>\n",
       "<style>\n",
       "    .dataframe thead tr:only-child th {\n",
       "        text-align: right;\n",
       "    }\n",
       "\n",
       "    .dataframe thead th {\n",
       "        text-align: left;\n",
       "    }\n",
       "\n",
       "    .dataframe tbody tr th {\n",
       "        vertical-align: top;\n",
       "    }\n",
       "</style>\n",
       "<table border=\"1\" class=\"dataframe\">\n",
       "  <thead>\n",
       "    <tr>\n",
       "      <th>Gender</th>\n",
       "      <th colspan=\"3\" halign=\"left\">female</th>\n",
       "      <th colspan=\"3\" halign=\"left\">male</th>\n",
       "    </tr>\n",
       "    <tr>\n",
       "      <th>Title</th>\n",
       "      <th>Miss</th>\n",
       "      <th>Mrs</th>\n",
       "      <th>Rare</th>\n",
       "      <th>Master</th>\n",
       "      <th>Mr</th>\n",
       "      <th>Rare</th>\n",
       "    </tr>\n",
       "    <tr>\n",
       "      <th>Survived</th>\n",
       "      <th></th>\n",
       "      <th></th>\n",
       "      <th></th>\n",
       "      <th></th>\n",
       "      <th></th>\n",
       "      <th></th>\n",
       "    </tr>\n",
       "  </thead>\n",
       "  <tbody>\n",
       "    <tr>\n",
       "      <th>0</th>\n",
       "      <td>52.0</td>\n",
       "      <td>26.0</td>\n",
       "      <td>0.0</td>\n",
       "      <td>16.0</td>\n",
       "      <td>433.0</td>\n",
       "      <td>15.0</td>\n",
       "    </tr>\n",
       "    <tr>\n",
       "      <th>1</th>\n",
       "      <td>130.0</td>\n",
       "      <td>100.0</td>\n",
       "      <td>3.0</td>\n",
       "      <td>23.0</td>\n",
       "      <td>81.0</td>\n",
       "      <td>5.0</td>\n",
       "    </tr>\n",
       "  </tbody>\n",
       "</table>\n",
       "</div>"
      ],
      "text/plain": [
       "Gender   female               male             \n",
       "Title      Miss    Mrs Rare Master     Mr  Rare\n",
       "Survived                                       \n",
       "0          52.0   26.0  0.0   16.0  433.0  15.0\n",
       "1         130.0  100.0  3.0   23.0   81.0   5.0"
      ]
     },
     "execution_count": 72,
     "metadata": {},
     "output_type": "execute_result"
    }
   ],
   "source": [
    "pivot = pd.pivot_table(data = titanic_df[['Gender', 'Title' ,'Survived']], index='Survived', columns = ['Gender', 'Title'], aggfunc = len).fillna(0)\n",
    "pivot"
   ]
  },
  {
   "cell_type": "code",
   "execution_count": 73,
   "metadata": {},
   "outputs": [
    {
     "name": "stdout",
     "output_type": "stream",
     "text": [
      "Results of Chi-Squared test on different female titles to Survival.\n",
      "Does difference in female title have a significant effect on Survival?\n",
      "Chi-Squared Score = 290.979452, it's bigger than chi-critical value 5.991465.\n",
      "P-value = 0.172913\n",
      "\n",
      "\n",
      "Results of Chi-Squared test on different male titles to Survival.\n",
      "Does difference in male title have a significant effect on Survival?\n",
      "Chi-Squared Score = 290.979452, it's bigger than chi-critical value 5.991465.\n",
      "P-value = 0.000000\n"
     ]
    }
   ],
   "source": [
    "# Regardless their gender, do the difference of titles affect their survival rate\n",
    "chi_2_female, p_value, dof, expected = chi2_contingency(pivot['female'])\n",
    "print(\"Results of Chi-Squared test on different female titles to Survival.\")\n",
    "print(\"Does difference in female title have a significant effect on Survival?\")\n",
    "print(\"Chi-Squared Score = %f, \" % (chi_2) + (\"it's bigger than chi-critical value %f.\" % (chi2.isf(q=0.05, df=dof)) \\\n",
    "         if chi_2 > chi2.isf(q=0.05, df=dof) \\\n",
    "         else \"It's smaller than chi-critical value %f.\" % (chi2.isf(q=0.05, df=dof))))\n",
    "print(\"P-value = %f\" % (p_value))\n",
    "print(\"\\n\")\n",
    "chi_2_male, p_value, dof, expected = chi2_contingency(pivot['male'])\n",
    "print(\"Results of Chi-Squared test on different male titles to Survival.\")\n",
    "print(\"Does difference in male title have a significant effect on Survival?\")\n",
    "print(\"Chi-Squared Score = %f, \" % (chi_2) + (\"it's bigger than chi-critical value %f.\" % (chi2.isf(q=0.05, df=dof)) \\\n",
    "         if chi_2 > chi2.isf(q=0.05, df=dof) \\\n",
    "         else \"It's smaller than chi-critical value %f.\" % (chi2.isf(q=0.05, df=dof))))\n",
    "print(\"P-value = %f\" % (p_value))"
   ]
  },
  {
   "cell_type": "code",
   "execution_count": 74,
   "metadata": {},
   "outputs": [
    {
     "data": {
      "text/plain": [
       "0.83524765777750298"
      ]
     },
     "execution_count": 74,
     "metadata": {},
     "output_type": "execute_result"
    }
   ],
   "source": [
    "rsquared_title = 1 - (chi_2_female + chi_2_male) / chi_2\n",
    "rsquared_title"
   ]
  },
  {
   "cell_type": "markdown",
   "metadata": {},
   "source": [
    "The R-squared is near 1, therefore categorizing title into male or female explains a lot about the significant between survive status and Title. So the reason `Title` feature and survived are not independent, is because `Title` is dependent to `Gender`. I will eliminate `Title`."
   ]
  },
  {
   "cell_type": "markdown",
   "metadata": {},
   "source": [
    "#### By Loneliness"
   ]
  },
  {
   "cell_type": "code",
   "execution_count": 75,
   "metadata": {},
   "outputs": [
    {
     "data": {
      "text/plain": [
       "Alone\n",
       "False    0.515850\n",
       "True     0.303538\n",
       "Name: Survived, dtype: float64"
      ]
     },
     "execution_count": 75,
     "metadata": {},
     "output_type": "execute_result"
    }
   ],
   "source": [
    "# Seperate data by Loneliness to see survival rate\n",
    "titanic_df.groupby('Alone')['Survived'].mean()"
   ]
  },
  {
   "cell_type": "code",
   "execution_count": 76,
   "metadata": {},
   "outputs": [
    {
     "data": {
      "text/plain": [
       "<matplotlib.text.Text at 0x11f5520f0>"
      ]
     },
     "execution_count": 76,
     "metadata": {},
     "output_type": "execute_result"
    },
    {
     "data": {
      "image/png": "[encoded data removed]",
      "text/plain": [
       "<matplotlib.figure.Figure at 0x11f0f0c50>"
      ]
     },
     "metadata": {},
     "output_type": "display_data"
    }
   ],
   "source": [
    "sns.set(style=\"darkgrid\")\n",
    "\n",
    "ax = sns.barplot(x=titanic_df['Alone'], y=titanic_df['Survived'])\n",
    "ax.set_title('Survival Rate By Alone')\n",
    "ax.set_ylabel('Possibilities of Survival')\n",
    "ax.set_xlabel('Alone')"
   ]
  },
  {
   "cell_type": "markdown",
   "metadata": {},
   "source": [
    "* People alone on Titanic are less likely to survive, compared with people who are not alone on the ship."
   ]
  },
  {
   "cell_type": "code",
   "execution_count": 77,
   "metadata": {},
   "outputs": [
    {
     "data": {
      "text/html": [
       "<div>\n",
       "<style>\n",
       "    .dataframe thead tr:only-child th {\n",
       "        text-align: right;\n",
       "    }\n",
       "\n",
       "    .dataframe thead th {\n",
       "        text-align: left;\n",
       "    }\n",
       "\n",
       "    .dataframe tbody tr th {\n",
       "        vertical-align: top;\n",
       "    }\n",
       "</style>\n",
       "<table border=\"1\" class=\"dataframe\">\n",
       "  <thead>\n",
       "    <tr style=\"text-align: right;\">\n",
       "      <th>Alone</th>\n",
       "      <th>False</th>\n",
       "      <th>True</th>\n",
       "    </tr>\n",
       "    <tr>\n",
       "      <th>Survived</th>\n",
       "      <th></th>\n",
       "      <th></th>\n",
       "    </tr>\n",
       "  </thead>\n",
       "  <tbody>\n",
       "    <tr>\n",
       "      <th>0</th>\n",
       "      <td>168</td>\n",
       "      <td>374</td>\n",
       "    </tr>\n",
       "    <tr>\n",
       "      <th>1</th>\n",
       "      <td>179</td>\n",
       "      <td>163</td>\n",
       "    </tr>\n",
       "  </tbody>\n",
       "</table>\n",
       "</div>"
      ],
      "text/plain": [
       "Alone     False  True \n",
       "Survived              \n",
       "0           168    374\n",
       "1           179    163"
      ]
     },
     "execution_count": 77,
     "metadata": {},
     "output_type": "execute_result"
    }
   ],
   "source": [
    "pivot = pd.pivot_table(data = titanic_df[['Survived', 'Alone']], index='Survived', columns = 'Alone', aggfunc = len)\n",
    "pivot"
   ]
  },
  {
   "cell_type": "code",
   "execution_count": 78,
   "metadata": {},
   "outputs": [
    {
     "name": "stdout",
     "output_type": "stream",
     "text": [
      "Results of Chi-Squared test on Loneliness to Survival.\n",
      "Does loneliness have a significant effect on Survival?\n",
      "Chi-Squared Score = 39.167045, it's bigger than chi-critical value 3.841459.\n",
      "P-value = 0.000000\n"
     ]
    }
   ],
   "source": [
    "chi_2, p_value, dof, expected = chi2_contingency(pivot)\n",
    "print(\"Results of Chi-Squared test on Loneliness to Survival.\")\n",
    "print(\"Does loneliness have a significant effect on Survival?\")\n",
    "print(\"Chi-Squared Score = %f, \" % (chi_2) + \"it's bigger than chi-critical value %f.\" % (chi2.isf(q=0.05, df=dof)) \\\n",
    "         if chi_2 > chi2.isf(q=0.05, df=dof) \\\n",
    "         else \"It's smaller than chi-critical value %f.\" % (chi2.isf(q=0.05, df=dof)))\n",
    "print(\"P-value = %f\" % (p_value))"
   ]
  },
  {
   "cell_type": "markdown",
   "metadata": {},
   "source": [
    "* **Null Hypothesis** is that Alone and Survived are independent.\n",
    "* **Alternative Hypothesis** is that Alone and Survived are not independent.\n",
    "* As you can see, the results are significant for all reasonable alphas.\n",
    "* We can reject the Null Hypothesis"
   ]
  },
  {
   "cell_type": "code",
   "execution_count": 79,
   "metadata": {},
   "outputs": [
    {
     "name": "stdout",
     "output_type": "stream",
     "text": [
      "For k-1=1, Cramer’s Phi Coefficient is 0.212870.\n"
     ]
    }
   ],
   "source": [
    "survival_features_stats['Alone'] = [(chi_2, chi2.isf(q=0.05, df=dof)), get_cramers_v(pivot)]"
   ]
  },
  {
   "cell_type": "markdown",
   "metadata": {},
   "source": [
    "#### By Embarked Port"
   ]
  },
  {
   "cell_type": "code",
   "execution_count": 80,
   "metadata": {},
   "outputs": [
    {
     "data": {
      "text/plain": [
       "Embarked\n",
       "C    0.553571\n",
       "Q    0.389610\n",
       "S    0.342723\n",
       "Name: Survived, dtype: float64"
      ]
     },
     "execution_count": 80,
     "metadata": {},
     "output_type": "execute_result"
    }
   ],
   "source": [
    "# Seperate data by Embarked Port to see survival rate\n",
    "titanic_df.groupby('Embarked')['Survived'].mean()"
   ]
  },
  {
   "cell_type": "code",
   "execution_count": 81,
   "metadata": {},
   "outputs": [
    {
     "data": {
      "text/plain": [
       "<matplotlib.text.Text at 0x11f7e9400>"
      ]
     },
     "execution_count": 81,
     "metadata": {},
     "output_type": "execute_result"
    },
    {
     "data": {
      "image/png": "[encoded data removed]",
      "text/plain": [
       "<matplotlib.figure.Figure at 0x11f6d98d0>"
      ]
     },
     "metadata": {},
     "output_type": "display_data"
    }
   ],
   "source": [
    "sns.set(style=\"darkgrid\")\n",
    "\n",
    "ax = sns.barplot(x=titanic_df['Embarked'], y=titanic_df['Survived'])\n",
    "ax.set_title('Survival Rate By Embarked Port')\n",
    "ax.set_ylabel('Possibilities of Survival')\n",
    "ax.set_xlabel('Embarked Port')"
   ]
  },
  {
   "cell_type": "markdown",
   "metadata": {},
   "source": [
    "* People who embarked at the Cherbourg are more likely to survive than at Southampton and at Queenstown."
   ]
  },
  {
   "cell_type": "code",
   "execution_count": 82,
   "metadata": {},
   "outputs": [
    {
     "data": {
      "text/html": [
       "<div>\n",
       "<style>\n",
       "    .dataframe thead tr:only-child th {\n",
       "        text-align: right;\n",
       "    }\n",
       "\n",
       "    .dataframe thead th {\n",
       "        text-align: left;\n",
       "    }\n",
       "\n",
       "    .dataframe tbody tr th {\n",
       "        vertical-align: top;\n",
       "    }\n",
       "</style>\n",
       "<table border=\"1\" class=\"dataframe\">\n",
       "  <thead>\n",
       "    <tr style=\"text-align: right;\">\n",
       "      <th>Embarked</th>\n",
       "      <th>C</th>\n",
       "      <th>Q</th>\n",
       "      <th>S</th>\n",
       "    </tr>\n",
       "    <tr>\n",
       "      <th>Survived</th>\n",
       "      <th></th>\n",
       "      <th></th>\n",
       "      <th></th>\n",
       "    </tr>\n",
       "  </thead>\n",
       "  <tbody>\n",
       "    <tr>\n",
       "      <th>0</th>\n",
       "      <td>75</td>\n",
       "      <td>47</td>\n",
       "      <td>420</td>\n",
       "    </tr>\n",
       "    <tr>\n",
       "      <th>1</th>\n",
       "      <td>93</td>\n",
       "      <td>30</td>\n",
       "      <td>219</td>\n",
       "    </tr>\n",
       "  </tbody>\n",
       "</table>\n",
       "</div>"
      ],
      "text/plain": [
       "Embarked   C   Q    S\n",
       "Survived             \n",
       "0         75  47  420\n",
       "1         93  30  219"
      ]
     },
     "execution_count": 82,
     "metadata": {},
     "output_type": "execute_result"
    }
   ],
   "source": [
    "pivot = pd.pivot_table(data = titanic_df[['Survived', 'Embarked']], index='Survived', columns = 'Embarked', aggfunc = len)\n",
    "pivot"
   ]
  },
  {
   "cell_type": "code",
   "execution_count": 83,
   "metadata": {
    "scrolled": true
   },
   "outputs": [
    {
     "name": "stdout",
     "output_type": "stream",
     "text": [
      "Results of Chi-Squared test on Embarked Ports to Survival.\n",
      "Does embarked port have a significant effect on Survival?\n",
      "Chi-Squared Score = 24.934617, it's bigger than chi-critical value 5.991465.\n",
      "P-value = 0.000004\n"
     ]
    }
   ],
   "source": [
    "chi_2, p_value, dof, expected = chi2_contingency(pivot)\n",
    "print(\"Results of Chi-Squared test on Embarked Ports to Survival.\")\n",
    "print(\"Does embarked port have a significant effect on Survival?\")\n",
    "print(\"Chi-Squared Score = %f, \" % (chi_2) + \"it's bigger than chi-critical value %f.\" % (chi2.isf(q=0.05, df=dof)) \\\n",
    "         if chi_2 > chi2.isf(q=0.05, df=dof) \\\n",
    "         else \"It's smaller than chi-critical value %f.\" % (chi2.isf(q=0.05, df=dof)))\n",
    "print(\"P-value = %f\" % (p_value))"
   ]
  },
  {
   "cell_type": "markdown",
   "metadata": {},
   "source": [
    "* **Null Hypothesis** is that Embarked Port and Survived are independent.\n",
    "* **Alternative Hypothesis** is that Embarked Port and Survived are not independent.\n",
    "* As you can see, the results are significant for all reasonable alphas.\n",
    "* We can reject the Null Hypothesis"
   ]
  },
  {
   "cell_type": "code",
   "execution_count": 84,
   "metadata": {},
   "outputs": [
    {
     "name": "stdout",
     "output_type": "stream",
     "text": [
      "For k-1=1, Cramer’s Phi Coefficient is 0.167948.\n"
     ]
    }
   ],
   "source": [
    "survival_features_stats['Embarked'] = [(chi_2, chi2.isf(q=0.05, df=dof)), get_cramers_v(pivot)]"
   ]
  },
  {
   "cell_type": "markdown",
   "metadata": {},
   "source": [
    "#### By Age Group"
   ]
  },
  {
   "cell_type": "code",
   "execution_count": 85,
   "metadata": {
    "collapsed": true
   },
   "outputs": [],
   "source": [
    "def categorize_age(age):\n",
    "    \"\"\"\n",
    "    categorize age data into different categories, and each category as one life stages.\n",
    "    Age ranges of life stages are based on the research of American Institute For Learning and Human Development.\n",
    "    \"\"\"\n",
    "    life_stage = {\n",
    "        (0, 11): \"Childhood\",\n",
    "        (11, 20): \"Adolescence\",\n",
    "        (20, 35): \"Early Adulthood\",\n",
    "        (35, 51): \"Midlife\",\n",
    "        (51, 81): \"Mature Adulthood\",\n",
    "        (81, 100): \"Late Adulthood\"\n",
    "    }\n",
    "    \n",
    "    return [life_stage[i] for i in life_stage.keys() if (age >= i[0]) & (age < i[1])].pop()"
   ]
  },
  {
   "cell_type": "code",
   "execution_count": 86,
   "metadata": {
    "scrolled": true
   },
   "outputs": [
    {
     "data": {
      "text/html": [
       "<div>\n",
       "<style>\n",
       "    .dataframe thead tr:only-child th {\n",
       "        text-align: right;\n",
       "    }\n",
       "\n",
       "    .dataframe thead th {\n",
       "        text-align: left;\n",
       "    }\n",
       "\n",
       "    .dataframe tbody tr th {\n",
       "        vertical-align: top;\n",
       "    }\n",
       "</style>\n",
       "<table border=\"1\" class=\"dataframe\">\n",
       "  <thead>\n",
       "    <tr style=\"text-align: right;\">\n",
       "      <th>Age</th>\n",
       "      <th>Adolescence</th>\n",
       "      <th>Childhood</th>\n",
       "      <th>Early Adulthood</th>\n",
       "      <th>Mature Adulthood</th>\n",
       "      <th>Midlife</th>\n",
       "    </tr>\n",
       "    <tr>\n",
       "      <th>Survived</th>\n",
       "      <th></th>\n",
       "      <th></th>\n",
       "      <th></th>\n",
       "      <th></th>\n",
       "      <th></th>\n",
       "    </tr>\n",
       "  </thead>\n",
       "  <tbody>\n",
       "    <tr>\n",
       "      <th>0</th>\n",
       "      <td>65</td>\n",
       "      <td>26</td>\n",
       "      <td>293</td>\n",
       "      <td>42</td>\n",
       "      <td>116</td>\n",
       "    </tr>\n",
       "    <tr>\n",
       "      <th>1</th>\n",
       "      <td>41</td>\n",
       "      <td>38</td>\n",
       "      <td>156</td>\n",
       "      <td>22</td>\n",
       "      <td>85</td>\n",
       "    </tr>\n",
       "  </tbody>\n",
       "</table>\n",
       "</div>"
      ],
      "text/plain": [
       "Age       Adolescence  Childhood  Early Adulthood  Mature Adulthood  Midlife\n",
       "Survived                                                                    \n",
       "0                  65         26              293                42      116\n",
       "1                  41         38              156                22       85"
      ]
     },
     "execution_count": 86,
     "metadata": {},
     "output_type": "execute_result"
    }
   ],
   "source": [
    "# Cross tabulation of Age group and survival status\n",
    "age_crosstab = pd.crosstab(titanic_df['Survived'], titanic_df['Age'].apply(categorize_age), rownames=['Survived'], colnames=['Age'])\n",
    "age_crosstab"
   ]
  },
  {
   "cell_type": "code",
   "execution_count": 87,
   "metadata": {},
   "outputs": [
    {
     "data": {
      "text/plain": [
       "Age\n",
       "Adolescence         0.386792\n",
       "Childhood           0.593750\n",
       "Early Adulthood     0.347439\n",
       "Mature Adulthood    0.343750\n",
       "Midlife             0.422886\n",
       "dtype: float64"
      ]
     },
     "execution_count": 87,
     "metadata": {},
     "output_type": "execute_result"
    }
   ],
   "source": [
    "# Survival rate by age group\n",
    "age_crosstab.iloc[1] / (age_crosstab.iloc[0] + age_crosstab.iloc[1])"
   ]
  },
  {
   "cell_type": "code",
   "execution_count": 88,
   "metadata": {},
   "outputs": [
    {
     "data": {
      "text/plain": [
       "<matplotlib.text.Text at 0x11f927a20>"
      ]
     },
     "execution_count": 88,
     "metadata": {},
     "output_type": "execute_result"
    },
    {
     "data": {
      "image/png": "[encoded data removed]",
      "text/plain": [
       "<matplotlib.figure.Figure at 0x11f7e94e0>"
      ]
     },
     "metadata": {},
     "output_type": "display_data"
    }
   ],
   "source": [
    "sns.set(style=\"darkgrid\")\n",
    "\n",
    "ax = sns.barplot(x=titanic_df['Age'].apply(categorize_age), y=titanic_df['Survived'])\n",
    "ax.set_title('Survival Rate By Age Group')\n",
    "ax.set_ylabel('Possibilities of Survival')\n",
    "ax.set_xlabel('Life Stage')"
   ]
  },
  {
   "cell_type": "markdown",
   "metadata": {},
   "source": [
    "* Children are significantly more likely to survive than people of other age groups."
   ]
  },
  {
   "cell_type": "code",
   "execution_count": 89,
   "metadata": {
    "scrolled": true
   },
   "outputs": [
    {
     "name": "stdout",
     "output_type": "stream",
     "text": [
      "Results of Chi-Squared test on Age groups to Survival.\n",
      "Does difference in age have a significant effect on Survival?\n",
      "Chi-Squared Score = 16.091645, it's bigger than chi-critical value 9.487729.\n",
      "P-value = 0.002899\n"
     ]
    }
   ],
   "source": [
    "chi_2, p_value, dof, expected = chi2_contingency(age_crosstab)\n",
    "print(\"Results of Chi-Squared test on Age groups to Survival.\")\n",
    "print(\"Does difference in age have a significant effect on Survival?\")\n",
    "print(\"Chi-Squared Score = %f, \" % (chi_2) + \"it's bigger than chi-critical value %f.\" % (chi2.isf(q=0.05, df=dof)) \\\n",
    "         if chi_2 > chi2.isf(q=0.05, df=dof) \\\n",
    "         else \"It's smaller than chi-critical value %f.\" % (chi2.isf(q=0.05, df=dof)))\n",
    "print(\"P-value = %f\" % (p_value))"
   ]
  },
  {
   "cell_type": "markdown",
   "metadata": {},
   "source": [
    "* **Null Hypothesis** is that Age and Survived are independent.\n",
    "* **Alternative Hypothesis** is that Age and Survived are not independent.\n",
    "* As you can see, the results are significant for all reasonable alphas.\n",
    "* We can reject the Null Hypothesis"
   ]
  },
  {
   "cell_type": "code",
   "execution_count": 90,
   "metadata": {},
   "outputs": [
    {
     "name": "stdout",
     "output_type": "stream",
     "text": [
      "For k-1=1, Cramer’s Phi Coefficient is 0.134919.\n"
     ]
    }
   ],
   "source": [
    "survival_features_stats['Age Group'] = [(chi_2, chi2.isf(q=0.05, df=dof)), get_cramers_v(age_crosstab)]"
   ]
  },
  {
   "cell_type": "markdown",
   "metadata": {},
   "source": [
    "So we can create a table of showing results and compare each other."
   ]
  },
  {
   "cell_type": "code",
   "execution_count": 91,
   "metadata": {},
   "outputs": [
    {
     "data": {
      "text/html": [
       "<div>\n",
       "<style>\n",
       "    .dataframe thead tr:only-child th {\n",
       "        text-align: right;\n",
       "    }\n",
       "\n",
       "    .dataframe thead th {\n",
       "        text-align: left;\n",
       "    }\n",
       "\n",
       "    .dataframe tbody tr th {\n",
       "        vertical-align: top;\n",
       "    }\n",
       "</style>\n",
       "<table border=\"1\" class=\"dataframe\">\n",
       "  <thead>\n",
       "    <tr style=\"text-align: right;\">\n",
       "      <th></th>\n",
       "      <th>Age Group</th>\n",
       "      <th>Alone</th>\n",
       "      <th>Embarked</th>\n",
       "      <th>Gender</th>\n",
       "      <th>Pclass</th>\n",
       "    </tr>\n",
       "    <tr>\n",
       "      <th>To Survival Status</th>\n",
       "      <th></th>\n",
       "      <th></th>\n",
       "      <th></th>\n",
       "      <th></th>\n",
       "      <th></th>\n",
       "    </tr>\n",
       "  </thead>\n",
       "  <tbody>\n",
       "    <tr>\n",
       "      <th>(Chi-Squared, Chi-Critical)</th>\n",
       "      <td>(16.0916447763, 9.48772903678)</td>\n",
       "      <td>(39.1670447467, 3.84145882069)</td>\n",
       "      <td>(24.9346173875, 5.99146454711)</td>\n",
       "      <td>(263.181265292, 3.84145882069)</td>\n",
       "      <td>(99.9629391514, 5.99146454711)</td>\n",
       "    </tr>\n",
       "    <tr>\n",
       "      <th>Cramers V</th>\n",
       "      <td>0.134919</td>\n",
       "      <td>0.21287</td>\n",
       "      <td>0.167948</td>\n",
       "      <td>0.548066</td>\n",
       "      <td>0.336274</td>\n",
       "    </tr>\n",
       "  </tbody>\n",
       "</table>\n",
       "</div>"
      ],
      "text/plain": [
       "                                                  Age Group  \\\n",
       "To Survival Status                                            \n",
       "(Chi-Squared, Chi-Critical)  (16.0916447763, 9.48772903678)   \n",
       "Cramers V                                          0.134919   \n",
       "\n",
       "                                                      Alone  \\\n",
       "To Survival Status                                            \n",
       "(Chi-Squared, Chi-Critical)  (39.1670447467, 3.84145882069)   \n",
       "Cramers V                                           0.21287   \n",
       "\n",
       "                                                   Embarked  \\\n",
       "To Survival Status                                            \n",
       "(Chi-Squared, Chi-Critical)  (24.9346173875, 5.99146454711)   \n",
       "Cramers V                                          0.167948   \n",
       "\n",
       "                                                     Gender  \\\n",
       "To Survival Status                                            \n",
       "(Chi-Squared, Chi-Critical)  (263.181265292, 3.84145882069)   \n",
       "Cramers V                                          0.548066   \n",
       "\n",
       "                                                     Pclass  \n",
       "To Survival Status                                           \n",
       "(Chi-Squared, Chi-Critical)  (99.9629391514, 5.99146454711)  \n",
       "Cramers V                                          0.336274  "
      ]
     },
     "execution_count": 91,
     "metadata": {},
     "output_type": "execute_result"
    }
   ],
   "source": [
    "# Create a table of showing all these stats\n",
    "survival_features_stats_df = pd.DataFrame(survival_features_stats, index=['(Chi-Squared, Chi-Critical)', 'Cramers V'])\n",
    "survival_features_stats_df.index.name = \"To Survival Status\"\n",
    "survival_features_stats_df"
   ]
  },
  {
   "cell_type": "markdown",
   "metadata": {},
   "source": [
    "We can see, `Gender` are the most significant features, and `Pclass` feature has effect on survival status as well. These two variables are the most significant here, comparing with other three features that don't show much effects on populations."
   ]
  },
  {
   "cell_type": "code",
   "execution_count": 98,
   "metadata": {
    "scrolled": true
   },
   "outputs": [
    {
     "data": {
      "image/png": "[encoded data removed]",
      "text/plain": [
       "<matplotlib.figure.Figure at 0x12034c2e8>"
      ]
     },
     "metadata": {},
     "output_type": "display_data"
    }
   ],
   "source": [
    "# Visualize survival rate by different features, and put them together\n",
    "g = sns.PairGrid(titanic_df,\n",
    "                 x_vars=[\"Gender\", \"Pclass\", \"Embarked\", \"Alone\", \"Title\"],\n",
    "                 y_vars=[\"Survived\"],\n",
    "                 aspect=1, size=5)\n",
    "g.map(sns.barplot, palette=\"pastel\");\n",
    "sns.set(font_scale = 2)"
   ]
  },
  {
   "cell_type": "markdown",
   "metadata": {},
   "source": [
    "Therefore, we can conclude that:\n",
    "* **`Gender` feature are the primary factor that made people more likely to survive or not.**\n",
    "* `Pclass` feature are the secondary factory that affect the likelihood of survived."
   ]
  },
  {
   "cell_type": "markdown",
   "metadata": {
    "collapsed": true
   },
   "source": [
    "---\n",
    "## CONCLUSION\n",
    "Eventually, after all these steps, we come to a conclusion that address the question I prosed at the beginning of this project: \"What factors made people more likely to survive?\" \n",
    "\n",
    "> The answer, is the **`Gender`** of each passenger is THE factor made people more likely to survive.\n",
    "\n",
    "Getting the answer is desirable, but the process to the destination are not without problems."
   ]
  },
  {
   "cell_type": "markdown",
   "metadata": {},
   "source": [
    "### Limitations of the Analysis\n",
    "* I've used many Chi-squared statistic to test for significant. Though most groups' number of participants are at least 20, some may below the number.\n",
    "* The dataset is filled with missing values. The method I choose to deal with is relevant to data, there are discrepancies between the data I filled and the population.\n",
    "* I've used different statistic analysis to measure significance and effect size. One thing we must bear in mind: Correlation does not imply Causation. Strong assocation and \"Confidence Level\" do not guarantee causal relation."
   ]
  }
 ],
 "metadata": {
  "kernelspec": {
   "display_name": "Python 3",
   "language": "python",
   "name": "python3"
  },
  "language_info": {
   "codemirror_mode": {
    "name": "ipython",
    "version": 3
   },
   "file_extension": ".py",
   "mimetype": "text/x-python",
   "name": "python",
   "nbconvert_exporter": "python",
   "pygments_lexer": "ipython3",
   "version": "3.6.0"
  }
 },
 "nbformat": 4,
 "nbformat_minor": 2
}
