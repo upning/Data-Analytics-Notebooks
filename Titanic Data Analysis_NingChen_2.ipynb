{
 "cells": [
  {
   "cell_type": "markdown",
   "metadata": {},
   "source": [
    "# Titanic Data Analysis"
   ]
  },
  {
   "cell_type": "markdown",
   "metadata": {},
   "source": [
    "This notebook is a companion to the project [Investigate a Dataset](https://classroom.udacity.com/nanodegrees/nd002-cn-basic/parts/fc807c93-f9ac-4063-aece-a40826b57b16/modules/12f2744b-68c6-457a-9707-f3085633d701/lessons/3176718735239847/concepts/53862192490923). The notebook aims to walk through a typical data analysis workflow for solving problems.\n",
    "\n",
    "---"
   ]
  },
  {
   "cell_type": "markdown",
   "metadata": {},
   "source": [
    "## 1. QUESTIONS\n",
    "- 1 Load Data from CSVs\n",
    "- 2 Brainstorm Questions\n",
    "- 3 Analyze by Describing Data Variables\n",
    "\n",
    "Before I come up with any data analysis questions that can be answered by this dataset, I need to get familiar with the data. From [Project Details](https://classroom.udacity.com/nanodegrees/nd002-cn-basic/parts/fc807c93-f9ac-4063-aece-a40826b57b16/modules/12f2744b-68c6-457a-9707-f3085633d701/lessons/3176718735239847/concepts/54201485780923), Titanic Dataset: \n",
    "\n",
    "> Contains demographics and passenger information from 891 of the 2224 passengers and crew on board the Titanic. You can view a description of this dataset on the Kaggle website, where the data was obtained.\n",
    "\n",
    "We may want to develop some early understanding about *the domain of our problem*. This is described on the [Kaggle competition description page here](https://www.kaggle.com/c/titanic). Here are the highlights to note:\n",
    "\n",
    "* On April 15, 1912, during her maiden voyage, the Titanic sank after colliding with an iceberg, killing 1502 out of 2224.\n",
    "* One of the reasons that the shipwreck led to such loss of life was that there were not enough lifeboats for the passengers and crew.\n",
    "* Although there was some element of luck involved in surviving the sinking, *some groups of people were more likely to survive than others*, such as women, children, and the upper-class.\n",
    "\n",
    "Let's take a look.\n",
    "\n",
    "### 1.1 Load Data from CSVs"
   ]
  },
  {
   "cell_type": "code",
   "execution_count": 1,
   "metadata": {
    "collapsed": true
   },
   "outputs": [],
   "source": [
    "# Data analysis and wrangling\n",
    "import numpy as np\n",
    "import pandas as pd\n",
    "\n",
    "# Visualizations\n",
    "import matplotlib.pyplot as plt\n",
    "import seaborn as sns\n",
    "%matplotlib inline"
   ]
  },
  {
   "cell_type": "code",
   "execution_count": 2,
   "metadata": {},
   "outputs": [
    {
     "name": "stdout",
     "output_type": "stream",
     "text": [
      "['PassengerId' 'Survived' 'Pclass' 'Name' 'Sex' 'Age' 'SibSp' 'Parch'\n",
      " 'Ticket' 'Fare' 'Cabin' 'Embarked']\n"
     ]
    }
   ],
   "source": [
    "# Acquire data\n",
    "filename = 'titanic-data.csv'\n",
    "titanic_df = pd.read_csv(filename)\n",
    "\n",
    "print(titanic_df.columns.values)"
   ]
  },
  {
   "cell_type": "code",
   "execution_count": 3,
   "metadata": {},
   "outputs": [
    {
     "data": {
      "text/html": [
       "<div>\n",
       "<style>\n",
       "    .dataframe thead tr:only-child th {\n",
       "        text-align: right;\n",
       "    }\n",
       "\n",
       "    .dataframe thead th {\n",
       "        text-align: left;\n",
       "    }\n",
       "\n",
       "    .dataframe tbody tr th {\n",
       "        vertical-align: top;\n",
       "    }\n",
       "</style>\n",
       "<table border=\"1\" class=\"dataframe\">\n",
       "  <thead>\n",
       "    <tr style=\"text-align: right;\">\n",
       "      <th></th>\n",
       "      <th>PassengerId</th>\n",
       "      <th>Survived</th>\n",
       "      <th>Pclass</th>\n",
       "      <th>Name</th>\n",
       "      <th>Sex</th>\n",
       "      <th>Age</th>\n",
       "      <th>SibSp</th>\n",
       "      <th>Parch</th>\n",
       "      <th>Ticket</th>\n",
       "      <th>Fare</th>\n",
       "      <th>Cabin</th>\n",
       "      <th>Embarked</th>\n",
       "    </tr>\n",
       "  </thead>\n",
       "  <tbody>\n",
       "    <tr>\n",
       "      <th>0</th>\n",
       "      <td>1</td>\n",
       "      <td>0</td>\n",
       "      <td>3</td>\n",
       "      <td>Braund, Mr. Owen Harris</td>\n",
       "      <td>male</td>\n",
       "      <td>22.0</td>\n",
       "      <td>1</td>\n",
       "      <td>0</td>\n",
       "      <td>A/5 21171</td>\n",
       "      <td>7.2500</td>\n",
       "      <td>NaN</td>\n",
       "      <td>S</td>\n",
       "    </tr>\n",
       "    <tr>\n",
       "      <th>1</th>\n",
       "      <td>2</td>\n",
       "      <td>1</td>\n",
       "      <td>1</td>\n",
       "      <td>Cumings, Mrs. John Bradley (Florence Briggs Th...</td>\n",
       "      <td>female</td>\n",
       "      <td>38.0</td>\n",
       "      <td>1</td>\n",
       "      <td>0</td>\n",
       "      <td>PC 17599</td>\n",
       "      <td>71.2833</td>\n",
       "      <td>C85</td>\n",
       "      <td>C</td>\n",
       "    </tr>\n",
       "    <tr>\n",
       "      <th>2</th>\n",
       "      <td>3</td>\n",
       "      <td>1</td>\n",
       "      <td>3</td>\n",
       "      <td>Heikkinen, Miss. Laina</td>\n",
       "      <td>female</td>\n",
       "      <td>26.0</td>\n",
       "      <td>0</td>\n",
       "      <td>0</td>\n",
       "      <td>STON/O2. 3101282</td>\n",
       "      <td>7.9250</td>\n",
       "      <td>NaN</td>\n",
       "      <td>S</td>\n",
       "    </tr>\n",
       "    <tr>\n",
       "      <th>3</th>\n",
       "      <td>4</td>\n",
       "      <td>1</td>\n",
       "      <td>1</td>\n",
       "      <td>Futrelle, Mrs. Jacques Heath (Lily May Peel)</td>\n",
       "      <td>female</td>\n",
       "      <td>35.0</td>\n",
       "      <td>1</td>\n",
       "      <td>0</td>\n",
       "      <td>113803</td>\n",
       "      <td>53.1000</td>\n",
       "      <td>C123</td>\n",
       "      <td>S</td>\n",
       "    </tr>\n",
       "    <tr>\n",
       "      <th>4</th>\n",
       "      <td>5</td>\n",
       "      <td>0</td>\n",
       "      <td>3</td>\n",
       "      <td>Allen, Mr. William Henry</td>\n",
       "      <td>male</td>\n",
       "      <td>35.0</td>\n",
       "      <td>0</td>\n",
       "      <td>0</td>\n",
       "      <td>373450</td>\n",
       "      <td>8.0500</td>\n",
       "      <td>NaN</td>\n",
       "      <td>S</td>\n",
       "    </tr>\n",
       "  </tbody>\n",
       "</table>\n",
       "</div>"
      ],
      "text/plain": [
       "   PassengerId  Survived  Pclass  \\\n",
       "0            1         0       3   \n",
       "1            2         1       1   \n",
       "2            3         1       3   \n",
       "3            4         1       1   \n",
       "4            5         0       3   \n",
       "\n",
       "                                                Name     Sex   Age  SibSp  \\\n",
       "0                            Braund, Mr. Owen Harris    male  22.0      1   \n",
       "1  Cumings, Mrs. John Bradley (Florence Briggs Th...  female  38.0      1   \n",
       "2                             Heikkinen, Miss. Laina  female  26.0      0   \n",
       "3       Futrelle, Mrs. Jacques Heath (Lily May Peel)  female  35.0      1   \n",
       "4                           Allen, Mr. William Henry    male  35.0      0   \n",
       "\n",
       "   Parch            Ticket     Fare Cabin Embarked  \n",
       "0      0         A/5 21171   7.2500   NaN        S  \n",
       "1      0          PC 17599  71.2833   C85        C  \n",
       "2      0  STON/O2. 3101282   7.9250   NaN        S  \n",
       "3      0            113803  53.1000  C123        S  \n",
       "4      0            373450   8.0500   NaN        S  "
      ]
     },
     "execution_count": 3,
     "metadata": {},
     "output_type": "execute_result"
    }
   ],
   "source": [
    "titanic_df.head()"
   ]
  },
  {
   "cell_type": "code",
   "execution_count": 4,
   "metadata": {},
   "outputs": [
    {
     "data": {
      "text/html": [
       "<div>\n",
       "<style>\n",
       "    .dataframe thead tr:only-child th {\n",
       "        text-align: right;\n",
       "    }\n",
       "\n",
       "    .dataframe thead th {\n",
       "        text-align: left;\n",
       "    }\n",
       "\n",
       "    .dataframe tbody tr th {\n",
       "        vertical-align: top;\n",
       "    }\n",
       "</style>\n",
       "<table border=\"1\" class=\"dataframe\">\n",
       "  <thead>\n",
       "    <tr style=\"text-align: right;\">\n",
       "      <th></th>\n",
       "      <th>PassengerId</th>\n",
       "      <th>Survived</th>\n",
       "      <th>Pclass</th>\n",
       "      <th>Name</th>\n",
       "      <th>Sex</th>\n",
       "      <th>Age</th>\n",
       "      <th>SibSp</th>\n",
       "      <th>Parch</th>\n",
       "      <th>Ticket</th>\n",
       "      <th>Fare</th>\n",
       "      <th>Cabin</th>\n",
       "      <th>Embarked</th>\n",
       "    </tr>\n",
       "  </thead>\n",
       "  <tbody>\n",
       "    <tr>\n",
       "      <th>886</th>\n",
       "      <td>887</td>\n",
       "      <td>0</td>\n",
       "      <td>2</td>\n",
       "      <td>Montvila, Rev. Juozas</td>\n",
       "      <td>male</td>\n",
       "      <td>27.0</td>\n",
       "      <td>0</td>\n",
       "      <td>0</td>\n",
       "      <td>211536</td>\n",
       "      <td>13.00</td>\n",
       "      <td>NaN</td>\n",
       "      <td>S</td>\n",
       "    </tr>\n",
       "    <tr>\n",
       "      <th>887</th>\n",
       "      <td>888</td>\n",
       "      <td>1</td>\n",
       "      <td>1</td>\n",
       "      <td>Graham, Miss. Margaret Edith</td>\n",
       "      <td>female</td>\n",
       "      <td>19.0</td>\n",
       "      <td>0</td>\n",
       "      <td>0</td>\n",
       "      <td>112053</td>\n",
       "      <td>30.00</td>\n",
       "      <td>B42</td>\n",
       "      <td>S</td>\n",
       "    </tr>\n",
       "    <tr>\n",
       "      <th>888</th>\n",
       "      <td>889</td>\n",
       "      <td>0</td>\n",
       "      <td>3</td>\n",
       "      <td>Johnston, Miss. Catherine Helen \"Carrie\"</td>\n",
       "      <td>female</td>\n",
       "      <td>NaN</td>\n",
       "      <td>1</td>\n",
       "      <td>2</td>\n",
       "      <td>W./C. 6607</td>\n",
       "      <td>23.45</td>\n",
       "      <td>NaN</td>\n",
       "      <td>S</td>\n",
       "    </tr>\n",
       "    <tr>\n",
       "      <th>889</th>\n",
       "      <td>890</td>\n",
       "      <td>1</td>\n",
       "      <td>1</td>\n",
       "      <td>Behr, Mr. Karl Howell</td>\n",
       "      <td>male</td>\n",
       "      <td>26.0</td>\n",
       "      <td>0</td>\n",
       "      <td>0</td>\n",
       "      <td>111369</td>\n",
       "      <td>30.00</td>\n",
       "      <td>C148</td>\n",
       "      <td>C</td>\n",
       "    </tr>\n",
       "    <tr>\n",
       "      <th>890</th>\n",
       "      <td>891</td>\n",
       "      <td>0</td>\n",
       "      <td>3</td>\n",
       "      <td>Dooley, Mr. Patrick</td>\n",
       "      <td>male</td>\n",
       "      <td>32.0</td>\n",
       "      <td>0</td>\n",
       "      <td>0</td>\n",
       "      <td>370376</td>\n",
       "      <td>7.75</td>\n",
       "      <td>NaN</td>\n",
       "      <td>Q</td>\n",
       "    </tr>\n",
       "  </tbody>\n",
       "</table>\n",
       "</div>"
      ],
      "text/plain": [
       "     PassengerId  Survived  Pclass                                      Name  \\\n",
       "886          887         0       2                     Montvila, Rev. Juozas   \n",
       "887          888         1       1              Graham, Miss. Margaret Edith   \n",
       "888          889         0       3  Johnston, Miss. Catherine Helen \"Carrie\"   \n",
       "889          890         1       1                     Behr, Mr. Karl Howell   \n",
       "890          891         0       3                       Dooley, Mr. Patrick   \n",
       "\n",
       "        Sex   Age  SibSp  Parch      Ticket   Fare Cabin Embarked  \n",
       "886    male  27.0      0      0      211536  13.00   NaN        S  \n",
       "887  female  19.0      0      0      112053  30.00   B42        S  \n",
       "888  female   NaN      1      2  W./C. 6607  23.45   NaN        S  \n",
       "889    male  26.0      0      0      111369  30.00  C148        C  \n",
       "890    male  32.0      0      0      370376   7.75   NaN        Q  "
      ]
     },
     "execution_count": 4,
     "metadata": {},
     "output_type": "execute_result"
    }
   ],
   "source": [
    "titanic_df.tail()"
   ]
  },
  {
   "cell_type": "markdown",
   "metadata": {},
   "source": [
    "[The Kaggle website](https://www.kaggle.com/c/titanic/data) provides descriptions of all data variables. The dataset not only contains demographics and passenger information, but also survival status.\n",
    "\n",
    "|Variable|Definition|Key|\n",
    "|:---|:---|:---|\n",
    "|survival|Survival|0 = No, 1 = Yes|\n",
    "|pclass|Ticket class|1 = 1st, 2 = 2nd, 3 = 3rd|\n",
    "|sex|Sex||\n",
    "|Age|Age in years||\n",
    "|sibsp|# of siblings / spouses aboard the Titanic||\n",
    "|parch|# of parents / children aboard the Titanic||\n",
    "|ticket|Ticket number||\n",
    "|fare|Passenger fare||\n",
    "|cabin|Cabin number||\n",
    "|embarked|Port of Embarkation|C = Cherbourg, Q = Queenstown, S = Southampton|\n",
    "\n",
    "We can brainstorm questions that can be solved by Titanic Dataset (though the data only covers a third of all passengers information). "
   ]
  },
  {
   "cell_type": "markdown",
   "metadata": {},
   "source": [
    "### 1.2 Brainstorming Questions\n",
    "**What factors made people more likely to survive?** Factors like: ticket class, age, cabin, or with family...\n",
    "* And justify your statement."
   ]
  },
  {
   "cell_type": "markdown",
   "metadata": {},
   "source": [
    "### 1.3 Analyze by Describing Data Variables\n",
    "Inspired by some of Kaggles' data solutions ([here](https://www.kaggle.com/startupsci/titanic-data-science-solutions)'s one), it's helpful to discern the characteristics of data variables. Be noted that we won't analyze variables that describing unique id, like `PassengerID` and `Ticket`.\n",
    "\n",
    "**Independent & Dependent**\n",
    "\n",
    "Though it's a *Non-experimental research*, the primary purpose that we probe the titanic dataset is to find out what factors made people more likely to survive.\n",
    "* Independent variables: features that affect passengers' survival status, as `gender`, `ticket class`, `age`, `marital status`, `families`, `cabins`, `embark ports`.;\n",
    "* Dependent variables: Survival status of each passenger;\n",
    "\n",
    "**Categorical & Numerical**\n",
    "\n",
    "Categorical variables is mostly qualitative.\n",
    "* Nominal: `Pclass`, `Embarked`.\n",
    "    * Dichotomous: `Survived`, `Sex`.\n",
    "\n",
    "Numerical variables is mostly quantitative, continuous.\n",
    "* Continuous (linear, Interval): `Age`, `Fare`.\n",
    "* Discrete: `SibSp`, `Parch`.\n",
    "\n",
    "**Mixed data types**\n",
    "\n",
    "* Cabin is alphanumeric. \n",
    "* Ticket is a mix of numeric and alphanumeric data types."
   ]
  },
  {
   "cell_type": "code",
   "execution_count": 5,
   "metadata": {},
   "outputs": [
    {
     "data": {
      "text/html": [
       "<div>\n",
       "<style>\n",
       "    .dataframe thead tr:only-child th {\n",
       "        text-align: right;\n",
       "    }\n",
       "\n",
       "    .dataframe thead th {\n",
       "        text-align: left;\n",
       "    }\n",
       "\n",
       "    .dataframe tbody tr th {\n",
       "        vertical-align: top;\n",
       "    }\n",
       "</style>\n",
       "<table border=\"1\" class=\"dataframe\">\n",
       "  <thead>\n",
       "    <tr style=\"text-align: right;\">\n",
       "      <th></th>\n",
       "      <th>PassengerId</th>\n",
       "      <th>Survived</th>\n",
       "      <th>Pclass</th>\n",
       "      <th>Age</th>\n",
       "      <th>SibSp</th>\n",
       "      <th>Parch</th>\n",
       "      <th>Fare</th>\n",
       "    </tr>\n",
       "  </thead>\n",
       "  <tbody>\n",
       "    <tr>\n",
       "      <th>count</th>\n",
       "      <td>891.000000</td>\n",
       "      <td>891.000000</td>\n",
       "      <td>891.000000</td>\n",
       "      <td>714.000000</td>\n",
       "      <td>891.000000</td>\n",
       "      <td>891.000000</td>\n",
       "      <td>891.000000</td>\n",
       "    </tr>\n",
       "    <tr>\n",
       "      <th>mean</th>\n",
       "      <td>446.000000</td>\n",
       "      <td>0.383838</td>\n",
       "      <td>2.308642</td>\n",
       "      <td>29.699118</td>\n",
       "      <td>0.523008</td>\n",
       "      <td>0.381594</td>\n",
       "      <td>32.204208</td>\n",
       "    </tr>\n",
       "    <tr>\n",
       "      <th>std</th>\n",
       "      <td>257.353842</td>\n",
       "      <td>0.486592</td>\n",
       "      <td>0.836071</td>\n",
       "      <td>14.526497</td>\n",
       "      <td>1.102743</td>\n",
       "      <td>0.806057</td>\n",
       "      <td>49.693429</td>\n",
       "    </tr>\n",
       "    <tr>\n",
       "      <th>min</th>\n",
       "      <td>1.000000</td>\n",
       "      <td>0.000000</td>\n",
       "      <td>1.000000</td>\n",
       "      <td>0.420000</td>\n",
       "      <td>0.000000</td>\n",
       "      <td>0.000000</td>\n",
       "      <td>0.000000</td>\n",
       "    </tr>\n",
       "    <tr>\n",
       "      <th>25%</th>\n",
       "      <td>223.500000</td>\n",
       "      <td>0.000000</td>\n",
       "      <td>2.000000</td>\n",
       "      <td>20.125000</td>\n",
       "      <td>0.000000</td>\n",
       "      <td>0.000000</td>\n",
       "      <td>7.910400</td>\n",
       "    </tr>\n",
       "    <tr>\n",
       "      <th>50%</th>\n",
       "      <td>446.000000</td>\n",
       "      <td>0.000000</td>\n",
       "      <td>3.000000</td>\n",
       "      <td>28.000000</td>\n",
       "      <td>0.000000</td>\n",
       "      <td>0.000000</td>\n",
       "      <td>14.454200</td>\n",
       "    </tr>\n",
       "    <tr>\n",
       "      <th>75%</th>\n",
       "      <td>668.500000</td>\n",
       "      <td>1.000000</td>\n",
       "      <td>3.000000</td>\n",
       "      <td>38.000000</td>\n",
       "      <td>1.000000</td>\n",
       "      <td>0.000000</td>\n",
       "      <td>31.000000</td>\n",
       "    </tr>\n",
       "    <tr>\n",
       "      <th>max</th>\n",
       "      <td>891.000000</td>\n",
       "      <td>1.000000</td>\n",
       "      <td>3.000000</td>\n",
       "      <td>80.000000</td>\n",
       "      <td>8.000000</td>\n",
       "      <td>6.000000</td>\n",
       "      <td>512.329200</td>\n",
       "    </tr>\n",
       "  </tbody>\n",
       "</table>\n",
       "</div>"
      ],
      "text/plain": [
       "       PassengerId    Survived      Pclass         Age       SibSp  \\\n",
       "count   891.000000  891.000000  891.000000  714.000000  891.000000   \n",
       "mean    446.000000    0.383838    2.308642   29.699118    0.523008   \n",
       "std     257.353842    0.486592    0.836071   14.526497    1.102743   \n",
       "min       1.000000    0.000000    1.000000    0.420000    0.000000   \n",
       "25%     223.500000    0.000000    2.000000   20.125000    0.000000   \n",
       "50%     446.000000    0.000000    3.000000   28.000000    0.000000   \n",
       "75%     668.500000    1.000000    3.000000   38.000000    1.000000   \n",
       "max     891.000000    1.000000    3.000000   80.000000    8.000000   \n",
       "\n",
       "            Parch        Fare  \n",
       "count  891.000000  891.000000  \n",
       "mean     0.381594   32.204208  \n",
       "std      0.806057   49.693429  \n",
       "min      0.000000    0.000000  \n",
       "25%      0.000000    7.910400  \n",
       "50%      0.000000   14.454200  \n",
       "75%      0.000000   31.000000  \n",
       "max      6.000000  512.329200  "
      ]
     },
     "execution_count": 5,
     "metadata": {},
     "output_type": "execute_result"
    }
   ],
   "source": [
    "titanic_df.describe(include=[np.number])"
   ]
  },
  {
   "cell_type": "markdown",
   "metadata": {},
   "source": [
    "**Based on this description of numerical features in dataset:**\n",
    "* Total samples are 891 or 40% of the actual number of passengers on board the Titanic (2,224).\n",
    "* Survived is a categorical feature with 0 or 1 values, and around 38% samples survived representative of the actual survival rate at 32%.\n",
    "* At least half of passengers (> 50%) did not travel with families.\n",
    "* Most passengers (> 75%) did not travel with parents or children.\n",
    "* At lease half of passengers (> 50%) are young (< 30), and they are not upper class (> 75% are 2nd or 3rd ticket class).\n",
    "* Fares varied significantly, the top 5% passengers pay fares way more than the rest 95%.\n",
    "* Few elderly passengers (< 1%) within age range 65-80."
   ]
  },
  {
   "cell_type": "code",
   "execution_count": 6,
   "metadata": {},
   "outputs": [
    {
     "data": {
      "text/html": [
       "<div>\n",
       "<style>\n",
       "    .dataframe thead tr:only-child th {\n",
       "        text-align: right;\n",
       "    }\n",
       "\n",
       "    .dataframe thead th {\n",
       "        text-align: left;\n",
       "    }\n",
       "\n",
       "    .dataframe tbody tr th {\n",
       "        vertical-align: top;\n",
       "    }\n",
       "</style>\n",
       "<table border=\"1\" class=\"dataframe\">\n",
       "  <thead>\n",
       "    <tr style=\"text-align: right;\">\n",
       "      <th></th>\n",
       "      <th>Name</th>\n",
       "      <th>Sex</th>\n",
       "      <th>Ticket</th>\n",
       "      <th>Cabin</th>\n",
       "      <th>Embarked</th>\n",
       "    </tr>\n",
       "  </thead>\n",
       "  <tbody>\n",
       "    <tr>\n",
       "      <th>count</th>\n",
       "      <td>891</td>\n",
       "      <td>891</td>\n",
       "      <td>891</td>\n",
       "      <td>204</td>\n",
       "      <td>889</td>\n",
       "    </tr>\n",
       "    <tr>\n",
       "      <th>unique</th>\n",
       "      <td>891</td>\n",
       "      <td>2</td>\n",
       "      <td>681</td>\n",
       "      <td>147</td>\n",
       "      <td>3</td>\n",
       "    </tr>\n",
       "    <tr>\n",
       "      <th>top</th>\n",
       "      <td>Ekstrom, Mr. Johan</td>\n",
       "      <td>male</td>\n",
       "      <td>1601</td>\n",
       "      <td>B96 B98</td>\n",
       "      <td>S</td>\n",
       "    </tr>\n",
       "    <tr>\n",
       "      <th>freq</th>\n",
       "      <td>1</td>\n",
       "      <td>577</td>\n",
       "      <td>7</td>\n",
       "      <td>4</td>\n",
       "      <td>644</td>\n",
       "    </tr>\n",
       "  </tbody>\n",
       "</table>\n",
       "</div>"
      ],
      "text/plain": [
       "                      Name   Sex Ticket    Cabin Embarked\n",
       "count                  891   891    891      204      889\n",
       "unique                 891     2    681      147        3\n",
       "top     Ekstrom, Mr. Johan  male   1601  B96 B98        S\n",
       "freq                     1   577      7        4      644"
      ]
     },
     "execution_count": 6,
     "metadata": {},
     "output_type": "execute_result"
    }
   ],
   "source": [
    "titanic_df.describe(include=[np.object])"
   ]
  },
  {
   "cell_type": "markdown",
   "metadata": {},
   "source": [
    "**Based on this description of categorical features in dataset:**\n",
    "* Names are unique across the dataset (count=unique=891)\n",
    "* Sex variable as two possible values with 65% male (top=male, 577/891=0.65)\n",
    "* Ticket (22%) and Cabin values has several duplicates across samples.\n",
    "    * Alternatively several passengers shared a cabin.\n",
    "* Embarked takes 3 possible values. S port used by most passengers.\n",
    "\n",
    "---"
   ]
  },
  {
   "cell_type": "markdown",
   "metadata": {},
   "source": [
    "## 2. WRANGLING\n",
    "- 1 Fixing Data Types\n",
    "- 2 Problems in the Data and Investigate the Data\n",
    "- 3 Dig Into Features\n",
    "- 4 Working With Missing Data\n",
    "- 5 Wrangle Data"
   ]
  },
  {
   "cell_type": "markdown",
   "metadata": {},
   "source": [
    "### 2.1 Fixing Data Types"
   ]
  },
  {
   "cell_type": "code",
   "execution_count": 7,
   "metadata": {},
   "outputs": [
    {
     "name": "stdout",
     "output_type": "stream",
     "text": [
      "PassengerId      int64\n",
      "Survived         int64\n",
      "Pclass           int64\n",
      "Name            object\n",
      "Gender          object\n",
      "Age            float64\n",
      "Sib_Sp           int64\n",
      "Par_Ch           int64\n",
      "Ticket          object\n",
      "Fare           float64\n",
      "Cabin           object\n",
      "Embarked        object\n",
      "dtype: object\n"
     ]
    }
   ],
   "source": [
    "# Change some features' names to make them easier to interpret.\n",
    "titanic_df.rename(columns={'Sex': 'Gender', 'SibSp': 'Sib_Sp','Parch': 'Par_Ch'}, inplace=True)\n",
    "\n",
    "# Print out every dtypes of the data set and see if they are all logically correct?\n",
    "print(titanic_df.dtypes)"
   ]
  },
  {
   "cell_type": "markdown",
   "metadata": {},
   "source": [
    "Based on dtypes print out above, 7 features are integer or floats, and 5 features are strings (object).\n",
    "\n",
    "* I was considering of taking 'Survived' data and convert them into boolean at first. But it might not be necessary since the value in this column is either '0' or '1', which means the same thing to boolean types.\n",
    "\n",
    "* Also, it is more convenient to keep 'PassengerId' and 'Pclass' to be int64 but not string here. Because you can sort int64 type of data in order.\n",
    "\n",
    "**Therefore, all dtypes of the Titanic dataframe is looking great.**"
   ]
  },
  {
   "cell_type": "markdown",
   "metadata": {},
   "source": [
    "### 2.2 Problems in the Data and Investigate the Data"
   ]
  },
  {
   "cell_type": "code",
   "execution_count": 8,
   "metadata": {
    "collapsed": true
   },
   "outputs": [],
   "source": [
    "# Print out the result of checking missing data\n",
    "def data_checkup_result(pd_data, check_unique):\n",
    "    if check_unique:\n",
    "        s1 = \"For '%s' column, all data is unique. \"% (pd_data.name) if ((len(pd_data.unique()) - pd_data.count()) == 0) \\\n",
    "            else \"For '%s' column, there're some duplicate data. \"% (pd_data.name)\n",
    "        s2 = \"And there's no empty values in this column.\" if (pd_data.isnull().sum() == 0) \\\n",
    "            else \"And %i empty values in this column.\" % (pd_data.isnull().sum())\n",
    "        return s1 + s2\n",
    "    else:\n",
    "        return \"For '%s' column, There's no empty values in this column.\"% (pd_data.name) if (pd_data.isnull().sum()==0) \\\n",
    "        else \"For '%s' column, there're %i empty values.\" % (pd_data.name, pd_data.isnull().sum())    "
   ]
  },
  {
   "cell_type": "code",
   "execution_count": 9,
   "metadata": {},
   "outputs": [
    {
     "name": "stdout",
     "output_type": "stream",
     "text": [
      "PassengerId      0\n",
      "Survived         0\n",
      "Pclass           0\n",
      "Name             0\n",
      "Gender           0\n",
      "Age            177\n",
      "Sib_Sp           0\n",
      "Par_Ch           0\n",
      "Ticket           0\n",
      "Fare             0\n",
      "Cabin          687\n",
      "Embarked         2\n",
      "dtype: int64\n"
     ]
    }
   ],
   "source": [
    "print(titanic_df.isnull().sum())"
   ]
  },
  {
   "cell_type": "markdown",
   "metadata": {},
   "source": [
    "'Cabin' and 'Age' features are missing quite a lot of data."
   ]
  },
  {
   "cell_type": "code",
   "execution_count": 10,
   "metadata": {
    "scrolled": true
   },
   "outputs": [
    {
     "name": "stdout",
     "output_type": "stream",
     "text": [
      "For 'PassengerId' column, all data is unique. And there's no empty values in this column.\n",
      "For 'Survived' column, There's no empty values in this column.\n",
      "For 'Pclass' column, There's no empty values in this column.\n",
      "For 'Name' column, There's no empty values in this column.\n",
      "For 'Gender' column, There's no empty values in this column.\n",
      "For 'Age' column, there're 177 empty values.\n",
      "For 'Sib_Sp' column, There's no empty values in this column.\n",
      "For 'Par_Ch' column, There's no empty values in this column.\n",
      "For 'Ticket' column, there're some duplicate data. And there's no empty values in this column.\n",
      "For 'Fare' column, There's no empty values in this column.\n",
      "For 'Cabin' column, there're 687 empty values.\n",
      "For 'Embarked' column, there're 2 empty values.\n"
     ]
    }
   ],
   "source": [
    "for col_name in titanic_df.columns.values:\n",
    "    if col_name in ['PassengerId', 'Ticket']:\n",
    "        print(data_checkup_result(titanic_df[col_name], True))\n",
    "    else:\n",
    "        print(data_checkup_result(titanic_df[col_name], False))"
   ]
  },
  {
   "cell_type": "markdown",
   "metadata": {},
   "source": [
    "`Cabin` \\ `Age` \\ `Embarked` features contain a number of null values;\n",
    "\n",
    "These will require correcting."
   ]
  },
  {
   "cell_type": "code",
   "execution_count": 11,
   "metadata": {},
   "outputs": [
    {
     "name": "stdout",
     "output_type": "stream",
     "text": [
      "All data values in 'Survived' column in scope.\n",
      "All data values in 'Pclass' column in scope.\n",
      "There're 2 data in Embarked column running outide the scope.\n"
     ]
    }
   ],
   "source": [
    "# Check if how many data is out of scope\n",
    "def check_data_outside_scope(df_col, scope_list):\n",
    "    i = 0\n",
    "    for data in df_col:\n",
    "        if data not in scope_list:\n",
    "            i += 1\n",
    "    return i\n",
    "\n",
    "def check_scope_result(num_out_scope, col_name):\n",
    "    return (\"All data values in '%s' column in scope.\"% (col_name) if num_out_scope == 0 else \\\n",
    "           \"There're {a:d} data in {b:s} column running outide the scope.\".format(a=num_out_scope, b=col_name))\n",
    "        \n",
    "# Check if any data's value is running out of scope\n",
    "# Return a dict for key is passengerId, value is the data.\n",
    "print(check_scope_result(check_data_outside_scope(titanic_df['Survived'], [0,1]), 'Survived'))\n",
    "print(check_scope_result(check_data_outside_scope(titanic_df['Pclass'], [1,2,3]), 'Pclass'))\n",
    "print(check_scope_result(check_data_outside_scope(titanic_df['Embarked'], ['C','Q','S']), 'Embarked'))\n"
   ]
  },
  {
   "cell_type": "markdown",
   "metadata": {},
   "source": [
    "Obviously, these 2 data in `Embarked` column which outside the scope are all empty values."
   ]
  },
  {
   "cell_type": "markdown",
   "metadata": {},
   "source": [
    "### Dig Into Features\n",
    "Before we try to fix data for every features, I want to dig deep. Simply with knowledge we gain from above, I try to look at these features and see if I can get some thoughts for next phase.\n",
    "\n",
    "In order to answer the question, I need to find out the factor that has the highest *correlation with* the `Survived` status.\n",
    "\n",
    "|Features|dtype|Need_Analysis|Need_Fixing|\n",
    "|:---|:---:|:---:|:---:|\n",
    "|`PassengerId`|int64|||\n",
    "|`Pclass`|int64|&#x2705;||\n",
    "|`Name`|object|||\n",
    "|`Sex`|object|&#x2705;||\n",
    "|`Age`|float64|&#x2705;|&#x2705;|\n",
    "|`Sib_Sp`|int64|&#x2705;||\n",
    "|`Par_Ch`|int64|&#x2705;||\n",
    "|`Ticket`|object|||\n",
    "|`Fare`|float64|&#x2705;||\n",
    "|`Cabin`|object|||\n",
    "|`Embarked`|object|&#x2705;|&#x2705;|"
   ]
  },
  {
   "cell_type": "markdown",
   "metadata": {},
   "source": [
    "* `PassengerId`, `Ticket`, and `Name` are just identifications for passengers and tickets. They doesn't convey any meaningful information about each passenger. \n",
    "* But `Name` feature has `Title` information. We can extract it as a new feature.\n",
    "* `Cabin` may be dropped because most of value in this feature is empty.\n",
    "* Though `Age` and `Embarked` are incomplete, they are definitely correlated to `survival` status. That means these two columns need completing.\n",
    "* `Sib_Sp` and `Par_Ch` can be combined to create a new feature `Family`, to show total count of family members on board."
   ]
  },
  {
   "cell_type": "code",
   "execution_count": 12,
   "metadata": {
    "collapsed": true
   },
   "outputs": [],
   "source": [
    "# Create `Family` based on `Sib_Sp` and `Par_Ch`\n",
    "titanic_df['Family_Size'] = titanic_df['Sib_Sp'] + titanic_df['Par_Ch'] + 1"
   ]
  },
  {
   "cell_type": "code",
   "execution_count": 13,
   "metadata": {
    "collapsed": true
   },
   "outputs": [],
   "source": [
    "titanic_df['Alone'] = False\n",
    "titanic_df.loc[titanic_df['Family_Size'] == 1, 'Alone'] = True"
   ]
  },
  {
   "cell_type": "code",
   "execution_count": 14,
   "metadata": {},
   "outputs": [
    {
     "data": {
      "text/html": [
       "<div>\n",
       "<style>\n",
       "    .dataframe thead tr:only-child th {\n",
       "        text-align: right;\n",
       "    }\n",
       "\n",
       "    .dataframe thead th {\n",
       "        text-align: left;\n",
       "    }\n",
       "\n",
       "    .dataframe tbody tr th {\n",
       "        vertical-align: top;\n",
       "    }\n",
       "</style>\n",
       "<table border=\"1\" class=\"dataframe\">\n",
       "  <thead>\n",
       "    <tr style=\"text-align: right;\">\n",
       "      <th>Gender</th>\n",
       "      <th>female</th>\n",
       "      <th>male</th>\n",
       "    </tr>\n",
       "    <tr>\n",
       "      <th>Title</th>\n",
       "      <th></th>\n",
       "      <th></th>\n",
       "    </tr>\n",
       "  </thead>\n",
       "  <tbody>\n",
       "    <tr>\n",
       "      <th>Capt</th>\n",
       "      <td>0</td>\n",
       "      <td>1</td>\n",
       "    </tr>\n",
       "    <tr>\n",
       "      <th>Col</th>\n",
       "      <td>0</td>\n",
       "      <td>2</td>\n",
       "    </tr>\n",
       "    <tr>\n",
       "      <th>Countess</th>\n",
       "      <td>1</td>\n",
       "      <td>0</td>\n",
       "    </tr>\n",
       "    <tr>\n",
       "      <th>Don</th>\n",
       "      <td>0</td>\n",
       "      <td>1</td>\n",
       "    </tr>\n",
       "    <tr>\n",
       "      <th>Dr</th>\n",
       "      <td>1</td>\n",
       "      <td>6</td>\n",
       "    </tr>\n",
       "    <tr>\n",
       "      <th>Jonkheer</th>\n",
       "      <td>0</td>\n",
       "      <td>1</td>\n",
       "    </tr>\n",
       "    <tr>\n",
       "      <th>Lady</th>\n",
       "      <td>1</td>\n",
       "      <td>0</td>\n",
       "    </tr>\n",
       "    <tr>\n",
       "      <th>Major</th>\n",
       "      <td>0</td>\n",
       "      <td>2</td>\n",
       "    </tr>\n",
       "    <tr>\n",
       "      <th>Master</th>\n",
       "      <td>0</td>\n",
       "      <td>40</td>\n",
       "    </tr>\n",
       "    <tr>\n",
       "      <th>Miss</th>\n",
       "      <td>182</td>\n",
       "      <td>0</td>\n",
       "    </tr>\n",
       "    <tr>\n",
       "      <th>Mlle</th>\n",
       "      <td>2</td>\n",
       "      <td>0</td>\n",
       "    </tr>\n",
       "    <tr>\n",
       "      <th>Mme</th>\n",
       "      <td>1</td>\n",
       "      <td>0</td>\n",
       "    </tr>\n",
       "    <tr>\n",
       "      <th>Mr</th>\n",
       "      <td>0</td>\n",
       "      <td>517</td>\n",
       "    </tr>\n",
       "    <tr>\n",
       "      <th>Mrs</th>\n",
       "      <td>125</td>\n",
       "      <td>0</td>\n",
       "    </tr>\n",
       "    <tr>\n",
       "      <th>Ms</th>\n",
       "      <td>1</td>\n",
       "      <td>0</td>\n",
       "    </tr>\n",
       "    <tr>\n",
       "      <th>Rev</th>\n",
       "      <td>0</td>\n",
       "      <td>6</td>\n",
       "    </tr>\n",
       "    <tr>\n",
       "      <th>Sir</th>\n",
       "      <td>0</td>\n",
       "      <td>1</td>\n",
       "    </tr>\n",
       "  </tbody>\n",
       "</table>\n",
       "</div>"
      ],
      "text/plain": [
       "Gender    female  male\n",
       "Title                 \n",
       "Capt           0     1\n",
       "Col            0     2\n",
       "Countess       1     0\n",
       "Don            0     1\n",
       "Dr             1     6\n",
       "Jonkheer       0     1\n",
       "Lady           1     0\n",
       "Major          0     2\n",
       "Master         0    40\n",
       "Miss         182     0\n",
       "Mlle           2     0\n",
       "Mme            1     0\n",
       "Mr             0   517\n",
       "Mrs          125     0\n",
       "Ms             1     0\n",
       "Rev            0     6\n",
       "Sir            0     1"
      ]
     },
     "execution_count": 14,
     "metadata": {},
     "output_type": "execute_result"
    }
   ],
   "source": [
    "# Extract `Title` from `Name`\n",
    "titanic_df['Title'] = titanic_df['Name'].str.extract('([A-Za-z]+)\\.', expand=False)\n",
    "\n",
    "pd.crosstab(titanic_df['Title'], titanic_df['Gender'])"
   ]
  },
  {
   "cell_type": "code",
   "execution_count": 15,
   "metadata": {
    "collapsed": true
   },
   "outputs": [],
   "source": [
    "# Replace rare titles to a 'Rare' category\n",
    "titanic_df['Title'] = titanic_df['Title'].replace(['Lady', 'Countess','Capt', 'Col','Don', 'Dr', 'Major', 'Rev', 'Sir', 'Jonkheer', 'Dona'], 'Rare')\n",
    "titanic_df['Title'] = titanic_df['Title'].replace('Mlle', 'Miss')\n",
    "titanic_df['Title'] = titanic_df['Title'].replace('Ms', 'Miss')\n",
    "titanic_df['Title'] = titanic_df['Title'].replace('Mme', 'Mrs')"
   ]
  },
  {
   "cell_type": "markdown",
   "metadata": {},
   "source": [
    "### Working with Missing Data"
   ]
  },
  {
   "cell_type": "markdown",
   "metadata": {},
   "source": [
    "From what we know above, all missing data have been represented as `NaN`, and it would present difficulties later when trying to conduct analysis to all these incomplete values. So we need to fix this issue for `Embarked`, `Cabin`, `Age`, in which missing data exists.\n",
    "\n",
    "Basically, we work with missing data by finding the degree of association between target feature and other feature. Here's the assumption I hold: *as the degree of association gets higher, the likihood of similar values for the feature in specific group gets higher.* What follows is a brief overview of statistical analysis that I am going to conduct to figure out relationships:\n",
    "* `Embarked`: since values in it are nominal variables of 3 different categories, and only 2 values are missing. So I will just fill the most frequent occurence in.\n",
    "* `Cabin`: over three-fouths of data is missing in this feature, and also values are just an identifier for each space. So I will simply remove this column. But I am curious of the relationship between the existence of `Cabin` information and passengers in different `Pclass`. I will conduct *Chi-square test* to see the relationship.\n",
    "* `Age`: things get complex here, for `Age` can be related to multiple features. There're lots of possibilities here. I will conduct *One-way ANOVA test* to explore relationships."
   ]
  },
  {
   "cell_type": "markdown",
   "metadata": {},
   "source": [
    "#### Define helper functions conduct statistical analysis\n",
    "1. *One-way ANOVA*\n",
    "2. *Chi-square*"
   ]
  },
  {
   "cell_type": "code",
   "execution_count": 16,
   "metadata": {
    "collapsed": true
   },
   "outputs": [],
   "source": [
    "# 1. One-way ANOVA\n",
    "def get_f_stats(df):\n",
    "    grand_mean = df.stack().mean()\n",
    "\n",
    "    ss_between = 0\n",
    "    for col in df.columns:\n",
    "        ss_between = ss_between + df[col].notnull().sum() * ((df[col].mean() - grand_mean)**2)\n",
    "    ss_within = ((df - df.mean())**2).stack().sum()\n",
    "    \n",
    "    df_between, df_within = len(df.columns) - 1, df.notnull().stack().sum() - len(df.columns)\n",
    "    ms_between, ms_within = ss_between / df_between, ss_within / df_within\n",
    "    \n",
    "    return ms_between / ms_within\n",
    "\n",
    "def conduct_hsd_analysis(df, q_critical):\n",
    "    ss_within = ((df - df.mean())**2).stack().sum()\n",
    "    df_within = df.notnull().stack().sum() - len(df.columns)\n",
    "    \n",
    "    tukeys_hsd = q_critical * ((ss_within / df_within) / len(df.index))**(1/2.)\n",
    "    \n",
    "    from itertools import combinations\n",
    "    for subset in combinations(df.columns, 2):\n",
    "        print(\"The differences between %s and %s is honestly significant.\"% (subset[0], subset[1]) if abs(df[subset[0]].mean() - df[subset[1]].mean()) > tukeys_hsd else \"They are not honestly significantly different\")\n",
    "    return tukeys_hsd\n",
    "\n",
    "def get_cohens_d(df):\n",
    "    ss_within = ((df - df.mean())**2).stack().sum()\n",
    "    df_within = df.notnull().stack().sum() - len(df.columns)\n",
    "    \n",
    "    cohens_dict = {}\n",
    "    from itertools import combinations\n",
    "    for subset in combinations(df.columns, 2):\n",
    "        cohens_dict[subset] = (df[subset[0]].mean() - df[subset[1]].mean()) / ((ss_within / df_within) ** (1/2.))\n",
    "    \n",
    "    return cohens_dict\n",
    "\n",
    "def get_eta_squared(df):\n",
    "    ss_between = 0\n",
    "    for col in df.columns:\n",
    "        ss_between = ss_between + df[col].notnull().sum() * ((df[col].mean() - df.stack().mean())**2)\n",
    "    \n",
    "    ss_within = ((df - df.mean())**2).stack().sum()\n",
    "    \n",
    "    return ss_between / (ss_between + ss_within)"
   ]
  },
  {
   "cell_type": "code",
   "execution_count": 17,
   "metadata": {
    "collapsed": true
   },
   "outputs": [],
   "source": [
    "# 2. Chi-square\n",
    "def get_chi_square(df_obs):\n",
    "    \n",
    "    def get_expected(df_obs):\n",
    "        df_exp = df_obs.copy()\n",
    "\n",
    "        for row in df_obs.index:\n",
    "            for col in df_obs.columns:\n",
    "                df_exp.loc[row,col] = df_obs[col].values.sum() * df_obs.loc[row].values.sum() / df_obs.values.sum()\n",
    "\n",
    "        return df_exp\n",
    "\n",
    "    return ((df_obs - get_expected(df_obs))**2 / get_expected(df_obs)).values.sum()\n",
    "\n",
    "def get_cramers_v(df_obs):\n",
    "    \n",
    "    def get_expected(df_obs):\n",
    "        df_exp = df_obs.copy()\n",
    "\n",
    "        for row in df_obs.index:\n",
    "            for col in df_obs.columns:\n",
    "                df_exp.loc[row,col] = df_obs[col].values.sum() * df_obs.loc[row].values.sum() / df_obs.values.sum()\n",
    "\n",
    "        return df_exp\n",
    "\n",
    "    chi_square = ((df_obs - get_expected(df_obs))**2 / get_expected(df_obs)).values.sum()\n",
    "    k = min(len(df_obs.columns), len(df_obs.index))\n",
    "    \n",
    "    return (chi_square / (df_obs.values.sum() * (k-1))) ** (1/2.)"
   ]
  },
  {
   "cell_type": "markdown",
   "metadata": {},
   "source": [
    "#### *Embarked* values\n",
    "\n",
    "The `Embarked` feature only has 2 missing values, I will simply fill with the most frequent occurance here, which means, the mode."
   ]
  },
  {
   "cell_type": "code",
   "execution_count": 18,
   "metadata": {
    "collapsed": true
   },
   "outputs": [],
   "source": [
    "# Find the most common occurance\n",
    "freq_port = titanic_df['Embarked'].mode()[0]"
   ]
  },
  {
   "cell_type": "code",
   "execution_count": 19,
   "metadata": {},
   "outputs": [
    {
     "name": "stdout",
     "output_type": "stream",
     "text": [
      "Now embarked feature has 0 empty value.\n"
     ]
    }
   ],
   "source": [
    "# Fill the missing data with the most frequent value\n",
    "titanic_df['Embarked'].fillna(freq_port, inplace=True)\n",
    "\n",
    "print(\"Now embarked feature has %s empty value.\" % titanic_df['Embarked'].isnull().sum())"
   ]
  },
  {
   "cell_type": "code",
   "execution_count": 20,
   "metadata": {},
   "outputs": [
    {
     "data": {
      "text/plain": [
       "0    S\n",
       "1    C\n",
       "2    S\n",
       "3    S\n",
       "4    S\n",
       "Name: Embarked, dtype: object"
      ]
     },
     "execution_count": 20,
     "metadata": {},
     "output_type": "execute_result"
    }
   ],
   "source": [
    "titanic_df['Embarked'].head()"
   ]
  },
  {
   "cell_type": "markdown",
   "metadata": {},
   "source": [
    "#### *Cabin* values\n",
    "\n",
    "`Cabin` feature is just an identifier for each space. It doesn't tell us any meaningful information about this passenger. Also, most values in it are empty (over 75% of values), I will drop this feature for its incompleteness and uselessness.\n",
    "\n",
    "But before removing it, I will use a contingency table to conduct *Chi-square test* to see if the existence of `Cabin` information has relationships with `Pclass`."
   ]
  },
  {
   "cell_type": "code",
   "execution_count": 21,
   "metadata": {},
   "outputs": [
    {
     "data": {
      "text/html": [
       "<div>\n",
       "<style>\n",
       "    .dataframe thead tr:only-child th {\n",
       "        text-align: right;\n",
       "    }\n",
       "\n",
       "    .dataframe thead th {\n",
       "        text-align: left;\n",
       "    }\n",
       "\n",
       "    .dataframe tbody tr th {\n",
       "        vertical-align: top;\n",
       "    }\n",
       "</style>\n",
       "<table border=\"1\" class=\"dataframe\">\n",
       "  <thead>\n",
       "    <tr style=\"text-align: right;\">\n",
       "      <th>Pclass</th>\n",
       "      <th>1</th>\n",
       "      <th>2</th>\n",
       "      <th>3</th>\n",
       "    </tr>\n",
       "    <tr>\n",
       "      <th>No Cabin Info</th>\n",
       "      <th></th>\n",
       "      <th></th>\n",
       "      <th></th>\n",
       "    </tr>\n",
       "  </thead>\n",
       "  <tbody>\n",
       "    <tr>\n",
       "      <th>False</th>\n",
       "      <td>176</td>\n",
       "      <td>16</td>\n",
       "      <td>12</td>\n",
       "    </tr>\n",
       "    <tr>\n",
       "      <th>True</th>\n",
       "      <td>40</td>\n",
       "      <td>168</td>\n",
       "      <td>479</td>\n",
       "    </tr>\n",
       "  </tbody>\n",
       "</table>\n",
       "</div>"
      ],
      "text/plain": [
       "Pclass           1    2    3\n",
       "No Cabin Info               \n",
       "False          176   16   12\n",
       "True            40  168  479"
      ]
     },
     "execution_count": 21,
     "metadata": {},
     "output_type": "execute_result"
    }
   ],
   "source": [
    "cabin_contingency = pd.crosstab(titanic_df['Cabin'].isnull(), titanic_df['Pclass'], rownames=['No Cabin Info'], colnames=['Pclass'])\n",
    "cabin_contingency"
   ]
  },
  {
   "cell_type": "code",
   "execution_count": 22,
   "metadata": {},
   "outputs": [
    {
     "data": {
      "text/plain": [
       "557.31026294018488"
      ]
     },
     "execution_count": 22,
     "metadata": {},
     "output_type": "execute_result"
    }
   ],
   "source": [
    "get_chi_square(cabin_contingency)"
   ]
  },
  {
   "cell_type": "code",
   "execution_count": 23,
   "metadata": {},
   "outputs": [
    {
     "data": {
      "text/plain": [
       "10.596634733096073"
      ]
     },
     "execution_count": 23,
     "metadata": {},
     "output_type": "execute_result"
    }
   ],
   "source": [
    "from scipy.stats import chi2\n",
    "chi_critical = chi2.isf(q=0.005, df=2)\n",
    "chi_critical"
   ]
  },
  {
   "cell_type": "markdown",
   "metadata": {},
   "source": [
    "The chi-square is far bigger than chi-square critical value (10.597 for alpha=0.005 and df=2). We can conclude that the result is significant, since the p-value of this chi-square testing is so small that it's unlikely the result are due to sampling error.\n",
    "\n",
    "So, `Pclass` values associate with the existence of `Cabin` information for each passenger. It's likely that the higher the class of which the passenger is, the less likely of missing `Cabin` information."
   ]
  },
  {
   "cell_type": "code",
   "execution_count": 24,
   "metadata": {},
   "outputs": [
    {
     "data": {
      "text/plain": [
       "PassengerId      int64\n",
       "Survived         int64\n",
       "Pclass           int64\n",
       "Name            object\n",
       "Gender          object\n",
       "Age            float64\n",
       "Sib_Sp           int64\n",
       "Par_Ch           int64\n",
       "Ticket          object\n",
       "Fare           float64\n",
       "Embarked        object\n",
       "Family_Size      int64\n",
       "Alone             bool\n",
       "Title           object\n",
       "dtype: object"
      ]
     },
     "execution_count": 24,
     "metadata": {},
     "output_type": "execute_result"
    }
   ],
   "source": [
    "# Drop Cabin\n",
    "titanic_df = titanic_df.drop(['Cabin'], axis=1)\n",
    "titanic_df.dtypes"
   ]
  },
  {
   "cell_type": "markdown",
   "metadata": {},
   "source": [
    "#### *Age* values\n",
    "Almost 20 percent of values are missing in this column. We want to fill values in based on relationships. The one with highest degree of association with `Age` is the one gives most weights to the age value we try guess. `Age` is continuous numerical variables, so we can conduct *One-Way ANOVA test* with nominal variables, like `Pclass`, `Family_Size`, `Gender`, `Embarked`.\n",
    "\n",
    "Rather than generate random numbers between mean and standard deviation, I will guess missing values by classifying data into groups based on related features.\n",
    "1. Describe 'Age' data, and get a big picture of data;\n",
    "2. Plot 'Age' and see how data distributes;\n",
    "3. Normalize data into the range of [0, 10], and exclude outliers;\n",
    "4. Measure relationships between 'Age' and other features, and rank them to find the one who has the highest degree of association;\n",
    "5. Classify data into groups;\n",
    "6. Fill missing 'Age' data based on statistical analysis to each group;\n",
    "7. Return missing data to Titanic dataframe;"
   ]
  },
  {
   "cell_type": "code",
   "execution_count": 25,
   "metadata": {},
   "outputs": [
    {
     "name": "stdout",
     "output_type": "stream",
     "text": [
      "count    714.000000\n",
      "mean      29.699118\n",
      "std       14.526497\n",
      "min        0.420000\n",
      "25%       20.125000\n",
      "50%       28.000000\n",
      "75%       38.000000\n",
      "max       80.000000\n",
      "Name: Age, dtype: float64\n",
      "\n",
      "\n",
      "Null data: 177\n"
     ]
    }
   ],
   "source": [
    "# Describe data of 'Age' feature, and see how many empty data in it.\n",
    "print(titanic_df['Age'].describe())\n",
    "print(\"\\n\")\n",
    "print('Null data: %i' % titanic_df['Age'].isnull().sum())"
   ]
  },
  {
   "cell_type": "code",
   "execution_count": 26,
   "metadata": {},
   "outputs": [
    {
     "data": {
      "text/plain": [
       "<matplotlib.axes._subplots.AxesSubplot at 0x115ef3550>"
      ]
     },
     "execution_count": 26,
     "metadata": {},
     "output_type": "execute_result"
    },
    {
     "data": {
      "image/png": "[encoded data removed]",
      "text/plain": [
       "<matplotlib.figure.Figure at 0x115d3ccf8>"
      ]
     },
     "metadata": {},
     "output_type": "display_data"
    }
   ],
   "source": [
    "titanic_df['Age'].plot.hist(alpha=0.5, bins=30, rwidth=1)"
   ]
  },
  {
   "cell_type": "markdown",
   "metadata": {},
   "source": [
    "Let's normalize data into range [0,10], to lessen the effect of scale differences.\n",
    "\n",
    "> Explicitly explain your reason why you do this."
   ]
  },
  {
   "cell_type": "code",
   "execution_count": 27,
   "metadata": {
    "collapsed": true
   },
   "outputs": [],
   "source": [
    "# Feature Scaling\n",
    "def normalize_scaling(i, max_data, min_data, range_tuple=(0,10)):\n",
    "    return range_tuple[0] + ((i - min_data)*(range_tuple[1] - range_tuple[0])) / (max_data - min_data)\n",
    "\n",
    "titanic_df['Age'] = titanic_df['Age'].apply(lambda i:normalize_scaling(i, titanic_df['Age'].max(), titanic_df['Age'].min()))"
   ]
  },
  {
   "cell_type": "code",
   "execution_count": 28,
   "metadata": {},
   "outputs": [
    {
     "name": "stdout",
     "output_type": "stream",
     "text": [
      "count    714.000000\n",
      "mean       3.679206\n",
      "std        1.825395\n",
      "min        0.000000\n",
      "25%        2.476125\n",
      "50%        3.465695\n",
      "75%        4.722292\n",
      "max       10.000000\n",
      "Name: Age, dtype: float64\n",
      "\n",
      "\n",
      "Mode is 2.963056\n"
     ]
    }
   ],
   "source": [
    "print(titanic_df['Age'].describe())\n",
    "print(\"\\n\")\n",
    "print('Mode is %f'%titanic_df['Age'].mode())"
   ]
  },
  {
   "cell_type": "code",
   "execution_count": 29,
   "metadata": {},
   "outputs": [
    {
     "data": {
      "text/plain": [
       "<matplotlib.axes._subplots.AxesSubplot at 0x11928c898>"
      ]
     },
     "execution_count": 29,
     "metadata": {},
     "output_type": "execute_result"
    },
    {
     "data": {
      "image/png": "[encoded data removed]",
      "text/plain": [
       "<matplotlib.figure.Figure at 0x115d0c278>"
      ]
     },
     "metadata": {},
     "output_type": "display_data"
    }
   ],
   "source": [
    "titanic_df['Age'].plot.hist(alpha=0.5, bins=20, rwidth=10)"
   ]
  },
  {
   "cell_type": "code",
   "execution_count": 30,
   "metadata": {},
   "outputs": [
    {
     "name": "stdout",
     "output_type": "stream",
     "text": [
      "There're outliers in this sample since the maximum in the sample is larger than the upper bound of outlier.\n"
     ]
    },
    {
     "data": {
      "text/plain": [
       "<matplotlib.axes._subplots.AxesSubplot at 0x119318dd8>"
      ]
     },
     "execution_count": 30,
     "metadata": {},
     "output_type": "execute_result"
    },
    {
     "data": {
      "image/png": "[encoded data removed]",
      "text/plain": [
       "<matplotlib.figure.Figure at 0x115e2d7b8>"
      ]
     },
     "metadata": {},
     "output_type": "display_data"
    }
   ],
   "source": [
    "# See if there's any outliers in this sample data\n",
    "titanic_df_iqr = titanic_df['Age'].quantile(.75) - titanic_df['Age'].quantile(.25)\n",
    "titanic_df_outlier_upper = titanic_df['Age'].quantile(.75) + 1.5*titanic_df_iqr\n",
    "titanic_df_outlier_lower = titanic_df['Age'].quantile(.25) - 1.5*titanic_df_iqr\n",
    "\n",
    "if titanic_df['Age'].max() < titanic_df_outlier_upper:\n",
    "    if titanic_df['Age'].min() > titanic_df_outlier_lower:\n",
    "        print(\"There's no outlier in this sample.\")\n",
    "    else:\n",
    "        print(\"There're outliers in this sample since the minimum in the sample is smaller than the lower bound of outlier.\")\n",
    "else:\n",
    "    if titanic_df['Age'].min() < titanic_df_outlier_lower:\n",
    "        print(\"There're outliers in this sample since the minimum in the sample is smaller than the lower bound of outlier, and the maximum in the sample is larger than the upper bound of outlier.\")\n",
    "    else:\n",
    "        print(\"There're outliers in this sample since the maximum in the sample is larger than the upper bound of outlier.\")\n",
    "\n",
    "sns.boxplot(data=titanic_df['Age'], orient=\"h\", palette=\"Set3\")"
   ]
  },
  {
   "cell_type": "code",
   "execution_count": 31,
   "metadata": {},
   "outputs": [],
   "source": [
    "# Exclude outliers and NaN data\n",
    "titanic_age_sample = titanic_df[np.abs(titanic_df['Age'] - titanic_df['Age'].mean())<=(3*titanic_df['Age'].std())]"
   ]
  },
  {
   "cell_type": "code",
   "execution_count": 33,
   "metadata": {},
   "outputs": [
    {
     "name": "stdout",
     "output_type": "stream",
     "text": [
      "The f-stats between Pclass and Age is 58.166241. It's bigger than f-critical value 3.008426.\n",
      "The f-stats between Gender and Age is 5.503008. It's bigger than f-critical value 3.854589.\n",
      "The f-stats between Embarked and Age is 0.706100. It's smaller than f-critical value 3.008426.\n",
      "The f-stats between Family_Size and Age is 11.237204. It's bigger than f-critical value 2.022569.\n"
     ]
    }
   ],
   "source": [
    "# Measure degree of associations by ANOVA\n",
    "from scipy.stats import f\n",
    "\n",
    "f_stats = {}\n",
    "for col in titanic_age_sample.columns & ['Pclass', 'Gender', 'Embarked', 'Family_Size']:\n",
    "    titanic_age_temp = titanic_age_sample.pivot_table(index=['PassengerId'], columns=col, values='Age')\n",
    "    f_stats[(col,'Age')] = (get_f_stats(titanic_age_temp),f.ppf(q=1-0.05, dfn=len(titanic_age_temp.columns)-1, dfd=titanic_age_temp.notnull().values.sum()-len(titanic_age_temp.columns)))\n",
    "    print(\"The f-stats between %s and Age is %f. \" % (col, f_stats[(col,'Age')][0]) + (\"It's bigger than f-critical value %f.\" % (f_stats[(col,'Age')][1]) if f_stats[(col,'Age')][0]>f_stats[(col,'Age')][1] else \"It's smaller than f-critical value %f.\" % (f_stats[(col,'Age')][1])))"
   ]
  },
  {
   "cell_type": "markdown",
   "metadata": {},
   "source": [
    "I am curious: whether the association between `Age` and `Gender` is largely due to the connection between `Gender` and (`Pclass` and `Family_Size`), or not. To test this assumption, I will conduct *Chi-square test*: big Chi-stats can prove relations."
   ]
  },
  {
   "cell_type": "code",
   "execution_count": 34,
   "metadata": {},
   "outputs": [
    {
     "name": "stdout",
     "output_type": "stream",
     "text": [
      "The chi-stats between 'Gender' and ('Pclass', 'Family_Size') is 85.681340. It's bigger than chi-critical value 3.841459.\n"
     ]
    }
   ],
   "source": [
    "gender_pf_contingency = pd.crosstab(titanic_age_sample['Gender'], [titanic_age_sample['Pclass'], titanic_age_sample['Family_Size']], rownames=['Gender'], colnames=['Pclass', 'Family_Size'])\n",
    "\n",
    "print(\"The chi-stats between 'Gender' and ('Pclass', 'Family_Size') is %f. \" % (get_chi_square(gender_pf_contingency)) + (\"It's bigger than chi-critical value %f.\" % (chi2.isf(q=0.05, df=len(gender_pf_contingency)-1)) if get_chi_square(gender_pf_contingency) > chi2.isf(q=0.05, df=len(gender_pf_contingency)-1) else \"It's smaller than chi-critical value %f.\" % (chi2.isf(q=0.05, df=len(gender_pf_contingency)-1))))"
   ]
  },
  {
   "cell_type": "markdown",
   "metadata": {},
   "source": [
    "After calculating results above, I can see `Age` strong associates with `Pclass` and `Family_Size`, while the relations towards `Embarked` are not obvious. And `Gender` has a strong relationship with `Age`, because `Gender` is connected with `Pclass` and `Family_Size` together.\n",
    "\n",
    "So I will use `Pclass` and `Family_Size` as indicators to guess missing values in `Age` feature.\n",
    "* Split data by these 2 features, and combine to form groups;\n",
    "* Find the mean of each group;\n",
    "* Fill missing values by these means we get;"
   ]
  },
  {
   "cell_type": "code",
   "execution_count": 37,
   "metadata": {},
   "outputs": [],
   "source": [
    "titanic_age_pivot = pd.pivot_table(titanic_age_sample, values='Age', index=['PassengerId'], columns=['Pclass', 'Family_Size'])"
   ]
  },
  {
   "cell_type": "code",
   "execution_count": 38,
   "metadata": {},
   "outputs": [
    {
     "data": {
      "text/plain": [
       "{(1, 1): (5.0423547151959554, 1.6670538708461291),\n",
       " (1, 2): (4.6205675032013298, 1.7006206526524048),\n",
       " (1, 3): (4.9107816034179441, 1.9778500819039297),\n",
       " (1, 4): (2.1897102646034536, 1.856449341321956),\n",
       " (1, 5): (2.3975873335008795, 0.26656450660462966),\n",
       " (1, 6): (4.0311636089469713, 2.6527794309406065),\n",
       " (2, 1): (4.186549276173027, 1.5635067980955473),\n",
       " (2, 2): (3.7890838667711364, 1.2963445330853856),\n",
       " (2, 3): (2.5245847149145924, 2.0264348918232464),\n",
       " (2, 4): (2.6344075627815258, 1.8083203112987067),\n",
       " (2, 5): (6.7328474491078154, 0.0001),\n",
       " (2, 6): (2.9630560442322191, 0.0001),\n",
       " (3, 1): (3.469621764262377, 1.3027665816676444),\n",
       " (3, 2): (2.882035448006798, 1.4382152172204303),\n",
       " (3, 3): (2.716696869089033, 1.5693792967101228),\n",
       " (3, 4): (1.5718235019567011, 1.7756813453682441),\n",
       " (3, 5): (2.0834380497612464, 1.9513414342011546),\n",
       " (3, 6): (1.8025516313587511, 1.9771595637447699),\n",
       " (3, 7): (1.8530619083521822, 1.8513416464917232),\n",
       " (3, 8): (1.9158917651001088, 1.8047231544956428)}"
      ]
     },
     "execution_count": 38,
     "metadata": {},
     "output_type": "execute_result"
    }
   ],
   "source": [
    "# Create a dict to store mean age for each specific group of (Pclass, Family_Size) \n",
    "age_pivot_pf_dict = {}\n",
    "for col in titanic_age_pivot.columns:\n",
    "    age_pivot_pf_dict[col] = (titanic_age_pivot.mean()[col], titanic_age_pivot.std()[col] if titanic_age_pivot.std()[col] > 0 else 0.0001)\n",
    "age_pivot_pf_dict"
   ]
  },
  {
   "cell_type": "markdown",
   "metadata": {},
   "source": [
    "Now we have a mapping table for each missing `Age` value of (`Pclass`, `Family_Size`). But I need to double-check if keys in this dictionary satisfy all missing values' mapping, which means, all data have their corresponding mapping keys and values in this dictionary.\n",
    "\n",
    "I will create a groupby object from source dataframe by (`Pclass`, `Family_Size`), and compare the dictionary with this groupby object."
   ]
  },
  {
   "cell_type": "code",
   "execution_count": 59,
   "metadata": {},
   "outputs": [
    {
     "data": {
      "text/plain": [
       "Pclass  Family_Size\n",
       "1       1              21.0\n",
       "        2               6.0\n",
       "        3               0.0\n",
       "        4               0.0\n",
       "        5               0.0\n",
       "        6               0.0\n",
       "2       1              10.0\n",
       "        2               0.0\n",
       "        3               0.0\n",
       "        4               0.0\n",
       "        5               0.0\n",
       "        6               0.0\n",
       "3       1              78.0\n",
       "        2              13.0\n",
       "        3               5.0\n",
       "        4               2.0\n",
       "        5               4.0\n",
       "        6               0.0\n",
       "        7               0.0\n",
       "        8               0.0\n",
       "        11              7.0\n",
       "Name: Age, dtype: float64"
      ]
     },
     "execution_count": 59,
     "metadata": {},
     "output_type": "execute_result"
    }
   ],
   "source": [
    "# Split source dataframe by 'Pclass' and 'Family_Size'\n",
    "df_groupby_pclass_familysize = titanic_df.groupby(['Pclass', 'Family_Size'])"
   ]
  },
  {
   "cell_type": "code",
   "execution_count": 67,
   "metadata": {},
   "outputs": [
    {
     "name": "stdout",
     "output_type": "stream",
     "text": [
      "(3, 11) is missing in the mapping dictionary.\n"
     ]
    }
   ],
   "source": [
    "# Discover how many missing data for 'Age' in each groupby categories\n",
    "# Compare groupby categories to our mapping table\n",
    "for key, value in df_groupby_pclass_familysize['Age'].agg(lambda x:x.isnull().sum()).items():\n",
    "    if value != 0:\n",
    "        try:\n",
    "            age_pivot_pf_dict[key]\n",
    "        except KeyError:\n",
    "            print(\"%s is missing in the mapping dictionary.\" % str(key))"
   ]
  },
  {
   "cell_type": "code",
   "execution_count": 68,
   "metadata": {},
   "outputs": [
    {
     "data": {
      "text/html": [
       "<div>\n",
       "<style>\n",
       "    .dataframe thead tr:only-child th {\n",
       "        text-align: right;\n",
       "    }\n",
       "\n",
       "    .dataframe thead th {\n",
       "        text-align: left;\n",
       "    }\n",
       "\n",
       "    .dataframe tbody tr th {\n",
       "        vertical-align: top;\n",
       "    }\n",
       "</style>\n",
       "<table border=\"1\" class=\"dataframe\">\n",
       "  <thead>\n",
       "    <tr style=\"text-align: right;\">\n",
       "      <th></th>\n",
       "      <th>PassengerId</th>\n",
       "      <th>Survived</th>\n",
       "      <th>Pclass</th>\n",
       "      <th>Age</th>\n",
       "      <th>Sib_Sp</th>\n",
       "      <th>Par_Ch</th>\n",
       "      <th>Fare</th>\n",
       "      <th>Family_Size</th>\n",
       "    </tr>\n",
       "  </thead>\n",
       "  <tbody>\n",
       "    <tr>\n",
       "      <th>count</th>\n",
       "      <td>7.000000</td>\n",
       "      <td>7.0</td>\n",
       "      <td>7.0</td>\n",
       "      <td>0.0</td>\n",
       "      <td>7.0</td>\n",
       "      <td>7.0</td>\n",
       "      <td>7.00</td>\n",
       "      <td>7.0</td>\n",
       "    </tr>\n",
       "    <tr>\n",
       "      <th>mean</th>\n",
       "      <td>481.714286</td>\n",
       "      <td>0.0</td>\n",
       "      <td>3.0</td>\n",
       "      <td>NaN</td>\n",
       "      <td>8.0</td>\n",
       "      <td>2.0</td>\n",
       "      <td>69.55</td>\n",
       "      <td>11.0</td>\n",
       "    </tr>\n",
       "    <tr>\n",
       "      <th>std</th>\n",
       "      <td>334.963537</td>\n",
       "      <td>0.0</td>\n",
       "      <td>0.0</td>\n",
       "      <td>NaN</td>\n",
       "      <td>0.0</td>\n",
       "      <td>0.0</td>\n",
       "      <td>0.00</td>\n",
       "      <td>0.0</td>\n",
       "    </tr>\n",
       "    <tr>\n",
       "      <th>min</th>\n",
       "      <td>160.000000</td>\n",
       "      <td>0.0</td>\n",
       "      <td>3.0</td>\n",
       "      <td>NaN</td>\n",
       "      <td>8.0</td>\n",
       "      <td>2.0</td>\n",
       "      <td>69.55</td>\n",
       "      <td>11.0</td>\n",
       "    </tr>\n",
       "    <tr>\n",
       "      <th>25%</th>\n",
       "      <td>191.500000</td>\n",
       "      <td>0.0</td>\n",
       "      <td>3.0</td>\n",
       "      <td>NaN</td>\n",
       "      <td>8.0</td>\n",
       "      <td>2.0</td>\n",
       "      <td>69.55</td>\n",
       "      <td>11.0</td>\n",
       "    </tr>\n",
       "    <tr>\n",
       "      <th>50%</th>\n",
       "      <td>325.000000</td>\n",
       "      <td>0.0</td>\n",
       "      <td>3.0</td>\n",
       "      <td>NaN</td>\n",
       "      <td>8.0</td>\n",
       "      <td>2.0</td>\n",
       "      <td>69.55</td>\n",
       "      <td>11.0</td>\n",
       "    </tr>\n",
       "    <tr>\n",
       "      <th>75%</th>\n",
       "      <td>820.000000</td>\n",
       "      <td>0.0</td>\n",
       "      <td>3.0</td>\n",
       "      <td>NaN</td>\n",
       "      <td>8.0</td>\n",
       "      <td>2.0</td>\n",
       "      <td>69.55</td>\n",
       "      <td>11.0</td>\n",
       "    </tr>\n",
       "    <tr>\n",
       "      <th>max</th>\n",
       "      <td>864.000000</td>\n",
       "      <td>0.0</td>\n",
       "      <td>3.0</td>\n",
       "      <td>NaN</td>\n",
       "      <td>8.0</td>\n",
       "      <td>2.0</td>\n",
       "      <td>69.55</td>\n",
       "      <td>11.0</td>\n",
       "    </tr>\n",
       "  </tbody>\n",
       "</table>\n",
       "</div>"
      ],
      "text/plain": [
       "       PassengerId  Survived  Pclass  Age  Sib_Sp  Par_Ch   Fare  Family_Size\n",
       "count     7.000000       7.0     7.0  0.0     7.0     7.0   7.00          7.0\n",
       "mean    481.714286       0.0     3.0  NaN     8.0     2.0  69.55         11.0\n",
       "std     334.963537       0.0     0.0  NaN     0.0     0.0   0.00          0.0\n",
       "min     160.000000       0.0     3.0  NaN     8.0     2.0  69.55         11.0\n",
       "25%     191.500000       0.0     3.0  NaN     8.0     2.0  69.55         11.0\n",
       "50%     325.000000       0.0     3.0  NaN     8.0     2.0  69.55         11.0\n",
       "75%     820.000000       0.0     3.0  NaN     8.0     2.0  69.55         11.0\n",
       "max     864.000000       0.0     3.0  NaN     8.0     2.0  69.55         11.0"
      ]
     },
     "execution_count": 68,
     "metadata": {},
     "output_type": "execute_result"
    }
   ],
   "source": [
    "df_groupby_pclass_familysize.get_group((3,11)).describe()"
   ]
  },
  {
   "cell_type": "markdown",
   "metadata": {},
   "source": [
    "Obviously, for passengers who live in 3rd class cabin and with family_size = 11, all age data are missing."
   ]
  },
  {
   "cell_type": "code",
   "execution_count": 69,
   "metadata": {},
   "outputs": [
    {
     "data": {
      "text/plain": [
       "159           Sage, Master. Thomas Henry\n",
       "180         Sage, Miss. Constance Gladys\n",
       "201                  Sage, Mr. Frederick\n",
       "324             Sage, Mr. George John Jr\n",
       "792              Sage, Miss. Stella Anna\n",
       "846             Sage, Mr. Douglas Bullen\n",
       "863    Sage, Miss. Dorothy Edith \"Dolly\"\n",
       "Name: Name, dtype: object"
      ]
     },
     "execution_count": 69,
     "metadata": {},
     "output_type": "execute_result"
    }
   ],
   "source": [
    "df_groupby_pclass_familysize.get_group((3,11))['Name']"
   ]
  },
  {
   "cell_type": "markdown",
   "metadata": {},
   "source": [
    "We spot a bit strange in (Pclass:3, Family_Size:11) group since there's basically no data in it, and all of them have same family name: Sage. We can conclude it's a poor big Sage family with parents and children. None of them survived. R.I.P.\n",
    "\n",
    "It's difficult to fill age data with such a family. I will remove them all from dataset."
   ]
  },
  {
   "cell_type": "code",
   "execution_count": 70,
   "metadata": {
    "collapsed": true
   },
   "outputs": [],
   "source": [
    "# Remove Sage family in Titanic dataframe\n",
    "titanic_df = titanic_df.drop(list(df_groupby_pclass_familysize.get_group((3,11)).index))"
   ]
  },
  {
   "cell_type": "markdown",
   "metadata": {},
   "source": [
    "Loop each row and mapping missing `Age` values to correspongding `PassengerId`. We will use this dictionary to fill original Titanic dataframe."
   ]
  },
  {
   "cell_type": "code",
   "execution_count": 71,
   "metadata": {},
   "outputs": [
    {
     "name": "stdout",
     "output_type": "stream",
     "text": [
      "0\n"
     ]
    }
   ],
   "source": [
    "# Fill missing values in Age based on our \"Mapping\" table\n",
    "for index in titanic_df[titanic_df['Age'].isnull() == True]['PassengerId'].values:\n",
    "    key = (titanic_df[titanic_df['PassengerId']==index]['Pclass'].values[0], titanic_df[titanic_df['PassengerId']==index]['Family_Size'].values[0])\n",
    "    value = np.random.normal(age_pivot_pf_dict[key][0], 0.5*age_pivot_pf_dict[key][1])\n",
    "    \n",
    "    titanic_df.loc[titanic_df['PassengerId'] == index,'Age'] = value\n",
    "\n",
    "print(titanic_df['Age'].isnull().sum())"
   ]
  },
  {
   "cell_type": "code",
   "execution_count": 72,
   "metadata": {
    "scrolled": true
   },
   "outputs": [
    {
     "name": "stdout",
     "output_type": "stream",
     "text": [
      "count    884.000000\n",
      "mean       3.660749\n",
      "std        1.697506\n",
      "min        0.000000\n",
      "25%        2.586077\n",
      "50%        3.465695\n",
      "75%        4.569763\n",
      "max       10.000000\n",
      "Name: Age, dtype: float64\n",
      "----------------------------------------\n",
      "Mode is 2.963056\n"
     ]
    }
   ],
   "source": [
    "print(titanic_df['Age'].describe())\n",
    "print(\"\\n\")\n",
    "print('Mode is %f'%titanic_df['Age'].mode())"
   ]
  },
  {
   "cell_type": "markdown",
   "metadata": {},
   "source": [
    "All set! No more missing value in `Age` feature!"
   ]
  },
  {
   "cell_type": "markdown",
   "metadata": {},
   "source": [
    "### Wrangle Data\n",
    "1. Convert data types from float to int\n",
    "2. Drop column by crosstab() and correlation\n",
    "3. Rearrage columns"
   ]
  },
  {
   "cell_type": "code",
   "execution_count": 74,
   "metadata": {
    "collapsed": true
   },
   "outputs": [],
   "source": [
    "# Convert float to int\n",
    "def convert_int_helper(data):\n",
    "    return int(round(data))\n",
    "\n",
    "titanic_df['Fare'] = titanic_df['Fare'].apply(convert_int_helper)"
   ]
  },
  {
   "cell_type": "code",
   "execution_count": 75,
   "metadata": {},
   "outputs": [
    {
     "data": {
      "text/plain": [
       "PassengerId      int64\n",
       "Survived         int64\n",
       "Pclass           int64\n",
       "Name            object\n",
       "Gender          object\n",
       "Age            float64\n",
       "Fare             int64\n",
       "Embarked        object\n",
       "Family_Size      int64\n",
       "Alone             bool\n",
       "Title           object\n",
       "dtype: object"
      ]
     },
     "execution_count": 75,
     "metadata": {},
     "output_type": "execute_result"
    }
   ],
   "source": [
    "# Drop columns\n",
    "titanic_df = titanic_df.drop(['Sib_Sp', 'Par_Ch', 'Ticket'], axis=1)\n",
    "titanic_df.dtypes"
   ]
  },
  {
   "cell_type": "code",
   "execution_count": 76,
   "metadata": {},
   "outputs": [
    {
     "data": {
      "text/html": [
       "<div>\n",
       "<style>\n",
       "    .dataframe thead tr:only-child th {\n",
       "        text-align: right;\n",
       "    }\n",
       "\n",
       "    .dataframe thead th {\n",
       "        text-align: left;\n",
       "    }\n",
       "\n",
       "    .dataframe tbody tr th {\n",
       "        vertical-align: top;\n",
       "    }\n",
       "</style>\n",
       "<table border=\"1\" class=\"dataframe\">\n",
       "  <thead>\n",
       "    <tr style=\"text-align: right;\">\n",
       "      <th></th>\n",
       "      <th>PassengerId</th>\n",
       "      <th>Survived</th>\n",
       "      <th>Name</th>\n",
       "      <th>Title</th>\n",
       "      <th>Gender</th>\n",
       "      <th>Age</th>\n",
       "      <th>Alone</th>\n",
       "      <th>Family_Size</th>\n",
       "      <th>Pclass</th>\n",
       "      <th>Fare</th>\n",
       "      <th>Embarked</th>\n",
       "    </tr>\n",
       "  </thead>\n",
       "  <tbody>\n",
       "    <tr>\n",
       "      <th>0</th>\n",
       "      <td>1</td>\n",
       "      <td>0</td>\n",
       "      <td>Braund, Mr. Owen Harris</td>\n",
       "      <td>Mr</td>\n",
       "      <td>male</td>\n",
       "      <td>2.711737</td>\n",
       "      <td>False</td>\n",
       "      <td>2</td>\n",
       "      <td>3</td>\n",
       "      <td>7</td>\n",
       "      <td>S</td>\n",
       "    </tr>\n",
       "    <tr>\n",
       "      <th>1</th>\n",
       "      <td>2</td>\n",
       "      <td>1</td>\n",
       "      <td>Cumings, Mrs. John Bradley (Florence Briggs Th...</td>\n",
       "      <td>Mrs</td>\n",
       "      <td>female</td>\n",
       "      <td>4.722292</td>\n",
       "      <td>False</td>\n",
       "      <td>2</td>\n",
       "      <td>1</td>\n",
       "      <td>71</td>\n",
       "      <td>C</td>\n",
       "    </tr>\n",
       "    <tr>\n",
       "      <th>2</th>\n",
       "      <td>3</td>\n",
       "      <td>1</td>\n",
       "      <td>Heikkinen, Miss. Laina</td>\n",
       "      <td>Miss</td>\n",
       "      <td>female</td>\n",
       "      <td>3.214375</td>\n",
       "      <td>True</td>\n",
       "      <td>1</td>\n",
       "      <td>3</td>\n",
       "      <td>8</td>\n",
       "      <td>S</td>\n",
       "    </tr>\n",
       "    <tr>\n",
       "      <th>3</th>\n",
       "      <td>4</td>\n",
       "      <td>1</td>\n",
       "      <td>Futrelle, Mrs. Jacques Heath (Lily May Peel)</td>\n",
       "      <td>Mrs</td>\n",
       "      <td>female</td>\n",
       "      <td>4.345313</td>\n",
       "      <td>False</td>\n",
       "      <td>2</td>\n",
       "      <td>1</td>\n",
       "      <td>53</td>\n",
       "      <td>S</td>\n",
       "    </tr>\n",
       "    <tr>\n",
       "      <th>4</th>\n",
       "      <td>5</td>\n",
       "      <td>0</td>\n",
       "      <td>Allen, Mr. William Henry</td>\n",
       "      <td>Mr</td>\n",
       "      <td>male</td>\n",
       "      <td>4.345313</td>\n",
       "      <td>True</td>\n",
       "      <td>1</td>\n",
       "      <td>3</td>\n",
       "      <td>8</td>\n",
       "      <td>S</td>\n",
       "    </tr>\n",
       "  </tbody>\n",
       "</table>\n",
       "</div>"
      ],
      "text/plain": [
       "   PassengerId  Survived                                               Name  \\\n",
       "0            1         0                            Braund, Mr. Owen Harris   \n",
       "1            2         1  Cumings, Mrs. John Bradley (Florence Briggs Th...   \n",
       "2            3         1                             Heikkinen, Miss. Laina   \n",
       "3            4         1       Futrelle, Mrs. Jacques Heath (Lily May Peel)   \n",
       "4            5         0                           Allen, Mr. William Henry   \n",
       "\n",
       "  Title  Gender       Age  Alone  Family_Size  Pclass  Fare Embarked  \n",
       "0    Mr    male  2.711737  False            2       3     7        S  \n",
       "1   Mrs  female  4.722292  False            2       1    71        C  \n",
       "2  Miss  female  3.214375   True            1       3     8        S  \n",
       "3   Mrs  female  4.345313  False            2       1    53        S  \n",
       "4    Mr    male  4.345313   True            1       3     8        S  "
      ]
     },
     "execution_count": 76,
     "metadata": {},
     "output_type": "execute_result"
    }
   ],
   "source": [
    "# Rearrange columns\n",
    "titanic_df = titanic_df[['PassengerId', 'Survived', 'Name', 'Title', 'Gender', 'Age', 'Alone', 'Family_Size', 'Pclass', 'Fare', 'Embarked']]\n",
    "titanic_df.head()"
   ]
  },
  {
   "cell_type": "markdown",
   "metadata": {},
   "source": [
    "## 3. EXPLORATORATION\n",
    "We finally come to the phrase of exploration!"
   ]
  },
  {
   "cell_type": "code",
   "execution_count": 77,
   "metadata": {},
   "outputs": [
    {
     "name": "stdout",
     "output_type": "stream",
     "text": [
      "<class 'pandas.core.frame.DataFrame'>\n",
      "Int64Index: 884 entries, 0 to 890\n",
      "Data columns (total 11 columns):\n",
      "PassengerId    884 non-null int64\n",
      "Survived       884 non-null int64\n",
      "Name           884 non-null object\n",
      "Title          884 non-null object\n",
      "Gender         884 non-null object\n",
      "Age            884 non-null float64\n",
      "Alone          884 non-null bool\n",
      "Family_Size    884 non-null int64\n",
      "Pclass         884 non-null int64\n",
      "Fare           884 non-null int64\n",
      "Embarked       884 non-null object\n",
      "dtypes: bool(1), float64(1), int64(5), object(4)\n",
      "memory usage: 76.8+ KB\n"
     ]
    }
   ],
   "source": [
    "titanic_df.info()"
   ]
  },
  {
   "cell_type": "code",
   "execution_count": 79,
   "metadata": {},
   "outputs": [
    {
     "data": {
      "text/html": [
       "<div>\n",
       "<style>\n",
       "    .dataframe thead tr:only-child th {\n",
       "        text-align: right;\n",
       "    }\n",
       "\n",
       "    .dataframe thead th {\n",
       "        text-align: left;\n",
       "    }\n",
       "\n",
       "    .dataframe tbody tr th {\n",
       "        vertical-align: top;\n",
       "    }\n",
       "</style>\n",
       "<table border=\"1\" class=\"dataframe\">\n",
       "  <thead>\n",
       "    <tr style=\"text-align: right;\">\n",
       "      <th></th>\n",
       "      <th>PassengerId</th>\n",
       "      <th>Survived</th>\n",
       "      <th>Age</th>\n",
       "      <th>Family_Size</th>\n",
       "      <th>Pclass</th>\n",
       "      <th>Fare</th>\n",
       "    </tr>\n",
       "  </thead>\n",
       "  <tbody>\n",
       "    <tr>\n",
       "      <th>count</th>\n",
       "      <td>884.000000</td>\n",
       "      <td>884.000000</td>\n",
       "      <td>884.000000</td>\n",
       "      <td>884.000000</td>\n",
       "      <td>884.000000</td>\n",
       "      <td>884.000000</td>\n",
       "    </tr>\n",
       "    <tr>\n",
       "      <th>mean</th>\n",
       "      <td>445.717195</td>\n",
       "      <td>0.386878</td>\n",
       "      <td>3.660749</td>\n",
       "      <td>1.832579</td>\n",
       "      <td>2.303167</td>\n",
       "      <td>31.915158</td>\n",
       "    </tr>\n",
       "    <tr>\n",
       "      <th>std</th>\n",
       "      <td>256.872441</td>\n",
       "      <td>0.487311</td>\n",
       "      <td>1.697506</td>\n",
       "      <td>1.401028</td>\n",
       "      <td>0.837101</td>\n",
       "      <td>49.775471</td>\n",
       "    </tr>\n",
       "    <tr>\n",
       "      <th>min</th>\n",
       "      <td>1.000000</td>\n",
       "      <td>0.000000</td>\n",
       "      <td>0.000000</td>\n",
       "      <td>1.000000</td>\n",
       "      <td>1.000000</td>\n",
       "      <td>0.000000</td>\n",
       "    </tr>\n",
       "    <tr>\n",
       "      <th>25%</th>\n",
       "      <td>224.750000</td>\n",
       "      <td>0.000000</td>\n",
       "      <td>2.586077</td>\n",
       "      <td>1.000000</td>\n",
       "      <td>2.000000</td>\n",
       "      <td>8.000000</td>\n",
       "    </tr>\n",
       "    <tr>\n",
       "      <th>50%</th>\n",
       "      <td>446.500000</td>\n",
       "      <td>0.000000</td>\n",
       "      <td>3.465695</td>\n",
       "      <td>1.000000</td>\n",
       "      <td>3.000000</td>\n",
       "      <td>14.000000</td>\n",
       "    </tr>\n",
       "    <tr>\n",
       "      <th>75%</th>\n",
       "      <td>667.250000</td>\n",
       "      <td>1.000000</td>\n",
       "      <td>4.569763</td>\n",
       "      <td>2.000000</td>\n",
       "      <td>3.000000</td>\n",
       "      <td>30.000000</td>\n",
       "    </tr>\n",
       "    <tr>\n",
       "      <th>max</th>\n",
       "      <td>891.000000</td>\n",
       "      <td>1.000000</td>\n",
       "      <td>10.000000</td>\n",
       "      <td>8.000000</td>\n",
       "      <td>3.000000</td>\n",
       "      <td>512.000000</td>\n",
       "    </tr>\n",
       "  </tbody>\n",
       "</table>\n",
       "</div>"
      ],
      "text/plain": [
       "       PassengerId    Survived         Age  Family_Size      Pclass  \\\n",
       "count   884.000000  884.000000  884.000000   884.000000  884.000000   \n",
       "mean    445.717195    0.386878    3.660749     1.832579    2.303167   \n",
       "std     256.872441    0.487311    1.697506     1.401028    0.837101   \n",
       "min       1.000000    0.000000    0.000000     1.000000    1.000000   \n",
       "25%     224.750000    0.000000    2.586077     1.000000    2.000000   \n",
       "50%     446.500000    0.000000    3.465695     1.000000    3.000000   \n",
       "75%     667.250000    1.000000    4.569763     2.000000    3.000000   \n",
       "max     891.000000    1.000000   10.000000     8.000000    3.000000   \n",
       "\n",
       "             Fare  \n",
       "count  884.000000  \n",
       "mean    31.915158  \n",
       "std     49.775471  \n",
       "min      0.000000  \n",
       "25%      8.000000  \n",
       "50%     14.000000  \n",
       "75%     30.000000  \n",
       "max    512.000000  "
      ]
     },
     "execution_count": 79,
     "metadata": {},
     "output_type": "execute_result"
    }
   ],
   "source": [
    "titanic_df.describe(include=[np.number])"
   ]
  },
  {
   "cell_type": "code",
   "execution_count": 80,
   "metadata": {
    "scrolled": true
   },
   "outputs": [
    {
     "data": {
      "text/html": [
       "<div>\n",
       "<style>\n",
       "    .dataframe thead tr:only-child th {\n",
       "        text-align: right;\n",
       "    }\n",
       "\n",
       "    .dataframe thead th {\n",
       "        text-align: left;\n",
       "    }\n",
       "\n",
       "    .dataframe tbody tr th {\n",
       "        vertical-align: top;\n",
       "    }\n",
       "</style>\n",
       "<table border=\"1\" class=\"dataframe\">\n",
       "  <thead>\n",
       "    <tr style=\"text-align: right;\">\n",
       "      <th></th>\n",
       "      <th>Name</th>\n",
       "      <th>Title</th>\n",
       "      <th>Gender</th>\n",
       "      <th>Embarked</th>\n",
       "    </tr>\n",
       "  </thead>\n",
       "  <tbody>\n",
       "    <tr>\n",
       "      <th>count</th>\n",
       "      <td>884</td>\n",
       "      <td>884</td>\n",
       "      <td>884</td>\n",
       "      <td>884</td>\n",
       "    </tr>\n",
       "    <tr>\n",
       "      <th>unique</th>\n",
       "      <td>884</td>\n",
       "      <td>5</td>\n",
       "      <td>2</td>\n",
       "      <td>3</td>\n",
       "    </tr>\n",
       "    <tr>\n",
       "      <th>top</th>\n",
       "      <td>Ekstrom, Mr. Johan</td>\n",
       "      <td>Mr</td>\n",
       "      <td>male</td>\n",
       "      <td>S</td>\n",
       "    </tr>\n",
       "    <tr>\n",
       "      <th>freq</th>\n",
       "      <td>1</td>\n",
       "      <td>514</td>\n",
       "      <td>573</td>\n",
       "      <td>639</td>\n",
       "    </tr>\n",
       "  </tbody>\n",
       "</table>\n",
       "</div>"
      ],
      "text/plain": [
       "                      Name Title Gender Embarked\n",
       "count                  884   884    884      884\n",
       "unique                 884     5      2        3\n",
       "top     Ekstrom, Mr. Johan    Mr   male        S\n",
       "freq                     1   514    573      639"
      ]
     },
     "execution_count": 80,
     "metadata": {},
     "output_type": "execute_result"
    }
   ],
   "source": [
    "titanic_df.describe(include=[np.object])"
   ]
  },
  {
   "cell_type": "markdown",
   "metadata": {},
   "source": [
    "### Survival rate\n",
    "1. Calculate survival rate with potential features;\n",
    "2. Measure the significance between `survival` and other features;"
   ]
  },
  {
   "cell_type": "markdown",
   "metadata": {},
   "source": [
    "#### Survival and Gender\n",
    "\n",
    "Survival rate by `Gender`"
   ]
  },
  {
   "cell_type": "code",
   "execution_count": 128,
   "metadata": {},
   "outputs": [
    {
     "data": {
      "text/plain": [
       "Gender\n",
       "female    0.749196\n",
       "male      0.190227\n",
       "Name: Survived, dtype: float64"
      ]
     },
     "execution_count": 128,
     "metadata": {},
     "output_type": "execute_result"
    }
   ],
   "source": [
    "titanic_df.groupby('Gender')['Survived'].mean()"
   ]
  },
  {
   "cell_type": "code",
   "execution_count": 131,
   "metadata": {},
   "outputs": [
    {
     "ename": "KeyError",
     "evalue": "(0, 0)",
     "output_type": "error",
     "traceback": [
      "\u001b[0;31m---------------------------------------------------------------------------\u001b[0m",
      "\u001b[0;31mKeyError\u001b[0m                                  Traceback (most recent call last)",
      "\u001b[0;32m<ipython-input-131-fd544169f84b>\u001b[0m in \u001b[0;36m<module>\u001b[0;34m()\u001b[0m\n\u001b[1;32m      4\u001b[0m \u001b[0msurvived_values\u001b[0m\u001b[0;34m,\u001b[0m \u001b[0msex_values\u001b[0m\u001b[0;34m,\u001b[0m \u001b[0mtotal_num_ss\u001b[0m \u001b[0;34m=\u001b[0m \u001b[0;34m[\u001b[0m\u001b[0;34m]\u001b[0m\u001b[0;34m,\u001b[0m \u001b[0;34m[\u001b[0m\u001b[0;34m]\u001b[0m\u001b[0;34m,\u001b[0m \u001b[0;34m[\u001b[0m\u001b[0;34m]\u001b[0m\u001b[0;34m\u001b[0m\u001b[0m\n\u001b[1;32m      5\u001b[0m \u001b[0;32mfor\u001b[0m \u001b[0mtuple_data\u001b[0m \u001b[0;32min\u001b[0m \u001b[0;34m[\u001b[0m\u001b[0;34m(\u001b[0m\u001b[0mx\u001b[0m\u001b[0;34m,\u001b[0m\u001b[0my\u001b[0m\u001b[0;34m)\u001b[0m \u001b[0;32mfor\u001b[0m \u001b[0mx\u001b[0m \u001b[0;32min\u001b[0m \u001b[0mrange\u001b[0m\u001b[0;34m(\u001b[0m\u001b[0;36m2\u001b[0m\u001b[0;34m)\u001b[0m \u001b[0;32mfor\u001b[0m \u001b[0my\u001b[0m \u001b[0;32min\u001b[0m \u001b[0mrange\u001b[0m\u001b[0;34m(\u001b[0m\u001b[0;36m2\u001b[0m\u001b[0;34m)\u001b[0m\u001b[0;34m]\u001b[0m\u001b[0;34m:\u001b[0m\u001b[0;34m\u001b[0m\u001b[0m\n\u001b[0;32m----> 6\u001b[0;31m     \u001b[0mcount_num\u001b[0m \u001b[0;34m=\u001b[0m \u001b[0mlen\u001b[0m\u001b[0;34m(\u001b[0m\u001b[0mtitanic_df\u001b[0m\u001b[0;34m.\u001b[0m\u001b[0mgroupby\u001b[0m\u001b[0;34m(\u001b[0m\u001b[0;34m[\u001b[0m\u001b[0;34m'Survived'\u001b[0m\u001b[0;34m,\u001b[0m \u001b[0;34m'Gender'\u001b[0m\u001b[0;34m]\u001b[0m\u001b[0;34m)\u001b[0m\u001b[0;34m.\u001b[0m\u001b[0mget_group\u001b[0m\u001b[0;34m(\u001b[0m\u001b[0mtuple_data\u001b[0m\u001b[0;34m)\u001b[0m\u001b[0;34m.\u001b[0m\u001b[0mindex\u001b[0m\u001b[0;34m)\u001b[0m\u001b[0;34m\u001b[0m\u001b[0m\n\u001b[0m\u001b[1;32m      7\u001b[0m \u001b[0;34m\u001b[0m\u001b[0m\n\u001b[1;32m      8\u001b[0m     \u001b[0mtotal_num_ss\u001b[0m\u001b[0;34m.\u001b[0m\u001b[0mappend\u001b[0m\u001b[0;34m(\u001b[0m\u001b[0mcount_num\u001b[0m\u001b[0;34m)\u001b[0m\u001b[0;34m\u001b[0m\u001b[0m\n",
      "\u001b[0;32m/Users/hj/anaconda/lib/python3.6/site-packages/pandas/core/groupby.py\u001b[0m in \u001b[0;36mget_group\u001b[0;34m(self, name, obj)\u001b[0m\n\u001b[1;32m    638\u001b[0m         \u001b[0minds\u001b[0m \u001b[0;34m=\u001b[0m \u001b[0mself\u001b[0m\u001b[0;34m.\u001b[0m\u001b[0m_get_index\u001b[0m\u001b[0;34m(\u001b[0m\u001b[0mname\u001b[0m\u001b[0;34m)\u001b[0m\u001b[0;34m\u001b[0m\u001b[0m\n\u001b[1;32m    639\u001b[0m         \u001b[0;32mif\u001b[0m \u001b[0;32mnot\u001b[0m \u001b[0mlen\u001b[0m\u001b[0;34m(\u001b[0m\u001b[0minds\u001b[0m\u001b[0;34m)\u001b[0m\u001b[0;34m:\u001b[0m\u001b[0;34m\u001b[0m\u001b[0m\n\u001b[0;32m--> 640\u001b[0;31m             \u001b[0;32mraise\u001b[0m \u001b[0mKeyError\u001b[0m\u001b[0;34m(\u001b[0m\u001b[0mname\u001b[0m\u001b[0;34m)\u001b[0m\u001b[0;34m\u001b[0m\u001b[0m\n\u001b[0m\u001b[1;32m    641\u001b[0m \u001b[0;34m\u001b[0m\u001b[0m\n\u001b[1;32m    642\u001b[0m         \u001b[0;32mreturn\u001b[0m \u001b[0mobj\u001b[0m\u001b[0;34m.\u001b[0m\u001b[0mtake\u001b[0m\u001b[0;34m(\u001b[0m\u001b[0minds\u001b[0m\u001b[0;34m,\u001b[0m \u001b[0maxis\u001b[0m\u001b[0;34m=\u001b[0m\u001b[0mself\u001b[0m\u001b[0;34m.\u001b[0m\u001b[0maxis\u001b[0m\u001b[0;34m,\u001b[0m \u001b[0mconvert\u001b[0m\u001b[0;34m=\u001b[0m\u001b[0;32mFalse\u001b[0m\u001b[0;34m)\u001b[0m\u001b[0;34m\u001b[0m\u001b[0m\n",
      "\u001b[0;31mKeyError\u001b[0m: (0, 0)"
     ]
    }
   ],
   "source": [
    "dict_survived = {0:'Not Survived', 1:'Survived'}\n",
    "dict_sex = {0:'Female', 1:'Male'}\n",
    "\n",
    "survived_values, sex_values, total_num_ss = [], [], []\n",
    "for tuple_data in [(x,y) for x in range(2) for y in range(2)]:\n",
    "    count_num = len(titanic_df.groupby(['Survived', 'Gender']).get_group(tuple_data).index)\n",
    "    \n",
    "    total_num_ss.append(count_num)\n",
    "    survived_values.append(dict_survived[tuple_data[0]])\n",
    "    sex_values.append(dict_sex[tuple_data[1]])\n",
    "\n",
    "df_ss = pd.DataFrame({'Survival Status':survived_values, 'Sex':sex_values, 'Total_Num':total_num_ss})\n",
    "df_ss"
   ]
  },
  {
   "cell_type": "code",
   "execution_count": 98,
   "metadata": {},
   "outputs": [
    {
     "data": {
      "text/html": [
       "<div>\n",
       "<style>\n",
       "    .dataframe thead tr:only-child th {\n",
       "        text-align: right;\n",
       "    }\n",
       "\n",
       "    .dataframe thead th {\n",
       "        text-align: left;\n",
       "    }\n",
       "\n",
       "    .dataframe tbody tr th {\n",
       "        vertical-align: top;\n",
       "    }\n",
       "</style>\n",
       "<table border=\"1\" class=\"dataframe\">\n",
       "  <thead>\n",
       "    <tr style=\"text-align: right;\">\n",
       "      <th>Gender</th>\n",
       "      <th>female</th>\n",
       "      <th>male</th>\n",
       "    </tr>\n",
       "    <tr>\n",
       "      <th>Survival</th>\n",
       "      <th></th>\n",
       "      <th></th>\n",
       "    </tr>\n",
       "  </thead>\n",
       "  <tbody>\n",
       "    <tr>\n",
       "      <th>0</th>\n",
       "      <td>78</td>\n",
       "      <td>464</td>\n",
       "    </tr>\n",
       "    <tr>\n",
       "      <th>1</th>\n",
       "      <td>233</td>\n",
       "      <td>109</td>\n",
       "    </tr>\n",
       "  </tbody>\n",
       "</table>\n",
       "</div>"
      ],
      "text/plain": [
       "Gender    female  male\n",
       "Survival              \n",
       "0             78   464\n",
       "1            233   109"
      ]
     },
     "execution_count": 98,
     "metadata": {},
     "output_type": "execute_result"
    }
   ],
   "source": [
    "survival_gender_contingency = pd.crosstab(titanic_df['Survived'], titanic_df['Gender'], rownames=['Survival'], colnames=['Gender'])\n",
    "survival_gender_contingency"
   ]
  },
  {
   "cell_type": "code",
   "execution_count": 123,
   "metadata": {},
   "outputs": [
    {
     "data": {
      "text/html": [
       "<div>\n",
       "<style>\n",
       "    .dataframe thead tr:only-child th {\n",
       "        text-align: right;\n",
       "    }\n",
       "\n",
       "    .dataframe thead th {\n",
       "        text-align: left;\n",
       "    }\n",
       "\n",
       "    .dataframe tbody tr th {\n",
       "        vertical-align: top;\n",
       "    }\n",
       "</style>\n",
       "<table border=\"1\" class=\"dataframe\">\n",
       "  <thead>\n",
       "    <tr style=\"text-align: right;\">\n",
       "      <th>Gender</th>\n",
       "      <th>female</th>\n",
       "      <th>male</th>\n",
       "    </tr>\n",
       "    <tr>\n",
       "      <th>Survival</th>\n",
       "      <th></th>\n",
       "      <th></th>\n",
       "    </tr>\n",
       "  </thead>\n",
       "  <tbody>\n",
       "    <tr>\n",
       "      <th>0</th>\n",
       "      <td>0.250804</td>\n",
       "      <td>0.809773</td>\n",
       "    </tr>\n",
       "    <tr>\n",
       "      <th>1</th>\n",
       "      <td>0.749196</td>\n",
       "      <td>0.190227</td>\n",
       "    </tr>\n",
       "  </tbody>\n",
       "</table>\n",
       "</div>"
      ],
      "text/plain": [
       "Gender      female      male\n",
       "Survival                    \n",
       "0         0.250804  0.809773\n",
       "1         0.749196  0.190227"
      ]
     },
     "execution_count": 123,
     "metadata": {},
     "output_type": "execute_result"
    }
   ],
   "source": [
    "survival_gender_contingency_proportions = survival_gender_contingency / survival_gender_contingency.sum()\n",
    "survival_gender_contingency_proportions"
   ]
  },
  {
   "cell_type": "code",
   "execution_count": 127,
   "metadata": {},
   "outputs": [
    {
     "data": {
      "image/png": "[encoded data removed]",
      "text/plain": [
       "<matplotlib.figure.Figure at 0x119a453c8>"
      ]
     },
     "metadata": {},
     "output_type": "display_data"
    }
   ],
   "source": [
    "sns.set(style=\"whitegrid\")\n",
    "ax = sns.barplot(data=survival_gender_contingency)"
   ]
  },
  {
   "cell_type": "code",
   "execution_count": 91,
   "metadata": {},
   "outputs": [
    {
     "data": {
      "text/plain": [
       "311"
      ]
     },
     "execution_count": 91,
     "metadata": {},
     "output_type": "execute_result"
    }
   ],
   "source": [
    "survival_gender_contingency[survival_gender_contingency.columns[(survival_gender_contingency == 78).iloc[0]].values[0]].sum()"
   ]
  },
  {
   "cell_type": "markdown",
   "metadata": {},
   "source": [
    "---"
   ]
  },
  {
   "cell_type": "code",
   "execution_count": null,
   "metadata": {
    "collapsed": true,
    "scrolled": true
   },
   "outputs": [],
   "source": [
    "corr_df = titanic_df.corr()\n",
    "corr_df\n",
    "# sns.heatmap(corr_df, xticklabels=corr_df.columns, yticklabels=corr_df.columns)"
   ]
  },
  {
   "cell_type": "code",
   "execution_count": null,
   "metadata": {
    "collapsed": true
   },
   "outputs": [],
   "source": [
    "plt.matshow(corr_df)"
   ]
  },
  {
   "cell_type": "code",
   "execution_count": null,
   "metadata": {
    "collapsed": true,
    "scrolled": true
   },
   "outputs": [],
   "source": [
    "# https://stackoverflow.com/questions/29432629/correlation-matrix-using-pandas\n",
    "# Get code snippet from phanindravarma. Respect.\n",
    "\n",
    "f, ax = plt.subplots(figsize=(10, 6))\n",
    "sns.heatmap(corr_df, cmap=sns.diverging_palette(220, 10, as_cmap=True), square=True, ax=ax)"
   ]
  },
  {
   "cell_type": "markdown",
   "metadata": {},
   "source": [
    "As the heapmap indicates, `Survival` feature is mostly correlated with `Sex` and `Title`, which have **darkest colors** in the line of Survival. Let's look into these two features and visualize their associations with `Survival`.\n",
    "\n",
    "#### Survival and Gender"
   ]
  },
  {
   "cell_type": "code",
   "execution_count": null,
   "metadata": {
    "collapsed": true,
    "scrolled": true
   },
   "outputs": [],
   "source": [
    "# Sex and Survival\n",
    "print(\"The correlation between survived and sex: %f\" % titanic_df['Survived'].corr(titanic_df['Gender'], method='pearson'))\n",
    "print('-'*40)\n",
    "\n",
    "dict_survived = {0:'Not Survived', 1:'Survived'}\n",
    "dict_sex = {0:'Female', 1:'Male'}\n",
    "\n",
    "survived_values, sex_values, total_num_ss = [], [], []\n",
    "for tuple_data in [(x,y) for x in range(2) for y in range(2)]:\n",
    "    count_num = len(titanic_df.groupby(['Survived', 'Sex']).get_group(tuple_data).index)\n",
    "    \n",
    "    total_num_ss.append(count_num)\n",
    "    survived_values.append(dict_survived[tuple_data[0]])\n",
    "    sex_values.append(dict_sex[tuple_data[1]])\n",
    "\n",
    "df_ss = pd.DataFrame({'Survival Status':survived_values, 'Sex':sex_values, 'Total_Num':total_num_ss})\n",
    "\n",
    "sns.barplot(x=\"Survival Status\", y=\"Total_Num\", hue='Sex', data=df_ss)"
   ]
  },
  {
   "cell_type": "markdown",
   "metadata": {},
   "source": [
    "From the bar chart above, most female passengers survived, but most male passengers didn't make it.\n",
    "\n",
    "#### Survival and Title"
   ]
  },
  {
   "cell_type": "code",
   "execution_count": null,
   "metadata": {
    "collapsed": true
   },
   "outputs": [],
   "source": [
    "# Title and Survival\n",
    "print(\"The correlation between survived and title: %f\" % titanic_df['Survived'].corr(titanic_df['Title'], method='pearson'))\n",
    "print('-'*40)\n",
    "\n",
    "dict_title = {1:'Mr', 2:'Miss', 3:'Mrs', 4:'Master', 5:'Rare'}\n",
    "\n",
    "survived_values, title_values, total_num_st = [], [], []\n",
    "for tuple_data in [(x,y+1) for x in range(2) for y in range(5)]:\n",
    "    count_num = len(titanic_df.groupby(['Survived', 'Title']).get_group(tuple_data).index)\n",
    "    \n",
    "    total_num_st.append(count_num)\n",
    "    survived_values.append(dict_survived[tuple_data[0]])\n",
    "    title_values.append(dict_title[tuple_data[1]])\n",
    "    \n",
    "df_st = pd.DataFrame({'Survival Status':survived_values, 'Title':title_values, 'Total_Num':total_num_st})\n",
    "\n",
    "sns.barplot(x=\"Survival Status\", y=\"Total_Num\", hue='Title', data=df_st)"
   ]
  },
  {
   "cell_type": "markdown",
   "metadata": {},
   "source": [
    "It's more obvious here in this graph that the main difference between two categories, are the number of adult men in 'Not Survived' group. Therefore, we have this hypothese that need to be testing:\n",
    "* **`Gender` feature are the factor that made people more likely to survive or not.**"
   ]
  },
  {
   "cell_type": "markdown",
   "metadata": {},
   "source": [
    "### Hypothesis Testing\n",
    "Eliminate groups that only correlate to specific features (Alone - Family_Size, Sex - Title, Pclass - Fare);\n",
    "Population = Male, sample = Female * 30;\n",
    "\n",
    "#### 1. Identify variables\n",
    "\n",
    "- **Independent variable**: Gender of each passenger (male and female)\n",
    "- **Dependent variable**: Survival status of each passenger\n",
    "\n",
    "#### 2a. Establish hypothesis\n",
    "\n",
    "* **μ<sub>m</sub>** = male passengers survived population mean\n",
    "* **μ<sub>f</sub>** = female passengers survived population mean\n",
    "\n",
    "\n",
    "H<sub>0</sub>: μ<sub>f</sub> - μ<sub>m</sub> = 0\n",
    "* Null hypothesis: there’s NO difference in numbers between male and female survived means in the population.\n",
    "\n",
    "H<sub>a</sub>: μ<sub>f</sub> - μ<sub>m</sub> ＞ 0\n",
    "* Alternative hypothesis: there IS a difference in numbers between male and female survived means in the population. And the survived means of female is larger than the survived means of male.\n",
    "\n",
    "#### 2b. Establish a statistical test\n",
    "\n",
    "||Assumptions|\n",
    "|:---|:---|\n",
    "|1|Interval or ratio scale of measurement, approximately interval (Scales of measurement)|\n",
    "|2|Random sampling from a defined population (Experimental design, or Research design)|\n",
    "|3|Samples or sets of data used to produce the difference scores are linked in the population through repeated measurement, natural association, or matching (Research design)|\n",
    "|4|Scores are normally distributed in the population; difference scores are normally distributed (Based on Central Limit Theorem)|\n",
    "\n",
    "Since I have no idea about population (unknown population parameters), I will perform **2-sample t-test**, to see if the alternative hypothesis reject or fail to reject the null hypothesis.\n",
    "\n",
    "The test is a **independent test**, since different subjects take the test (*between-subject design*):\n",
    "* No carry-over effects.\n",
    "* No need to worry about one treatment can affect another."
   ]
  },
  {
   "cell_type": "markdown",
   "metadata": {},
   "source": [
    "Some features in dataset are connected with another features. So we will just keep some of them:\n",
    "* **`Sex`** and `Title`\n",
    "* **`Alone`** and `Family_Size`\n",
    "* **`Pclass`** and `Fare`"
   ]
  },
  {
   "cell_type": "code",
   "execution_count": null,
   "metadata": {
    "collapsed": true
   },
   "outputs": [],
   "source": [
    "# Wrangling data\n",
    "testing_df = titanic_df.drop(['Title', 'Family_Size', 'Fare'], axis=1)\n",
    "testing_df.head()"
   ]
  },
  {
   "cell_type": "code",
   "execution_count": null,
   "metadata": {
    "collapsed": true
   },
   "outputs": [],
   "source": [
    "# Compute t-statistics and p-value of two samples\n",
    "from scipy.stats import ttest_ind\n",
    "\n",
    "female_survived = testing_df.groupby('Sex').get_group((0))['Survived']\n",
    "male_survived = testing_df.groupby('Sex').get_group((1))['Survived']\n",
    "\n",
    "ts, pv = ttest_ind(female_survived, male_survived, equal_var = True if male_survived.var() == female_survived.var() else False)\n",
    "print(\"t-statistics is %.4f, and p-value is %.4f\"%(ts, pv))"
   ]
  },
  {
   "cell_type": "markdown",
   "metadata": {},
   "source": [
    "The t-statistics is so big that it's obviously larger than one-tailed `99th percentile z-value`, which is 2.3263. Plus, the P-value so small, we can safely draw our conclusion:\n",
    "* **Reject the null hypothesis**\n",
    "\n",
    "It appears that the quantity of survived female passengers are *significantly* larger than the number of survived male passengers, at a significant level of .01. This result match my expectation as stated above, when computing sample mean difference."
   ]
  },
  {
   "cell_type": "markdown",
   "metadata": {},
   "source": [
    "## 4. CONCLUSIONS"
   ]
  },
  {
   "cell_type": "markdown",
   "metadata": {},
   "source": [
    "Eventually, after all these steps, we come to a conclusion to answer the question I prosed at the beginning of this project: \"What factors made people more likely to survive?\"\n",
    "\n",
    "The answer is, the **`Gender`** of each passenger."
   ]
  }
 ],
 "metadata": {
  "kernelspec": {
   "display_name": "Python 3",
   "language": "python",
   "name": "python3"
  },
  "language_info": {
   "codemirror_mode": {
    "name": "ipython",
    "version": 3
   },
   "file_extension": ".py",
   "mimetype": "text/x-python",
   "name": "python",
   "nbconvert_exporter": "python",
   "pygments_lexer": "ipython3",
   "version": "3.6.0"
  }
 },
 "nbformat": 4,
 "nbformat_minor": 2
}
